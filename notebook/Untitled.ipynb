{
 "cells": [
  {
   "cell_type": "markdown",
   "id": "c1aa25ef-c81b-4b5f-8338-8c7aeb73d666",
   "metadata": {},
   "source": [
    "# EDA  \n",
    "概要: お弁当の販売数の回帰予測をすること。  \n",
    "実施日付: 2021-08-31  \n",
    "データセット: [https://signate.jp/competitions/24/data](https://signate.jp/competitions/24/data)"
   ]
  },
  {
   "cell_type": "code",
   "execution_count": 1,
   "id": "db79f02b-20ae-4710-81d0-9751fead109f",
   "metadata": {},
   "outputs": [],
   "source": [
    "import pandas as pd \n",
    "import numpy as np \n",
    "import matplotlib.pyplot as plt \n",
    "import seaborn as sns \n",
    "import plotly.express as px "
   ]
  },
  {
   "cell_type": "markdown",
   "id": "3c92671e-f534-4d5c-a9f5-bd46bcb56032",
   "metadata": {},
   "source": [
    "### 全体の傾向分析\n",
    "---"
   ]
  },
  {
   "cell_type": "code",
   "execution_count": 273,
   "id": "9ec034f6-ce83-4aff-a503-6cae8cad75a4",
   "metadata": {},
   "outputs": [
    {
     "data": {
      "text/html": [
       "<div>\n",
       "<style scoped>\n",
       "    .dataframe tbody tr th:only-of-type {\n",
       "        vertical-align: middle;\n",
       "    }\n",
       "\n",
       "    .dataframe tbody tr th {\n",
       "        vertical-align: top;\n",
       "    }\n",
       "\n",
       "    .dataframe thead th {\n",
       "        text-align: right;\n",
       "    }\n",
       "</style>\n",
       "<table border=\"1\" class=\"dataframe\">\n",
       "  <thead>\n",
       "    <tr style=\"text-align: right;\">\n",
       "      <th></th>\n",
       "      <th>datetime</th>\n",
       "      <th>y</th>\n",
       "      <th>week</th>\n",
       "      <th>soldout</th>\n",
       "      <th>name</th>\n",
       "      <th>kcal</th>\n",
       "      <th>remarks</th>\n",
       "      <th>event</th>\n",
       "      <th>payday</th>\n",
       "      <th>weather</th>\n",
       "      <th>precipitation</th>\n",
       "      <th>temperature</th>\n",
       "    </tr>\n",
       "  </thead>\n",
       "  <tbody>\n",
       "    <tr>\n",
       "      <th>0</th>\n",
       "      <td>2013-11-18</td>\n",
       "      <td>90</td>\n",
       "      <td>月</td>\n",
       "      <td>0</td>\n",
       "      <td>厚切りイカフライ</td>\n",
       "      <td>NaN</td>\n",
       "      <td>NaN</td>\n",
       "      <td>NaN</td>\n",
       "      <td>NaN</td>\n",
       "      <td>快晴</td>\n",
       "      <td>--</td>\n",
       "      <td>19.8</td>\n",
       "    </tr>\n",
       "    <tr>\n",
       "      <th>1</th>\n",
       "      <td>2013-11-19</td>\n",
       "      <td>101</td>\n",
       "      <td>火</td>\n",
       "      <td>1</td>\n",
       "      <td>手作りヒレカツ</td>\n",
       "      <td>NaN</td>\n",
       "      <td>NaN</td>\n",
       "      <td>NaN</td>\n",
       "      <td>NaN</td>\n",
       "      <td>快晴</td>\n",
       "      <td>--</td>\n",
       "      <td>17.0</td>\n",
       "    </tr>\n",
       "    <tr>\n",
       "      <th>2</th>\n",
       "      <td>2013-11-20</td>\n",
       "      <td>118</td>\n",
       "      <td>水</td>\n",
       "      <td>0</td>\n",
       "      <td>白身魚唐揚げ野菜あん</td>\n",
       "      <td>NaN</td>\n",
       "      <td>NaN</td>\n",
       "      <td>NaN</td>\n",
       "      <td>NaN</td>\n",
       "      <td>快晴</td>\n",
       "      <td>--</td>\n",
       "      <td>15.5</td>\n",
       "    </tr>\n",
       "    <tr>\n",
       "      <th>3</th>\n",
       "      <td>2013-11-21</td>\n",
       "      <td>120</td>\n",
       "      <td>木</td>\n",
       "      <td>1</td>\n",
       "      <td>若鶏ピリ辛焼</td>\n",
       "      <td>NaN</td>\n",
       "      <td>NaN</td>\n",
       "      <td>NaN</td>\n",
       "      <td>NaN</td>\n",
       "      <td>快晴</td>\n",
       "      <td>--</td>\n",
       "      <td>15.2</td>\n",
       "    </tr>\n",
       "    <tr>\n",
       "      <th>4</th>\n",
       "      <td>2013-11-22</td>\n",
       "      <td>130</td>\n",
       "      <td>金</td>\n",
       "      <td>1</td>\n",
       "      <td>ビッグメンチカツ</td>\n",
       "      <td>NaN</td>\n",
       "      <td>NaN</td>\n",
       "      <td>NaN</td>\n",
       "      <td>NaN</td>\n",
       "      <td>快晴</td>\n",
       "      <td>--</td>\n",
       "      <td>16.1</td>\n",
       "    </tr>\n",
       "    <tr>\n",
       "      <th>...</th>\n",
       "      <td>...</td>\n",
       "      <td>...</td>\n",
       "      <td>...</td>\n",
       "      <td>...</td>\n",
       "      <td>...</td>\n",
       "      <td>...</td>\n",
       "      <td>...</td>\n",
       "      <td>...</td>\n",
       "      <td>...</td>\n",
       "      <td>...</td>\n",
       "      <td>...</td>\n",
       "      <td>...</td>\n",
       "    </tr>\n",
       "    <tr>\n",
       "      <th>202</th>\n",
       "      <td>2014-09-24</td>\n",
       "      <td>59</td>\n",
       "      <td>水</td>\n",
       "      <td>1</td>\n",
       "      <td>白身魚のマスタード焼き</td>\n",
       "      <td>408.0</td>\n",
       "      <td>NaN</td>\n",
       "      <td>NaN</td>\n",
       "      <td>NaN</td>\n",
       "      <td>曇</td>\n",
       "      <td>0</td>\n",
       "      <td>24.8</td>\n",
       "    </tr>\n",
       "    <tr>\n",
       "      <th>203</th>\n",
       "      <td>2014-09-25</td>\n",
       "      <td>50</td>\n",
       "      <td>木</td>\n",
       "      <td>0</td>\n",
       "      <td>牛カルビ焼き肉</td>\n",
       "      <td>394.0</td>\n",
       "      <td>NaN</td>\n",
       "      <td>NaN</td>\n",
       "      <td>NaN</td>\n",
       "      <td>曇</td>\n",
       "      <td>0</td>\n",
       "      <td>25.4</td>\n",
       "    </tr>\n",
       "    <tr>\n",
       "      <th>204</th>\n",
       "      <td>2014-09-26</td>\n",
       "      <td>45</td>\n",
       "      <td>金</td>\n",
       "      <td>0</td>\n",
       "      <td>ランチビュッフェ</td>\n",
       "      <td>NaN</td>\n",
       "      <td>スペシャルメニュー（800円）</td>\n",
       "      <td>キャリアアップ支援セミナー</td>\n",
       "      <td>NaN</td>\n",
       "      <td>晴れ</td>\n",
       "      <td>--</td>\n",
       "      <td>27.1</td>\n",
       "    </tr>\n",
       "    <tr>\n",
       "      <th>205</th>\n",
       "      <td>2014-09-29</td>\n",
       "      <td>56</td>\n",
       "      <td>月</td>\n",
       "      <td>1</td>\n",
       "      <td>豚肉と玉子の炒め</td>\n",
       "      <td>404.0</td>\n",
       "      <td>NaN</td>\n",
       "      <td>NaN</td>\n",
       "      <td>NaN</td>\n",
       "      <td>快晴</td>\n",
       "      <td>--</td>\n",
       "      <td>26.6</td>\n",
       "    </tr>\n",
       "    <tr>\n",
       "      <th>206</th>\n",
       "      <td>2014-09-30</td>\n",
       "      <td>40</td>\n",
       "      <td>火</td>\n",
       "      <td>0</td>\n",
       "      <td>鶏肉とカシューナッツ炒め</td>\n",
       "      <td>398.0</td>\n",
       "      <td>NaN</td>\n",
       "      <td>NaN</td>\n",
       "      <td>NaN</td>\n",
       "      <td>快晴</td>\n",
       "      <td>--</td>\n",
       "      <td>28.1</td>\n",
       "    </tr>\n",
       "  </tbody>\n",
       "</table>\n",
       "<p>207 rows × 12 columns</p>\n",
       "</div>"
      ],
      "text/plain": [
       "      datetime    y week  soldout          name   kcal          remarks  \\\n",
       "0   2013-11-18   90    月        0      厚切りイカフライ    NaN              NaN   \n",
       "1   2013-11-19  101    火        1       手作りヒレカツ    NaN              NaN   \n",
       "2   2013-11-20  118    水        0    白身魚唐揚げ野菜あん    NaN              NaN   \n",
       "3   2013-11-21  120    木        1        若鶏ピリ辛焼    NaN              NaN   \n",
       "4   2013-11-22  130    金        1      ビッグメンチカツ    NaN              NaN   \n",
       "..         ...  ...  ...      ...           ...    ...              ...   \n",
       "202 2014-09-24   59    水        1   白身魚のマスタード焼き  408.0              NaN   \n",
       "203 2014-09-25   50    木        0       牛カルビ焼き肉  394.0              NaN   \n",
       "204 2014-09-26   45    金        0      ランチビュッフェ    NaN  スペシャルメニュー（800円）   \n",
       "205 2014-09-29   56    月        1      豚肉と玉子の炒め  404.0              NaN   \n",
       "206 2014-09-30   40    火        0  鶏肉とカシューナッツ炒め  398.0              NaN   \n",
       "\n",
       "             event  payday weather precipitation  temperature  \n",
       "0              NaN     NaN      快晴            --         19.8  \n",
       "1              NaN     NaN      快晴            --         17.0  \n",
       "2              NaN     NaN      快晴            --         15.5  \n",
       "3              NaN     NaN      快晴            --         15.2  \n",
       "4              NaN     NaN      快晴            --         16.1  \n",
       "..             ...     ...     ...           ...          ...  \n",
       "202            NaN     NaN       曇             0         24.8  \n",
       "203            NaN     NaN       曇             0         25.4  \n",
       "204  キャリアアップ支援セミナー     NaN      晴れ            --         27.1  \n",
       "205            NaN     NaN      快晴            --         26.6  \n",
       "206            NaN     NaN      快晴            --         28.1  \n",
       "\n",
       "[207 rows x 12 columns]"
      ]
     },
     "execution_count": 273,
     "metadata": {},
     "output_type": "execute_result"
    }
   ],
   "source": [
    "df_ = pd.read_csv(\"../data/raw/train.csv\")\n",
    "df_[\"datetime\"] = pd.to_datetime(df_.datetime)\n",
    "df_"
   ]
  },
  {
   "cell_type": "code",
   "execution_count": 65,
   "id": "322c7248-8929-40c2-93ce-f3e0298f1bf0",
   "metadata": {},
   "outputs": [
    {
     "data": {
      "text/plain": [
       "datetime         0.000000\n",
       "y                0.000000\n",
       "week             0.000000\n",
       "soldout          0.000000\n",
       "name             0.000000\n",
       "kcal             0.198068\n",
       "remarks          0.898551\n",
       "event            0.932367\n",
       "payday           0.951691\n",
       "weather          0.000000\n",
       "precipitation    0.000000\n",
       "temperature      0.000000\n",
       "dtype: float64"
      ]
     },
     "execution_count": 65,
     "metadata": {},
     "output_type": "execute_result"
    }
   ],
   "source": [
    "df.isnull().sum() / df.shape[0]"
   ]
  },
  {
   "cell_type": "code",
   "execution_count": 50,
   "id": "837267cf-f7e9-48a4-9843-abc6b45f8436",
   "metadata": {},
   "outputs": [
    {
     "data": {
      "text/plain": [
       "<seaborn.axisgrid.PairGrid at 0x7f4b160e6bb0>"
      ]
     },
     "execution_count": 50,
     "metadata": {},
     "output_type": "execute_result"
    },
    {
     "data": {
      "image/png": "[encoded data removed]",
      "text/plain": [
       "<Figure size 764.75x720 with 20 Axes>"
      ]
     },
     "metadata": {
      "needs_background": "light"
     },
     "output_type": "display_data"
    }
   ],
   "source": [
    "sns.pairplot(data=df, plot_kws={\"alpha\": 0.2}, hue=\"soldout\")"
   ]
  },
  {
   "cell_type": "code",
   "execution_count": 9,
   "id": "e3f4dea8-f0bc-4913-a3cb-634e27f4af17",
   "metadata": {},
   "outputs": [
    {
     "data": {
      "text/plain": [
       "datetime         datetime64[ns]\n",
       "y                         int64\n",
       "week                     object\n",
       "soldout                   int64\n",
       "name                     object\n",
       "kcal                    float64\n",
       "remarks                  object\n",
       "event                    object\n",
       "payday                  float64\n",
       "weather                  object\n",
       "precipitation            object\n",
       "temperature             float64\n",
       "dtype: object"
      ]
     },
     "execution_count": 9,
     "metadata": {},
     "output_type": "execute_result"
    }
   ],
   "source": [
    "df.dtypes"
   ]
  },
  {
   "cell_type": "code",
   "execution_count": 18,
   "id": "227d6032-8376-4d36-a176-2c55f81153c2",
   "metadata": {},
   "outputs": [
    {
     "name": "stderr",
     "output_type": "stream",
     "text": [
      "/tmp/ipykernel_256/2801353537.py:1: FutureWarning: Treating datetime data as categorical rather than numeric in `.describe` is deprecated and will be removed in a future version of pandas. Specify `datetime_is_numeric=True` to silence this warning and adopt the future behavior now.\n",
      "  df.describe(include=\"all\").style.background_gradient(cmap=\"coolwarm\")\n"
     ]
    },
    {
     "data": {
      "text/html": [
       "<style type=\"text/css\">\n",
       "#T_aced4_row0_col1, #T_aced4_row0_col3, #T_aced4_row0_col8, #T_aced4_row0_col11, #T_aced4_row12_col5 {\n",
       "  background-color: #b40426;\n",
       "  color: #f1f1f1;\n",
       "}\n",
       "#T_aced4_row0_col5 {\n",
       "  background-color: #a3c2fe;\n",
       "  color: #000000;\n",
       "}\n",
       "#T_aced4_row1_col1, #T_aced4_row1_col3, #T_aced4_row1_col5, #T_aced4_row1_col8, #T_aced4_row1_col11, #T_aced4_row2_col1, #T_aced4_row2_col3, #T_aced4_row2_col5, #T_aced4_row2_col8, #T_aced4_row2_col11, #T_aced4_row3_col1, #T_aced4_row3_col3, #T_aced4_row3_col5, #T_aced4_row3_col8, #T_aced4_row3_col11, #T_aced4_row4_col1, #T_aced4_row4_col3, #T_aced4_row4_col5, #T_aced4_row4_col8, #T_aced4_row4_col11, #T_aced4_row5_col1, #T_aced4_row5_col3, #T_aced4_row5_col5, #T_aced4_row5_col8, #T_aced4_row5_col11 {\n",
       "  background-color: #000000;\n",
       "  color: #f1f1f1;\n",
       "}\n",
       "#T_aced4_row6_col1 {\n",
       "  background-color: #a6c4fe;\n",
       "  color: #000000;\n",
       "}\n",
       "#T_aced4_row6_col3, #T_aced4_row7_col3, #T_aced4_row7_col5, #T_aced4_row7_col8, #T_aced4_row8_col1, #T_aced4_row8_col3, #T_aced4_row8_col11, #T_aced4_row9_col3, #T_aced4_row10_col3 {\n",
       "  background-color: #3b4cc0;\n",
       "  color: #f1f1f1;\n",
       "}\n",
       "#T_aced4_row6_col5 {\n",
       "  background-color: #e0654f;\n",
       "  color: #f1f1f1;\n",
       "}\n",
       "#T_aced4_row6_col8, #T_aced4_row8_col8, #T_aced4_row9_col8, #T_aced4_row10_col8, #T_aced4_row11_col8, #T_aced4_row12_col8 {\n",
       "  background-color: #5977e3;\n",
       "  color: #f1f1f1;\n",
       "}\n",
       "#T_aced4_row6_col11 {\n",
       "  background-color: #5572df;\n",
       "  color: #f1f1f1;\n",
       "}\n",
       "#T_aced4_row7_col1 {\n",
       "  background-color: #4055c8;\n",
       "  color: #f1f1f1;\n",
       "}\n",
       "#T_aced4_row7_col11 {\n",
       "  background-color: #455cce;\n",
       "  color: #f1f1f1;\n",
       "}\n",
       "#T_aced4_row8_col5 {\n",
       "  background-color: #f7ba9f;\n",
       "  color: #000000;\n",
       "}\n",
       "#T_aced4_row9_col1 {\n",
       "  background-color: #6c8ff1;\n",
       "  color: #f1f1f1;\n",
       "}\n",
       "#T_aced4_row9_col5 {\n",
       "  background-color: #e97a5f;\n",
       "  color: #f1f1f1;\n",
       "}\n",
       "#T_aced4_row9_col11 {\n",
       "  background-color: #4961d2;\n",
       "  color: #f1f1f1;\n",
       "}\n",
       "#T_aced4_row10_col1 {\n",
       "  background-color: #96b7ff;\n",
       "  color: #000000;\n",
       "}\n",
       "#T_aced4_row10_col5 {\n",
       "  background-color: #dd5f4b;\n",
       "  color: #f1f1f1;\n",
       "}\n",
       "#T_aced4_row10_col11 {\n",
       "  background-color: #5673e0;\n",
       "  color: #f1f1f1;\n",
       "}\n",
       "#T_aced4_row11_col1 {\n",
       "  background-color: #d5dbe5;\n",
       "  color: #000000;\n",
       "}\n",
       "#T_aced4_row11_col3, #T_aced4_row12_col3 {\n",
       "  background-color: #3c4ec2;\n",
       "  color: #f1f1f1;\n",
       "}\n",
       "#T_aced4_row11_col5 {\n",
       "  background-color: #d1493f;\n",
       "  color: #f1f1f1;\n",
       "}\n",
       "#T_aced4_row11_col11 {\n",
       "  background-color: #5f7fe8;\n",
       "  color: #f1f1f1;\n",
       "}\n",
       "#T_aced4_row12_col1 {\n",
       "  background-color: #ee8468;\n",
       "  color: #f1f1f1;\n",
       "}\n",
       "#T_aced4_row12_col11 {\n",
       "  background-color: #6e90f2;\n",
       "  color: #f1f1f1;\n",
       "}\n",
       "</style>\n",
       "<table id=\"T_aced4_\">\n",
       "  <thead>\n",
       "    <tr>\n",
       "      <th class=\"blank level0\" >&nbsp;</th>\n",
       "      <th class=\"col_heading level0 col0\" >datetime</th>\n",
       "      <th class=\"col_heading level0 col1\" >y</th>\n",
       "      <th class=\"col_heading level0 col2\" >week</th>\n",
       "      <th class=\"col_heading level0 col3\" >soldout</th>\n",
       "      <th class=\"col_heading level0 col4\" >name</th>\n",
       "      <th class=\"col_heading level0 col5\" >kcal</th>\n",
       "      <th class=\"col_heading level0 col6\" >remarks</th>\n",
       "      <th class=\"col_heading level0 col7\" >event</th>\n",
       "      <th class=\"col_heading level0 col8\" >payday</th>\n",
       "      <th class=\"col_heading level0 col9\" >weather</th>\n",
       "      <th class=\"col_heading level0 col10\" >precipitation</th>\n",
       "      <th class=\"col_heading level0 col11\" >temperature</th>\n",
       "    </tr>\n",
       "  </thead>\n",
       "  <tbody>\n",
       "    <tr>\n",
       "      <th id=\"T_aced4_level0_row0\" class=\"row_heading level0 row0\" >count</th>\n",
       "      <td id=\"T_aced4_row0_col0\" class=\"data row0 col0\" >207</td>\n",
       "      <td id=\"T_aced4_row0_col1\" class=\"data row0 col1\" >207.000000</td>\n",
       "      <td id=\"T_aced4_row0_col2\" class=\"data row0 col2\" >207</td>\n",
       "      <td id=\"T_aced4_row0_col3\" class=\"data row0 col3\" >207.000000</td>\n",
       "      <td id=\"T_aced4_row0_col4\" class=\"data row0 col4\" >207</td>\n",
       "      <td id=\"T_aced4_row0_col5\" class=\"data row0 col5\" >166.000000</td>\n",
       "      <td id=\"T_aced4_row0_col6\" class=\"data row0 col6\" >21</td>\n",
       "      <td id=\"T_aced4_row0_col7\" class=\"data row0 col7\" >14</td>\n",
       "      <td id=\"T_aced4_row0_col8\" class=\"data row0 col8\" >10.000000</td>\n",
       "      <td id=\"T_aced4_row0_col9\" class=\"data row0 col9\" >207</td>\n",
       "      <td id=\"T_aced4_row0_col10\" class=\"data row0 col10\" >207</td>\n",
       "      <td id=\"T_aced4_row0_col11\" class=\"data row0 col11\" >207.000000</td>\n",
       "    </tr>\n",
       "    <tr>\n",
       "      <th id=\"T_aced4_level0_row1\" class=\"row_heading level0 row1\" >unique</th>\n",
       "      <td id=\"T_aced4_row1_col0\" class=\"data row1 col0\" >207</td>\n",
       "      <td id=\"T_aced4_row1_col1\" class=\"data row1 col1\" >nan</td>\n",
       "      <td id=\"T_aced4_row1_col2\" class=\"data row1 col2\" >5</td>\n",
       "      <td id=\"T_aced4_row1_col3\" class=\"data row1 col3\" >nan</td>\n",
       "      <td id=\"T_aced4_row1_col4\" class=\"data row1 col4\" >156</td>\n",
       "      <td id=\"T_aced4_row1_col5\" class=\"data row1 col5\" >nan</td>\n",
       "      <td id=\"T_aced4_row1_col6\" class=\"data row1 col6\" >6</td>\n",
       "      <td id=\"T_aced4_row1_col7\" class=\"data row1 col7\" >2</td>\n",
       "      <td id=\"T_aced4_row1_col8\" class=\"data row1 col8\" >nan</td>\n",
       "      <td id=\"T_aced4_row1_col9\" class=\"data row1 col9\" >7</td>\n",
       "      <td id=\"T_aced4_row1_col10\" class=\"data row1 col10\" >8</td>\n",
       "      <td id=\"T_aced4_row1_col11\" class=\"data row1 col11\" >nan</td>\n",
       "    </tr>\n",
       "    <tr>\n",
       "      <th id=\"T_aced4_level0_row2\" class=\"row_heading level0 row2\" >top</th>\n",
       "      <td id=\"T_aced4_row2_col0\" class=\"data row2 col0\" >2013-11-18 00:00:00</td>\n",
       "      <td id=\"T_aced4_row2_col1\" class=\"data row2 col1\" >nan</td>\n",
       "      <td id=\"T_aced4_row2_col2\" class=\"data row2 col2\" >水</td>\n",
       "      <td id=\"T_aced4_row2_col3\" class=\"data row2 col3\" >nan</td>\n",
       "      <td id=\"T_aced4_row2_col4\" class=\"data row2 col4\" >メンチカツ</td>\n",
       "      <td id=\"T_aced4_row2_col5\" class=\"data row2 col5\" >nan</td>\n",
       "      <td id=\"T_aced4_row2_col6\" class=\"data row2 col6\" >お楽しみメニュー</td>\n",
       "      <td id=\"T_aced4_row2_col7\" class=\"data row2 col7\" >ママの会</td>\n",
       "      <td id=\"T_aced4_row2_col8\" class=\"data row2 col8\" >nan</td>\n",
       "      <td id=\"T_aced4_row2_col9\" class=\"data row2 col9\" >快晴</td>\n",
       "      <td id=\"T_aced4_row2_col10\" class=\"data row2 col10\" >--</td>\n",
       "      <td id=\"T_aced4_row2_col11\" class=\"data row2 col11\" >nan</td>\n",
       "    </tr>\n",
       "    <tr>\n",
       "      <th id=\"T_aced4_level0_row3\" class=\"row_heading level0 row3\" >freq</th>\n",
       "      <td id=\"T_aced4_row3_col0\" class=\"data row3 col0\" >1</td>\n",
       "      <td id=\"T_aced4_row3_col1\" class=\"data row3 col1\" >nan</td>\n",
       "      <td id=\"T_aced4_row3_col2\" class=\"data row3 col2\" >43</td>\n",
       "      <td id=\"T_aced4_row3_col3\" class=\"data row3 col3\" >nan</td>\n",
       "      <td id=\"T_aced4_row3_col4\" class=\"data row3 col4\" >6</td>\n",
       "      <td id=\"T_aced4_row3_col5\" class=\"data row3 col5\" >nan</td>\n",
       "      <td id=\"T_aced4_row3_col6\" class=\"data row3 col6\" >12</td>\n",
       "      <td id=\"T_aced4_row3_col7\" class=\"data row3 col7\" >9</td>\n",
       "      <td id=\"T_aced4_row3_col8\" class=\"data row3 col8\" >nan</td>\n",
       "      <td id=\"T_aced4_row3_col9\" class=\"data row3 col9\" >53</td>\n",
       "      <td id=\"T_aced4_row3_col10\" class=\"data row3 col10\" >169</td>\n",
       "      <td id=\"T_aced4_row3_col11\" class=\"data row3 col11\" >nan</td>\n",
       "    </tr>\n",
       "    <tr>\n",
       "      <th id=\"T_aced4_level0_row4\" class=\"row_heading level0 row4\" >first</th>\n",
       "      <td id=\"T_aced4_row4_col0\" class=\"data row4 col0\" >2013-11-18 00:00:00</td>\n",
       "      <td id=\"T_aced4_row4_col1\" class=\"data row4 col1\" >nan</td>\n",
       "      <td id=\"T_aced4_row4_col2\" class=\"data row4 col2\" >nan</td>\n",
       "      <td id=\"T_aced4_row4_col3\" class=\"data row4 col3\" >nan</td>\n",
       "      <td id=\"T_aced4_row4_col4\" class=\"data row4 col4\" >nan</td>\n",
       "      <td id=\"T_aced4_row4_col5\" class=\"data row4 col5\" >nan</td>\n",
       "      <td id=\"T_aced4_row4_col6\" class=\"data row4 col6\" >nan</td>\n",
       "      <td id=\"T_aced4_row4_col7\" class=\"data row4 col7\" >nan</td>\n",
       "      <td id=\"T_aced4_row4_col8\" class=\"data row4 col8\" >nan</td>\n",
       "      <td id=\"T_aced4_row4_col9\" class=\"data row4 col9\" >nan</td>\n",
       "      <td id=\"T_aced4_row4_col10\" class=\"data row4 col10\" >nan</td>\n",
       "      <td id=\"T_aced4_row4_col11\" class=\"data row4 col11\" >nan</td>\n",
       "    </tr>\n",
       "    <tr>\n",
       "      <th id=\"T_aced4_level0_row5\" class=\"row_heading level0 row5\" >last</th>\n",
       "      <td id=\"T_aced4_row5_col0\" class=\"data row5 col0\" >2014-09-30 00:00:00</td>\n",
       "      <td id=\"T_aced4_row5_col1\" class=\"data row5 col1\" >nan</td>\n",
       "      <td id=\"T_aced4_row5_col2\" class=\"data row5 col2\" >nan</td>\n",
       "      <td id=\"T_aced4_row5_col3\" class=\"data row5 col3\" >nan</td>\n",
       "      <td id=\"T_aced4_row5_col4\" class=\"data row5 col4\" >nan</td>\n",
       "      <td id=\"T_aced4_row5_col5\" class=\"data row5 col5\" >nan</td>\n",
       "      <td id=\"T_aced4_row5_col6\" class=\"data row5 col6\" >nan</td>\n",
       "      <td id=\"T_aced4_row5_col7\" class=\"data row5 col7\" >nan</td>\n",
       "      <td id=\"T_aced4_row5_col8\" class=\"data row5 col8\" >nan</td>\n",
       "      <td id=\"T_aced4_row5_col9\" class=\"data row5 col9\" >nan</td>\n",
       "      <td id=\"T_aced4_row5_col10\" class=\"data row5 col10\" >nan</td>\n",
       "      <td id=\"T_aced4_row5_col11\" class=\"data row5 col11\" >nan</td>\n",
       "    </tr>\n",
       "    <tr>\n",
       "      <th id=\"T_aced4_level0_row6\" class=\"row_heading level0 row6\" >mean</th>\n",
       "      <td id=\"T_aced4_row6_col0\" class=\"data row6 col0\" >nan</td>\n",
       "      <td id=\"T_aced4_row6_col1\" class=\"data row6 col1\" >86.623188</td>\n",
       "      <td id=\"T_aced4_row6_col2\" class=\"data row6 col2\" >nan</td>\n",
       "      <td id=\"T_aced4_row6_col3\" class=\"data row6 col3\" >0.449275</td>\n",
       "      <td id=\"T_aced4_row6_col4\" class=\"data row6 col4\" >nan</td>\n",
       "      <td id=\"T_aced4_row6_col5\" class=\"data row6 col5\" >404.409639</td>\n",
       "      <td id=\"T_aced4_row6_col6\" class=\"data row6 col6\" >nan</td>\n",
       "      <td id=\"T_aced4_row6_col7\" class=\"data row6 col7\" >nan</td>\n",
       "      <td id=\"T_aced4_row6_col8\" class=\"data row6 col8\" >1.000000</td>\n",
       "      <td id=\"T_aced4_row6_col9\" class=\"data row6 col9\" >nan</td>\n",
       "      <td id=\"T_aced4_row6_col10\" class=\"data row6 col10\" >nan</td>\n",
       "      <td id=\"T_aced4_row6_col11\" class=\"data row6 col11\" >19.252174</td>\n",
       "    </tr>\n",
       "    <tr>\n",
       "      <th id=\"T_aced4_level0_row7\" class=\"row_heading level0 row7\" >std</th>\n",
       "      <td id=\"T_aced4_row7_col0\" class=\"data row7 col0\" >nan</td>\n",
       "      <td id=\"T_aced4_row7_col1\" class=\"data row7 col1\" >32.882448</td>\n",
       "      <td id=\"T_aced4_row7_col2\" class=\"data row7 col2\" >nan</td>\n",
       "      <td id=\"T_aced4_row7_col3\" class=\"data row7 col3\" >0.498626</td>\n",
       "      <td id=\"T_aced4_row7_col4\" class=\"data row7 col4\" >nan</td>\n",
       "      <td id=\"T_aced4_row7_col5\" class=\"data row7 col5\" >29.884641</td>\n",
       "      <td id=\"T_aced4_row7_col6\" class=\"data row7 col6\" >nan</td>\n",
       "      <td id=\"T_aced4_row7_col7\" class=\"data row7 col7\" >nan</td>\n",
       "      <td id=\"T_aced4_row7_col8\" class=\"data row7 col8\" >0.000000</td>\n",
       "      <td id=\"T_aced4_row7_col9\" class=\"data row7 col9\" >nan</td>\n",
       "      <td id=\"T_aced4_row7_col10\" class=\"data row7 col10\" >nan</td>\n",
       "      <td id=\"T_aced4_row7_col11\" class=\"data row7 col11\" >8.611365</td>\n",
       "    </tr>\n",
       "    <tr>\n",
       "      <th id=\"T_aced4_level0_row8\" class=\"row_heading level0 row8\" >min</th>\n",
       "      <td id=\"T_aced4_row8_col0\" class=\"data row8 col0\" >nan</td>\n",
       "      <td id=\"T_aced4_row8_col1\" class=\"data row8 col1\" >29.000000</td>\n",
       "      <td id=\"T_aced4_row8_col2\" class=\"data row8 col2\" >nan</td>\n",
       "      <td id=\"T_aced4_row8_col3\" class=\"data row8 col3\" >0.000000</td>\n",
       "      <td id=\"T_aced4_row8_col4\" class=\"data row8 col4\" >nan</td>\n",
       "      <td id=\"T_aced4_row8_col5\" class=\"data row8 col5\" >315.000000</td>\n",
       "      <td id=\"T_aced4_row8_col6\" class=\"data row8 col6\" >nan</td>\n",
       "      <td id=\"T_aced4_row8_col7\" class=\"data row8 col7\" >nan</td>\n",
       "      <td id=\"T_aced4_row8_col8\" class=\"data row8 col8\" >1.000000</td>\n",
       "      <td id=\"T_aced4_row8_col9\" class=\"data row8 col9\" >nan</td>\n",
       "      <td id=\"T_aced4_row8_col10\" class=\"data row8 col10\" >nan</td>\n",
       "      <td id=\"T_aced4_row8_col11\" class=\"data row8 col11\" >1.200000</td>\n",
       "    </tr>\n",
       "    <tr>\n",
       "      <th id=\"T_aced4_level0_row9\" class=\"row_heading level0 row9\" >25%</th>\n",
       "      <td id=\"T_aced4_row9_col0\" class=\"data row9 col0\" >nan</td>\n",
       "      <td id=\"T_aced4_row9_col1\" class=\"data row9 col1\" >57.000000</td>\n",
       "      <td id=\"T_aced4_row9_col2\" class=\"data row9 col2\" >nan</td>\n",
       "      <td id=\"T_aced4_row9_col3\" class=\"data row9 col3\" >0.000000</td>\n",
       "      <td id=\"T_aced4_row9_col4\" class=\"data row9 col4\" >nan</td>\n",
       "      <td id=\"T_aced4_row9_col5\" class=\"data row9 col5\" >386.000000</td>\n",
       "      <td id=\"T_aced4_row9_col6\" class=\"data row9 col6\" >nan</td>\n",
       "      <td id=\"T_aced4_row9_col7\" class=\"data row9 col7\" >nan</td>\n",
       "      <td id=\"T_aced4_row9_col8\" class=\"data row9 col8\" >1.000000</td>\n",
       "      <td id=\"T_aced4_row9_col9\" class=\"data row9 col9\" >nan</td>\n",
       "      <td id=\"T_aced4_row9_col10\" class=\"data row9 col10\" >nan</td>\n",
       "      <td id=\"T_aced4_row9_col11\" class=\"data row9 col11\" >11.550000</td>\n",
       "    </tr>\n",
       "    <tr>\n",
       "      <th id=\"T_aced4_level0_row10\" class=\"row_heading level0 row10\" >50%</th>\n",
       "      <td id=\"T_aced4_row10_col0\" class=\"data row10 col0\" >nan</td>\n",
       "      <td id=\"T_aced4_row10_col1\" class=\"data row10 col1\" >78.000000</td>\n",
       "      <td id=\"T_aced4_row10_col2\" class=\"data row10 col2\" >nan</td>\n",
       "      <td id=\"T_aced4_row10_col3\" class=\"data row10 col3\" >0.000000</td>\n",
       "      <td id=\"T_aced4_row10_col4\" class=\"data row10 col4\" >nan</td>\n",
       "      <td id=\"T_aced4_row10_col5\" class=\"data row10 col5\" >408.500000</td>\n",
       "      <td id=\"T_aced4_row10_col6\" class=\"data row10 col6\" >nan</td>\n",
       "      <td id=\"T_aced4_row10_col7\" class=\"data row10 col7\" >nan</td>\n",
       "      <td id=\"T_aced4_row10_col8\" class=\"data row10 col8\" >1.000000</td>\n",
       "      <td id=\"T_aced4_row10_col9\" class=\"data row10 col9\" >nan</td>\n",
       "      <td id=\"T_aced4_row10_col10\" class=\"data row10 col10\" >nan</td>\n",
       "      <td id=\"T_aced4_row10_col11\" class=\"data row10 col11\" >19.800000</td>\n",
       "    </tr>\n",
       "    <tr>\n",
       "      <th id=\"T_aced4_level0_row11\" class=\"row_heading level0 row11\" >75%</th>\n",
       "      <td id=\"T_aced4_row11_col0\" class=\"data row11 col0\" >nan</td>\n",
       "      <td id=\"T_aced4_row11_col1\" class=\"data row11 col1\" >113.000000</td>\n",
       "      <td id=\"T_aced4_row11_col2\" class=\"data row11 col2\" >nan</td>\n",
       "      <td id=\"T_aced4_row11_col3\" class=\"data row11 col3\" >1.000000</td>\n",
       "      <td id=\"T_aced4_row11_col4\" class=\"data row11 col4\" >nan</td>\n",
       "      <td id=\"T_aced4_row11_col5\" class=\"data row11 col5\" >426.000000</td>\n",
       "      <td id=\"T_aced4_row11_col6\" class=\"data row11 col6\" >nan</td>\n",
       "      <td id=\"T_aced4_row11_col7\" class=\"data row11 col7\" >nan</td>\n",
       "      <td id=\"T_aced4_row11_col8\" class=\"data row11 col8\" >1.000000</td>\n",
       "      <td id=\"T_aced4_row11_col9\" class=\"data row11 col9\" >nan</td>\n",
       "      <td id=\"T_aced4_row11_col10\" class=\"data row11 col10\" >nan</td>\n",
       "      <td id=\"T_aced4_row11_col11\" class=\"data row11 col11\" >26.100000</td>\n",
       "    </tr>\n",
       "    <tr>\n",
       "      <th id=\"T_aced4_level0_row12\" class=\"row_heading level0 row12\" >max</th>\n",
       "      <td id=\"T_aced4_row12_col0\" class=\"data row12 col0\" >nan</td>\n",
       "      <td id=\"T_aced4_row12_col1\" class=\"data row12 col1\" >171.000000</td>\n",
       "      <td id=\"T_aced4_row12_col2\" class=\"data row12 col2\" >nan</td>\n",
       "      <td id=\"T_aced4_row12_col3\" class=\"data row12 col3\" >1.000000</td>\n",
       "      <td id=\"T_aced4_row12_col4\" class=\"data row12 col4\" >nan</td>\n",
       "      <td id=\"T_aced4_row12_col5\" class=\"data row12 col5\" >462.000000</td>\n",
       "      <td id=\"T_aced4_row12_col6\" class=\"data row12 col6\" >nan</td>\n",
       "      <td id=\"T_aced4_row12_col7\" class=\"data row12 col7\" >nan</td>\n",
       "      <td id=\"T_aced4_row12_col8\" class=\"data row12 col8\" >1.000000</td>\n",
       "      <td id=\"T_aced4_row12_col9\" class=\"data row12 col9\" >nan</td>\n",
       "      <td id=\"T_aced4_row12_col10\" class=\"data row12 col10\" >nan</td>\n",
       "      <td id=\"T_aced4_row12_col11\" class=\"data row12 col11\" >34.600000</td>\n",
       "    </tr>\n",
       "  </tbody>\n",
       "</table>\n"
      ],
      "text/plain": [
       "<pandas.io.formats.style.Styler at 0x7f4b1ff2d8e0>"
      ]
     },
     "execution_count": 18,
     "metadata": {},
     "output_type": "execute_result"
    }
   ],
   "source": [
    "df.describe(include=\"all\").style.background_gradient(cmap=\"coolwarm\")"
   ]
  },
  {
   "cell_type": "code",
   "execution_count": 20,
   "id": "dc516684-48b6-44a1-8da0-fb18a98d9766",
   "metadata": {},
   "outputs": [
    {
     "data": {
      "image/png": "[encoded data removed]",
      "text/plain": [
       "<Figure size 1008x432 with 1 Axes>"
      ]
     },
     "metadata": {
      "needs_background": "light"
     },
     "output_type": "display_data"
    }
   ],
   "source": [
    "plt.figure(figsize=(14, 6))\n",
    "df.boxplot()\n",
    "plt.xticks(rotation=70)\n",
    "plt.show()"
   ]
  },
  {
   "cell_type": "markdown",
   "id": "eaebdf88-fca2-47ee-9e8c-7b31b03c9525",
   "metadata": {},
   "source": [
    "### week\n",
    "---"
   ]
  },
  {
   "cell_type": "code",
   "execution_count": 51,
   "id": "26621480-30d4-4350-9a15-f6bb86399706",
   "metadata": {},
   "outputs": [
    {
     "data": {
      "text/plain": [
       "Text(0, 0.5, 'weekday')"
      ]
     },
     "execution_count": 51,
     "metadata": {},
     "output_type": "execute_result"
    },
    {
     "data": {
      "image/png": "[encoded data removed]",
      "text/plain": [
       "<Figure size 1152x288 with 3 Axes>"
      ]
     },
     "metadata": {
      "needs_background": "light"
     },
     "output_type": "display_data"
    }
   ],
   "source": [
    "week_df = df.groupby(\"week\").mean().loc[:, [\"y\", \"soldout\", \"kcal\"]]\n",
    "week_name = [\"Mon\", \"Tues\", \"Wedues\", \"Thurs\", \"Fri\"]\n",
    "week_df.index  = week_name\n",
    "\n",
    "fig, axes = plt.subplots(1, 3, figsize=(16, 4))\n",
    "ax = axes.ravel()\n",
    "ax[0].plot(week_df[\"y\"])\n",
    "ax[0].set_xticks(week_name)\n",
    "ax[0].set_ylabel(\"Sales\")\n",
    "ax[0].set_xlabel(\"weekday\")\n",
    "\n",
    "ax[1].bar(week_df.index, week_df[\"soldout\"], width=0.5)\n",
    "ax[1].set_xlabel(\"weekday\")\n",
    "ax[1].set_ylabel(\"is_soldout\")\n",
    "\n",
    "ax[2].plot(week_df[\"kcal\"])\n",
    "ax[2].set_xticks(week_name)\n",
    "ax[2].set_xlabel(\"kcal\")\n",
    "ax[2].set_ylabel(\"weekday\")"
   ]
  },
  {
   "cell_type": "code",
   "execution_count": 55,
   "id": "f9d925d6-1c16-4a17-b418-03dcb754d5a2",
   "metadata": {},
   "outputs": [
    {
     "data": {
      "text/html": [
       "<style type=\"text/css\">\n",
       "#T_fccd7_row0_col0, #T_fccd7_row2_col1, #T_fccd7_row4_col2 {\n",
       "  background-color: #b40426;\n",
       "  color: #f1f1f1;\n",
       "}\n",
       "#T_fccd7_row0_col1 {\n",
       "  background-color: #f5c2aa;\n",
       "  color: #000000;\n",
       "}\n",
       "#T_fccd7_row0_col2, #T_fccd7_row1_col0, #T_fccd7_row3_col1 {\n",
       "  background-color: #3b4cc0;\n",
       "  color: #f1f1f1;\n",
       "}\n",
       "#T_fccd7_row1_col1 {\n",
       "  background-color: #bfd3f6;\n",
       "  color: #000000;\n",
       "}\n",
       "#T_fccd7_row1_col2 {\n",
       "  background-color: #efcebd;\n",
       "  color: #000000;\n",
       "}\n",
       "#T_fccd7_row2_col0 {\n",
       "  background-color: #dadce0;\n",
       "  color: #000000;\n",
       "}\n",
       "#T_fccd7_row2_col2 {\n",
       "  background-color: #bb1b2c;\n",
       "  color: #f1f1f1;\n",
       "}\n",
       "#T_fccd7_row3_col0 {\n",
       "  background-color: #dfdbd9;\n",
       "  color: #000000;\n",
       "}\n",
       "#T_fccd7_row3_col2 {\n",
       "  background-color: #b70d28;\n",
       "  color: #f1f1f1;\n",
       "}\n",
       "#T_fccd7_row4_col0 {\n",
       "  background-color: #ead5c9;\n",
       "  color: #000000;\n",
       "}\n",
       "#T_fccd7_row4_col1 {\n",
       "  background-color: #6282ea;\n",
       "  color: #f1f1f1;\n",
       "}\n",
       "</style>\n",
       "<table id=\"T_fccd7_\">\n",
       "  <thead>\n",
       "    <tr>\n",
       "      <th class=\"blank level0\" >&nbsp;</th>\n",
       "      <th class=\"col_heading level0 col0\" >y</th>\n",
       "      <th class=\"col_heading level0 col1\" >soldout</th>\n",
       "      <th class=\"col_heading level0 col2\" >kcal</th>\n",
       "    </tr>\n",
       "  </thead>\n",
       "  <tbody>\n",
       "    <tr>\n",
       "      <th id=\"T_fccd7_level0_row0\" class=\"row_heading level0 row0\" >Mon</th>\n",
       "      <td id=\"T_fccd7_row0_col0\" class=\"data row0 col0\" >94.051282</td>\n",
       "      <td id=\"T_fccd7_row0_col1\" class=\"data row0 col1\" >0.487179</td>\n",
       "      <td id=\"T_fccd7_row0_col2\" class=\"data row0 col2\" >398.970588</td>\n",
       "    </tr>\n",
       "    <tr>\n",
       "      <th id=\"T_fccd7_level0_row1\" class=\"row_heading level0 row1\" >Tues</th>\n",
       "      <td id=\"T_fccd7_row1_col0\" class=\"data row1 col0\" >79.162791</td>\n",
       "      <td id=\"T_fccd7_row1_col1\" class=\"data row1 col1\" >0.441860</td>\n",
       "      <td id=\"T_fccd7_row1_col2\" class=\"data row1 col2\" >403.540541</td>\n",
       "    </tr>\n",
       "    <tr>\n",
       "      <th id=\"T_fccd7_level0_row2\" class=\"row_heading level0 row2\" >Wedues</th>\n",
       "      <td id=\"T_fccd7_row2_col0\" class=\"data row2 col0\" >86.488372</td>\n",
       "      <td id=\"T_fccd7_row2_col1\" class=\"data row2 col1\" >0.558140</td>\n",
       "      <td id=\"T_fccd7_row2_col2\" class=\"data row2 col2\" >406.621622</td>\n",
       "    </tr>\n",
       "    <tr>\n",
       "      <th id=\"T_fccd7_level0_row3\" class=\"row_heading level0 row3\" >Thurs</th>\n",
       "      <td id=\"T_fccd7_row3_col0\" class=\"data row3 col0\" >86.780488</td>\n",
       "      <td id=\"T_fccd7_row3_col1\" class=\"data row3 col1\" >0.365854</td>\n",
       "      <td id=\"T_fccd7_row3_col2\" class=\"data row3 col2\" >406.714286</td>\n",
       "    </tr>\n",
       "    <tr>\n",
       "      <th id=\"T_fccd7_level0_row4\" class=\"row_heading level0 row4\" >Fri</th>\n",
       "      <td id=\"T_fccd7_row4_col0\" class=\"data row4 col0\" >87.365854</td>\n",
       "      <td id=\"T_fccd7_row4_col1\" class=\"data row4 col1\" >0.390244</td>\n",
       "      <td id=\"T_fccd7_row4_col2\" class=\"data row4 col2\" >406.782609</td>\n",
       "    </tr>\n",
       "  </tbody>\n",
       "</table>\n"
      ],
      "text/plain": [
       "<pandas.io.formats.style.Styler at 0x7f4b13ba1610>"
      ]
     },
     "execution_count": 55,
     "metadata": {},
     "output_type": "execute_result"
    }
   ],
   "source": [
    "week_df.style.background_gradient(cmap=\"coolwarm\")"
   ]
  },
  {
   "cell_type": "code",
   "execution_count": 158,
   "id": "13ac5702-75c9-4722-8c70-c9688d469d34",
   "metadata": {},
   "outputs": [
    {
     "data": {
      "text/plain": [
       "<AxesSubplot:xlabel='holiday'>"
      ]
     },
     "execution_count": 158,
     "metadata": {},
     "output_type": "execute_result"
    },
    {
     "data": {
      "image/png": "[encoded data removed]",
      "text/plain": [
       "<Figure size 432x288 with 1 Axes>"
      ]
     },
     "metadata": {
      "needs_background": "light"
     },
     "output_type": "display_data"
    }
   ],
   "source": [
    "def holiday(x):\n",
    "    if x == \"金\":\n",
    "        return 1\n",
    "    elif x == \"月\":\n",
    "        return 2 \n",
    "    else:\n",
    "        return 0 \n",
    "\n",
    "df[\"holiday\"] = df.week.apply(holiday)\n",
    "df.groupby(\"holiday\").mean().loc[:, [\"y\"]].plot.bar()"
   ]
  },
  {
   "cell_type": "code",
   "execution_count": 161,
   "id": "bea3b32e-ba20-450c-958f-624d725c45db",
   "metadata": {},
   "outputs": [],
   "source": [
    "from sklearn.preprocessing import LabelEncoder\n",
    "la = LabelEncoder()\n",
    "df[\"week\"] = la.fit_transform(df.week)"
   ]
  },
  {
   "cell_type": "markdown",
   "id": "21970ee8-9ac3-4e96-9b1c-d9cb1175a6ff",
   "metadata": {},
   "source": [
    "### soldout \n",
    "---"
   ]
  },
  {
   "cell_type": "code",
   "execution_count": 56,
   "id": "e985812a-90c0-4f58-8886-600f2b38c7a9",
   "metadata": {},
   "outputs": [
    {
     "data": {
      "text/plain": [
       "<AxesSubplot:xlabel='soldout', ylabel='y'>"
      ]
     },
     "execution_count": 56,
     "metadata": {},
     "output_type": "execute_result"
    },
    {
     "data": {
      "image/png": "[encoded data removed]",
      "text/plain": [
       "<Figure size 432x288 with 1 Axes>"
      ]
     },
     "metadata": {
      "needs_background": "light"
     },
     "output_type": "display_data"
    }
   ],
   "source": [
    "sns.barplot(data=df, x=\"soldout\", y=\"y\")"
   ]
  },
  {
   "cell_type": "markdown",
   "id": "55509fbe-0850-496e-aecc-287d00278f1c",
   "metadata": {},
   "source": [
    "### name \n",
    "---"
   ]
  },
  {
   "cell_type": "code",
   "execution_count": 61,
   "id": "a94ffdca-3a13-42d3-87fe-4d5bbc19e2de",
   "metadata": {},
   "outputs": [
    {
     "data": {
      "text/html": [
       "<div>\n",
       "<style scoped>\n",
       "    .dataframe tbody tr th:only-of-type {\n",
       "        vertical-align: middle;\n",
       "    }\n",
       "\n",
       "    .dataframe tbody tr th {\n",
       "        vertical-align: top;\n",
       "    }\n",
       "\n",
       "    .dataframe thead th {\n",
       "        text-align: right;\n",
       "    }\n",
       "</style>\n",
       "<table border=\"1\" class=\"dataframe\">\n",
       "  <thead>\n",
       "    <tr style=\"text-align: right;\">\n",
       "      <th></th>\n",
       "      <th>name</th>\n",
       "      <th>counts</th>\n",
       "    </tr>\n",
       "  </thead>\n",
       "  <tbody>\n",
       "    <tr>\n",
       "      <th>0</th>\n",
       "      <td>メンチカツ</td>\n",
       "      <td>6</td>\n",
       "    </tr>\n",
       "    <tr>\n",
       "      <th>1</th>\n",
       "      <td>タンドリーチキン</td>\n",
       "      <td>6</td>\n",
       "    </tr>\n",
       "    <tr>\n",
       "      <th>2</th>\n",
       "      <td>手作りロースカツ</td>\n",
       "      <td>5</td>\n",
       "    </tr>\n",
       "    <tr>\n",
       "      <th>3</th>\n",
       "      <td>鶏の唐揚げおろしソース</td>\n",
       "      <td>4</td>\n",
       "    </tr>\n",
       "    <tr>\n",
       "      <th>4</th>\n",
       "      <td>回鍋肉</td>\n",
       "      <td>4</td>\n",
       "    </tr>\n",
       "    <tr>\n",
       "      <th>...</th>\n",
       "      <td>...</td>\n",
       "      <td>...</td>\n",
       "    </tr>\n",
       "    <tr>\n",
       "      <th>151</th>\n",
       "      <td>白身魚唐揚げ野菜あんかけ</td>\n",
       "      <td>1</td>\n",
       "    </tr>\n",
       "    <tr>\n",
       "      <th>152</th>\n",
       "      <td>ポークハヤシ</td>\n",
       "      <td>1</td>\n",
       "    </tr>\n",
       "    <tr>\n",
       "      <th>153</th>\n",
       "      <td>酢豚orカレー</td>\n",
       "      <td>1</td>\n",
       "    </tr>\n",
       "    <tr>\n",
       "      <th>154</th>\n",
       "      <td>ハンバーグ和風きのこソース</td>\n",
       "      <td>1</td>\n",
       "    </tr>\n",
       "    <tr>\n",
       "      <th>155</th>\n",
       "      <td>鶏肉とカシューナッツ炒め</td>\n",
       "      <td>1</td>\n",
       "    </tr>\n",
       "  </tbody>\n",
       "</table>\n",
       "<p>156 rows × 2 columns</p>\n",
       "</div>"
      ],
      "text/plain": [
       "              name  counts\n",
       "0            メンチカツ       6\n",
       "1         タンドリーチキン       6\n",
       "2         手作りロースカツ       5\n",
       "3      鶏の唐揚げおろしソース       4\n",
       "4              回鍋肉       4\n",
       "..             ...     ...\n",
       "151   白身魚唐揚げ野菜あんかけ       1\n",
       "152         ポークハヤシ       1\n",
       "153        酢豚orカレー       1\n",
       "154  ハンバーグ和風きのこソース       1\n",
       "155   鶏肉とカシューナッツ炒め       1\n",
       "\n",
       "[156 rows x 2 columns]"
      ]
     },
     "execution_count": 61,
     "metadata": {},
     "output_type": "execute_result"
    }
   ],
   "source": [
    "name = df.name.value_counts()\n",
    "pd.DataFrame({\"name\": name.index, \"counts\": name.values})"
   ]
  },
  {
   "cell_type": "code",
   "execution_count": 60,
   "id": "e3852f38-56be-4f46-af5c-1c8142658b7b",
   "metadata": {},
   "outputs": [
    {
     "data": {
      "application/vnd.plotly.v1+json": {
       "config": {
        "plotlyServerURL": "https://plot.ly"
       },
       "data": [
        {
         "domain": {
          "x": [
           0,
           1
          ],
          "y": [
           0,
           1
          ]
         },
         "hovertemplate": "label=%{label}<br>value=%{value}<extra></extra>",
         "labels": [
          "メンチカツ",
          "タンドリーチキン",
          "手作りロースカツ",
          "鶏の唐揚げおろしソース",
          "回鍋肉",
          "マーボ豆腐",
          "肉じゃが",
          "酢豚",
          "キーマカレー",
          "チンジャオロース",
          "チキンカレー",
          "鶏の味噌漬け焼き",
          "手作りひれかつ",
          "ポークカレー",
          "鶏のカッシュナッツ炒め",
          "ロース甘味噌焼き",
          "ハンバーグカレーソース",
          "青椒肉絲",
          "手作りチキンカツ",
          "鶏チリソース",
          "ボローニャ風カツ",
          "カレイ唐揚げ野菜あんかけ",
          "マーボ茄子",
          "ハンバーグデミソース",
          "手作りヒレカツ",
          "カレイ唐揚げ野菜餡かけ",
          "たっぷりベーコンフライ",
          "エビフライ",
          "豚すき焼き",
          "牛肉ニンニクの芽炒め",
          "白身魚フライ",
          "豚冷シャブ野菜添え",
          "鶏のから揚げねぎ塩炒めソース",
          "アジ唐揚げ南蛮ソース",
          "プルコギ",
          "チキンのコーンクリーム焼き",
          "かじきの甘辛煮",
          "鶏のトマトシチュー",
          "豚の冷しゃぶ",
          "和風ハンバーグ",
          "手作りトンカツ",
          "白身魚ムニエル",
          "ビーフストロガノフ",
          "牛すき焼き風",
          "カレイ唐揚げ夏野菜あん",
          "ポークソテー韓国ソース",
          "鶏の塩から揚げ",
          "牛丼",
          "八宝菜",
          "炊き込みご飯",
          "キスと野菜の天ぷら",
          "チャプチェ",
          "豚肉の生姜焼き",
          "ジャンボチキンカツ",
          "豚肉の胡麻シャブ",
          "ビーフシチュー",
          "名古屋味噌カツ",
          "親子煮",
          "チキンステーキ・きのこソース",
          "鶏肉の山賊焼き",
          "ぶりレモンペッパー焼き",
          "チーズメンチカツ",
          "チキンフリカッセ",
          "カレイ唐揚げ 甘酢あん",
          "厚切イカフライ",
          "筑前煮",
          "白身魚のマスタード焼き",
          "牛カルビ焼き肉",
          "ランチビュッフェ",
          "豚肉と玉子の炒め",
          "チキンの辛味噌焼き",
          "カレイの唐揚げ",
          "ひやしたぬきうどん・炊き込みご飯",
          "白身魚の南部焼き",
          "豚肉のマスタード焼き",
          "バーベキューチキン",
          "鶏のから揚げスイートチリソース",
          "ハンバーグケッチャップソース",
          "ハンバーグ（デミきのこバター）",
          "鶏肉のカレー唐揚",
          "豚キムチ炒め",
          "チキン香草焼きマスタードソース",
          "サーモンフライ・タルタル",
          "厚切ハムカツ",
          "洋食屋さんのメンチカツ",
          "牛スキヤキ",
          "豚ロースのピザ風チーズ焼き",
          "チキン南蛮",
          "ロコモコ丼",
          "ゴーヤチャンプルー",
          "厚切りイカフライ",
          "いか天ぷら",
          "ホタテクリ―ムシチュー",
          "さわら焼味噌掛け",
          "メダイ照り焼",
          "鶏の唐揚げ",
          "チーズ入りメンチカツ",
          "海老フライタルタル",
          "鶏のレモンペッパー焼orカレー",
          "手作りひれかつとカレー",
          "サバ焼味噌掛け",
          "ジューシーメンチカツ",
          "さんま辛味焼",
          "鶏の照り焼きマスタード",
          "豚肉の生姜焼",
          "カレー入りソーセージカツ",
          "手ごね風ハンバーグ",
          "さっくりメンチカツ",
          "鶏の唐揚げ甘酢あん",
          "ポーク味噌焼き",
          "カキフライタルタル",
          "五目御飯",
          "やわらかロースのサムジョン",
          "クリームチーズ入りメンチ",
          "厚揚げ豚生姜炒め",
          "タルタルinソーセージカツ",
          "ハンバーグ",
          "豚のスタミナ炒め",
          "鶏の唐揚",
          "ビッグメンチカツ",
          "若鶏ピリ辛焼",
          "白身魚唐揚げ野菜あん",
          "鶏のピリ辛焼き",
          "ますのマスタードソース",
          "牛肉すき焼き風",
          "海老フライとホタテ串カツ",
          "牛肉コロッケ",
          "サーモンのムニエル2色ソース",
          "チーズハンバーグ",
          "豚肉と茄子のピリ辛炒め",
          "白身魚唐揚げ野菜餡かけ",
          "きのこソースハンバーグ",
          "鶏の天ぷら",
          "豚味噌メンチカツ",
          "中華丼",
          "鶏の照り焼きマヨ",
          "牛肉筍煮",
          "牛丼風煮",
          "ポーク生姜焼き",
          "ビーフトマト煮",
          "肉団子のシチュー",
          "青梗菜牛肉炒め",
          "和風ソースハンバーグ",
          "肉団子クリームシチュー",
          "鶏の親子煮",
          "越冬キャベツのメンチカツ",
          "チーズ入りハンバーグ",
          "カレイ野菜あんかけ",
          "ビーフカレー",
          "海老クリーミ―クノーデル",
          "チキンクリームシチュー",
          "白身魚唐揚げ野菜あんかけ",
          "ポークハヤシ",
          "酢豚orカレー",
          "ハンバーグ和風きのこソース",
          "鶏肉とカシューナッツ炒め"
         ],
         "legendgroup": "",
         "name": "",
         "showlegend": true,
         "type": "pie",
         "values": [
          6,
          6,
          5,
          4,
          4,
          4,
          4,
          3,
          3,
          3,
          3,
          3,
          3,
          3,
          2,
          2,
          2,
          2,
          2,
          2,
          2,
          2,
          2,
          2,
          2,
          1,
          1,
          1,
          1,
          1,
          1,
          1,
          1,
          1,
          1,
          1,
          1,
          1,
          1,
          1,
          1,
          1,
          1,
          1,
          1,
          1,
          1,
          1,
          1,
          1,
          1,
          1,
          1,
          1,
          1,
          1,
          1,
          1,
          1,
          1,
          1,
          1,
          1,
          1,
          1,
          1,
          1,
          1,
          1,
          1,
          1,
          1,
          1,
          1,
          1,
          1,
          1,
          1,
          1,
          1,
          1,
          1,
          1,
          1,
          1,
          1,
          1,
          1,
          1,
          1,
          1,
          1,
          1,
          1,
          1,
          1,
          1,
          1,
          1,
          1,
          1,
          1,
          1,
          1,
          1,
          1,
          1,
          1,
          1,
          1,
          1,
          1,
          1,
          1,
          1,
          1,
          1,
          1,
          1,
          1,
          1,
          1,
          1,
          1,
          1,
          1,
          1,
          1,
          1,
          1,
          1,
          1,
          1,
          1,
          1,
          1,
          1,
          1,
          1,
          1,
          1,
          1,
          1,
          1,
          1,
          1,
          1,
          1,
          1,
          1,
          1,
          1,
          1,
          1,
          1,
          1
         ]
        }
       ],
       "layout": {
        "autosize": true,
        "legend": {
         "tracegroupgap": 0
        },
        "template": {
         "data": {
          "bar": [
           {
            "error_x": {
             "color": "#2a3f5f"
            },
            "error_y": {
             "color": "#2a3f5f"
            },
            "marker": {
             "line": {
              "color": "#E5ECF6",
              "width": 0.5
             },
             "pattern": {
              "fillmode": "overlay",
              "size": 10,
              "solidity": 0.2
             }
            },
            "type": "bar"
           }
          ],
          "barpolar": [
           {
            "marker": {
             "line": {
              "color": "#E5ECF6",
              "width": 0.5
             },
             "pattern": {
              "fillmode": "overlay",
              "size": 10,
              "solidity": 0.2
             }
            },
            "type": "barpolar"
           }
          ],
          "carpet": [
           {
            "aaxis": {
             "endlinecolor": "#2a3f5f",
             "gridcolor": "white",
             "linecolor": "white",
             "minorgridcolor": "white",
             "startlinecolor": "#2a3f5f"
            },
            "baxis": {
             "endlinecolor": "#2a3f5f",
             "gridcolor": "white",
             "linecolor": "white",
             "minorgridcolor": "white",
             "startlinecolor": "#2a3f5f"
            },
            "type": "carpet"
           }
          ],
          "choropleth": [
           {
            "colorbar": {
             "outlinewidth": 0,
             "ticks": ""
            },
            "type": "choropleth"
           }
          ],
          "contour": [
           {
            "colorbar": {
             "outlinewidth": 0,
             "ticks": ""
            },
            "colorscale": [
             [
              0,
              "#0d0887"
             ],
             [
              0.1111111111111111,
              "#46039f"
             ],
             [
              0.2222222222222222,
              "#7201a8"
             ],
             [
              0.3333333333333333,
              "#9c179e"
             ],
             [
              0.4444444444444444,
              "#bd3786"
             ],
             [
              0.5555555555555556,
              "#d8576b"
             ],
             [
              0.6666666666666666,
              "#ed7953"
             ],
             [
              0.7777777777777778,
              "#fb9f3a"
             ],
             [
              0.8888888888888888,
              "#fdca26"
             ],
             [
              1,
              "#f0f921"
             ]
            ],
            "type": "contour"
           }
          ],
          "contourcarpet": [
           {
            "colorbar": {
             "outlinewidth": 0,
             "ticks": ""
            },
            "type": "contourcarpet"
           }
          ],
          "heatmap": [
           {
            "colorbar": {
             "outlinewidth": 0,
             "ticks": ""
            },
            "colorscale": [
             [
              0,
              "#0d0887"
             ],
             [
              0.1111111111111111,
              "#46039f"
             ],
             [
              0.2222222222222222,
              "#7201a8"
             ],
             [
              0.3333333333333333,
              "#9c179e"
             ],
             [
              0.4444444444444444,
              "#bd3786"
             ],
             [
              0.5555555555555556,
              "#d8576b"
             ],
             [
              0.6666666666666666,
              "#ed7953"
             ],
             [
              0.7777777777777778,
              "#fb9f3a"
             ],
             [
              0.8888888888888888,
              "#fdca26"
             ],
             [
              1,
              "#f0f921"
             ]
            ],
            "type": "heatmap"
           }
          ],
          "heatmapgl": [
           {
            "colorbar": {
             "outlinewidth": 0,
             "ticks": ""
            },
            "colorscale": [
             [
              0,
              "#0d0887"
             ],
             [
              0.1111111111111111,
              "#46039f"
             ],
             [
              0.2222222222222222,
              "#7201a8"
             ],
             [
              0.3333333333333333,
              "#9c179e"
             ],
             [
              0.4444444444444444,
              "#bd3786"
             ],
             [
              0.5555555555555556,
              "#d8576b"
             ],
             [
              0.6666666666666666,
              "#ed7953"
             ],
             [
              0.7777777777777778,
              "#fb9f3a"
             ],
             [
              0.8888888888888888,
              "#fdca26"
             ],
             [
              1,
              "#f0f921"
             ]
            ],
            "type": "heatmapgl"
           }
          ],
          "histogram": [
           {
            "marker": {
             "pattern": {
              "fillmode": "overlay",
              "size": 10,
              "solidity": 0.2
             }
            },
            "type": "histogram"
           }
          ],
          "histogram2d": [
           {
            "colorbar": {
             "outlinewidth": 0,
             "ticks": ""
            },
            "colorscale": [
             [
              0,
              "#0d0887"
             ],
             [
              0.1111111111111111,
              "#46039f"
             ],
             [
              0.2222222222222222,
              "#7201a8"
             ],
             [
              0.3333333333333333,
              "#9c179e"
             ],
             [
              0.4444444444444444,
              "#bd3786"
             ],
             [
              0.5555555555555556,
              "#d8576b"
             ],
             [
              0.6666666666666666,
              "#ed7953"
             ],
             [
              0.7777777777777778,
              "#fb9f3a"
             ],
             [
              0.8888888888888888,
              "#fdca26"
             ],
             [
              1,
              "#f0f921"
             ]
            ],
            "type": "histogram2d"
           }
          ],
          "histogram2dcontour": [
           {
            "colorbar": {
             "outlinewidth": 0,
             "ticks": ""
            },
            "colorscale": [
             [
              0,
              "#0d0887"
             ],
             [
              0.1111111111111111,
              "#46039f"
             ],
             [
              0.2222222222222222,
              "#7201a8"
             ],
             [
              0.3333333333333333,
              "#9c179e"
             ],
             [
              0.4444444444444444,
              "#bd3786"
             ],
             [
              0.5555555555555556,
              "#d8576b"
             ],
             [
              0.6666666666666666,
              "#ed7953"
             ],
             [
              0.7777777777777778,
              "#fb9f3a"
             ],
             [
              0.8888888888888888,
              "#fdca26"
             ],
             [
              1,
              "#f0f921"
             ]
            ],
            "type": "histogram2dcontour"
           }
          ],
          "mesh3d": [
           {
            "colorbar": {
             "outlinewidth": 0,
             "ticks": ""
            },
            "type": "mesh3d"
           }
          ],
          "parcoords": [
           {
            "line": {
             "colorbar": {
              "outlinewidth": 0,
              "ticks": ""
             }
            },
            "type": "parcoords"
           }
          ],
          "pie": [
           {
            "automargin": true,
            "type": "pie"
           }
          ],
          "scatter": [
           {
            "marker": {
             "colorbar": {
              "outlinewidth": 0,
              "ticks": ""
             }
            },
            "type": "scatter"
           }
          ],
          "scatter3d": [
           {
            "line": {
             "colorbar": {
              "outlinewidth": 0,
              "ticks": ""
             }
            },
            "marker": {
             "colorbar": {
              "outlinewidth": 0,
              "ticks": ""
             }
            },
            "type": "scatter3d"
           }
          ],
          "scattercarpet": [
           {
            "marker": {
             "colorbar": {
              "outlinewidth": 0,
              "ticks": ""
             }
            },
            "type": "scattercarpet"
           }
          ],
          "scattergeo": [
           {
            "marker": {
             "colorbar": {
              "outlinewidth": 0,
              "ticks": ""
             }
            },
            "type": "scattergeo"
           }
          ],
          "scattergl": [
           {
            "marker": {
             "colorbar": {
              "outlinewidth": 0,
              "ticks": ""
             }
            },
            "type": "scattergl"
           }
          ],
          "scattermapbox": [
           {
            "marker": {
             "colorbar": {
              "outlinewidth": 0,
              "ticks": ""
             }
            },
            "type": "scattermapbox"
           }
          ],
          "scatterpolar": [
           {
            "marker": {
             "colorbar": {
              "outlinewidth": 0,
              "ticks": ""
             }
            },
            "type": "scatterpolar"
           }
          ],
          "scatterpolargl": [
           {
            "marker": {
             "colorbar": {
              "outlinewidth": 0,
              "ticks": ""
             }
            },
            "type": "scatterpolargl"
           }
          ],
          "scatterternary": [
           {
            "marker": {
             "colorbar": {
              "outlinewidth": 0,
              "ticks": ""
             }
            },
            "type": "scatterternary"
           }
          ],
          "surface": [
           {
            "colorbar": {
             "outlinewidth": 0,
             "ticks": ""
            },
            "colorscale": [
             [
              0,
              "#0d0887"
             ],
             [
              0.1111111111111111,
              "#46039f"
             ],
             [
              0.2222222222222222,
              "#7201a8"
             ],
             [
              0.3333333333333333,
              "#9c179e"
             ],
             [
              0.4444444444444444,
              "#bd3786"
             ],
             [
              0.5555555555555556,
              "#d8576b"
             ],
             [
              0.6666666666666666,
              "#ed7953"
             ],
             [
              0.7777777777777778,
              "#fb9f3a"
             ],
             [
              0.8888888888888888,
              "#fdca26"
             ],
             [
              1,
              "#f0f921"
             ]
            ],
            "type": "surface"
           }
          ],
          "table": [
           {
            "cells": {
             "fill": {
              "color": "#EBF0F8"
             },
             "line": {
              "color": "white"
             }
            },
            "header": {
             "fill": {
              "color": "#C8D4E3"
             },
             "line": {
              "color": "white"
             }
            },
            "type": "table"
           }
          ]
         },
         "layout": {
          "annotationdefaults": {
           "arrowcolor": "#2a3f5f",
           "arrowhead": 0,
           "arrowwidth": 1
          },
          "autotypenumbers": "strict",
          "coloraxis": {
           "colorbar": {
            "outlinewidth": 0,
            "ticks": ""
           }
          },
          "colorscale": {
           "diverging": [
            [
             0,
             "#8e0152"
            ],
            [
             0.1,
             "#c51b7d"
            ],
            [
             0.2,
             "#de77ae"
            ],
            [
             0.3,
             "#f1b6da"
            ],
            [
             0.4,
             "#fde0ef"
            ],
            [
             0.5,
             "#f7f7f7"
            ],
            [
             0.6,
             "#e6f5d0"
            ],
            [
             0.7,
             "#b8e186"
            ],
            [
             0.8,
             "#7fbc41"
            ],
            [
             0.9,
             "#4d9221"
            ],
            [
             1,
             "#276419"
            ]
           ],
           "sequential": [
            [
             0,
             "#0d0887"
            ],
            [
             0.1111111111111111,
             "#46039f"
            ],
            [
             0.2222222222222222,
             "#7201a8"
            ],
            [
             0.3333333333333333,
             "#9c179e"
            ],
            [
             0.4444444444444444,
             "#bd3786"
            ],
            [
             0.5555555555555556,
             "#d8576b"
            ],
            [
             0.6666666666666666,
             "#ed7953"
            ],
            [
             0.7777777777777778,
             "#fb9f3a"
            ],
            [
             0.8888888888888888,
             "#fdca26"
            ],
            [
             1,
             "#f0f921"
            ]
           ],
           "sequentialminus": [
            [
             0,
             "#0d0887"
            ],
            [
             0.1111111111111111,
             "#46039f"
            ],
            [
             0.2222222222222222,
             "#7201a8"
            ],
            [
             0.3333333333333333,
             "#9c179e"
            ],
            [
             0.4444444444444444,
             "#bd3786"
            ],
            [
             0.5555555555555556,
             "#d8576b"
            ],
            [
             0.6666666666666666,
             "#ed7953"
            ],
            [
             0.7777777777777778,
             "#fb9f3a"
            ],
            [
             0.8888888888888888,
             "#fdca26"
            ],
            [
             1,
             "#f0f921"
            ]
           ]
          },
          "colorway": [
           "#636efa",
           "#EF553B",
           "#00cc96",
           "#ab63fa",
           "#FFA15A",
           "#19d3f3",
           "#FF6692",
           "#B6E880",
           "#FF97FF",
           "#FECB52"
          ],
          "font": {
           "color": "#2a3f5f"
          },
          "geo": {
           "bgcolor": "white",
           "lakecolor": "white",
           "landcolor": "#E5ECF6",
           "showlakes": true,
           "showland": true,
           "subunitcolor": "white"
          },
          "hoverlabel": {
           "align": "left"
          },
          "hovermode": "closest",
          "mapbox": {
           "style": "light"
          },
          "paper_bgcolor": "white",
          "plot_bgcolor": "#E5ECF6",
          "polar": {
           "angularaxis": {
            "gridcolor": "white",
            "linecolor": "white",
            "ticks": ""
           },
           "bgcolor": "#E5ECF6",
           "radialaxis": {
            "gridcolor": "white",
            "linecolor": "white",
            "ticks": ""
           }
          },
          "scene": {
           "xaxis": {
            "backgroundcolor": "#E5ECF6",
            "gridcolor": "white",
            "gridwidth": 2,
            "linecolor": "white",
            "showbackground": true,
            "ticks": "",
            "zerolinecolor": "white"
           },
           "yaxis": {
            "backgroundcolor": "#E5ECF6",
            "gridcolor": "white",
            "gridwidth": 2,
            "linecolor": "white",
            "showbackground": true,
            "ticks": "",
            "zerolinecolor": "white"
           },
           "zaxis": {
            "backgroundcolor": "#E5ECF6",
            "gridcolor": "white",
            "gridwidth": 2,
            "linecolor": "white",
            "showbackground": true,
            "ticks": "",
            "zerolinecolor": "white"
           }
          },
          "shapedefaults": {
           "line": {
            "color": "#2a3f5f"
           }
          },
          "ternary": {
           "aaxis": {
            "gridcolor": "white",
            "linecolor": "white",
            "ticks": ""
           },
           "baxis": {
            "gridcolor": "white",
            "linecolor": "white",
            "ticks": ""
           },
           "bgcolor": "#E5ECF6",
           "caxis": {
            "gridcolor": "white",
            "linecolor": "white",
            "ticks": ""
           }
          },
          "title": {
           "x": 0.05
          },
          "xaxis": {
           "automargin": true,
           "gridcolor": "white",
           "linecolor": "white",
           "ticks": "",
           "title": {
            "standoff": 15
           },
           "zerolinecolor": "white",
           "zerolinewidth": 2
          },
          "yaxis": {
           "automargin": true,
           "gridcolor": "white",
           "linecolor": "white",
           "ticks": "",
           "title": {
            "standoff": 15
           },
           "zerolinecolor": "white",
           "zerolinewidth": 2
          }
         }
        },
        "title": {
         "text": "main menu rate"
        }
       }
      },
      "image/png": "[encoded data removed]",
      "text/html": [
       "<div>                            <div id=\"a0b8dfbc-9111-4ac6-b0dd-49fcd8d4ff63\" class=\"plotly-graph-div\" style=\"height:525px; width:100%;\"></div>            <script type=\"text/javascript\">                require([\"plotly\"], function(Plotly) {                    window.PLOTLYENV=window.PLOTLYENV || {};                                    if (document.getElementById(\"a0b8dfbc-9111-4ac6-b0dd-49fcd8d4ff63\")) {                    Plotly.newPlot(                        \"a0b8dfbc-9111-4ac6-b0dd-49fcd8d4ff63\",                        [{\"domain\":{\"x\":[0.0,1.0],\"y\":[0.0,1.0]},\"hovertemplate\":\"label=%{label}<br>value=%{value}<extra></extra>\",\"labels\":[\"\\u30e1\\u30f3\\u30c1\\u30ab\\u30c4\",\"\\u30bf\\u30f3\\u30c9\\u30ea\\u30fc\\u30c1\\u30ad\\u30f3\",\"\\u624b\\u4f5c\\u308a\\u30ed\\u30fc\\u30b9\\u30ab\\u30c4\",\"\\u9d8f\\u306e\\u5510\\u63da\\u3052\\u304a\\u308d\\u3057\\u30bd\\u30fc\\u30b9\",\"\\u56de\\u934b\\u8089\",\"\\u30de\\u30fc\\u30dc\\u8c46\\u8150\",\"\\u8089\\u3058\\u3083\\u304c\",\"\\u9162\\u8c5a\",\"\\u30ad\\u30fc\\u30de\\u30ab\\u30ec\\u30fc\",\"\\u30c1\\u30f3\\u30b8\\u30e3\\u30aa\\u30ed\\u30fc\\u30b9\",\"\\u30c1\\u30ad\\u30f3\\u30ab\\u30ec\\u30fc\",\"\\u9d8f\\u306e\\u5473\\u564c\\u6f2c\\u3051\\u713c\\u304d\",\"\\u624b\\u4f5c\\u308a\\u3072\\u308c\\u304b\\u3064\",\"\\u30dd\\u30fc\\u30af\\u30ab\\u30ec\\u30fc\",\"\\u9d8f\\u306e\\u30ab\\u30c3\\u30b7\\u30e5\\u30ca\\u30c3\\u30c4\\u7092\\u3081\",\"\\u30ed\\u30fc\\u30b9\\u7518\\u5473\\u564c\\u713c\\u304d\",\"\\u30cf\\u30f3\\u30d0\\u30fc\\u30b0\\u30ab\\u30ec\\u30fc\\u30bd\\u30fc\\u30b9\",\"\\u9752\\u6912\\u8089\\u7d72\",\"\\u624b\\u4f5c\\u308a\\u30c1\\u30ad\\u30f3\\u30ab\\u30c4\",\"\\u9d8f\\u30c1\\u30ea\\u30bd\\u30fc\\u30b9\",\"\\u30dc\\u30ed\\u30fc\\u30cb\\u30e3\\u98a8\\u30ab\\u30c4\",\"\\u30ab\\u30ec\\u30a4\\u5510\\u63da\\u3052\\u91ce\\u83dc\\u3042\\u3093\\u304b\\u3051\",\"\\u30de\\u30fc\\u30dc\\u8304\\u5b50\",\"\\u30cf\\u30f3\\u30d0\\u30fc\\u30b0\\u30c7\\u30df\\u30bd\\u30fc\\u30b9\",\"\\u624b\\u4f5c\\u308a\\u30d2\\u30ec\\u30ab\\u30c4\",\"\\u30ab\\u30ec\\u30a4\\u5510\\u63da\\u3052\\u91ce\\u83dc\\u9921\\u304b\\u3051\",\"\\u305f\\u3063\\u3077\\u308a\\u30d9\\u30fc\\u30b3\\u30f3\\u30d5\\u30e9\\u30a4\",\"\\u30a8\\u30d3\\u30d5\\u30e9\\u30a4\",\"\\u8c5a\\u3059\\u304d\\u713c\\u304d\",\"\\u725b\\u8089\\u30cb\\u30f3\\u30cb\\u30af\\u306e\\u82bd\\u7092\\u3081\",\"\\u767d\\u8eab\\u9b5a\\u30d5\\u30e9\\u30a4\",\"\\u8c5a\\u51b7\\u30b7\\u30e3\\u30d6\\u91ce\\u83dc\\u6dfb\\u3048\",\"\\u9d8f\\u306e\\u304b\\u3089\\u63da\\u3052\\u306d\\u304e\\u5869\\u7092\\u3081\\u30bd\\u30fc\\u30b9\",\"\\u30a2\\u30b8\\u5510\\u63da\\u3052\\u5357\\u86ee\\u30bd\\u30fc\\u30b9\",\"\\u30d7\\u30eb\\u30b3\\u30ae\",\"\\u30c1\\u30ad\\u30f3\\u306e\\u30b3\\u30fc\\u30f3\\u30af\\u30ea\\u30fc\\u30e0\\u713c\\u304d\",\"\\u304b\\u3058\\u304d\\u306e\\u7518\\u8f9b\\u716e\",\"\\u9d8f\\u306e\\u30c8\\u30de\\u30c8\\u30b7\\u30c1\\u30e5\\u30fc\",\"\\u8c5a\\u306e\\u51b7\\u3057\\u3083\\u3076\",\"\\u548c\\u98a8\\u30cf\\u30f3\\u30d0\\u30fc\\u30b0\",\"\\u624b\\u4f5c\\u308a\\u30c8\\u30f3\\u30ab\\u30c4\",\"\\u767d\\u8eab\\u9b5a\\u30e0\\u30cb\\u30a8\\u30eb\",\"\\u30d3\\u30fc\\u30d5\\u30b9\\u30c8\\u30ed\\u30ac\\u30ce\\u30d5\",\"\\u725b\\u3059\\u304d\\u713c\\u304d\\u98a8\",\"\\u30ab\\u30ec\\u30a4\\u5510\\u63da\\u3052\\u590f\\u91ce\\u83dc\\u3042\\u3093\",\"\\u30dd\\u30fc\\u30af\\u30bd\\u30c6\\u30fc\\u97d3\\u56fd\\u30bd\\u30fc\\u30b9\",\"\\u9d8f\\u306e\\u5869\\u304b\\u3089\\u63da\\u3052\",\"\\u725b\\u4e3c\",\"\\u516b\\u5b9d\\u83dc\",\"\\u708a\\u304d\\u8fbc\\u307f\\u3054\\u98ef\",\"\\u30ad\\u30b9\\u3068\\u91ce\\u83dc\\u306e\\u5929\\u3077\\u3089\",\"\\u30c1\\u30e3\\u30d7\\u30c1\\u30a7\",\"\\u8c5a\\u8089\\u306e\\u751f\\u59dc\\u713c\\u304d\",\"\\u30b8\\u30e3\\u30f3\\u30dc\\u30c1\\u30ad\\u30f3\\u30ab\\u30c4\",\"\\u8c5a\\u8089\\u306e\\u80e1\\u9ebb\\u30b7\\u30e3\\u30d6\",\"\\u30d3\\u30fc\\u30d5\\u30b7\\u30c1\\u30e5\\u30fc\",\"\\u540d\\u53e4\\u5c4b\\u5473\\u564c\\u30ab\\u30c4\",\"\\u89aa\\u5b50\\u716e\",\"\\u30c1\\u30ad\\u30f3\\u30b9\\u30c6\\u30fc\\u30ad\\u30fb\\u304d\\u306e\\u3053\\u30bd\\u30fc\\u30b9\",\"\\u9d8f\\u8089\\u306e\\u5c71\\u8cca\\u713c\\u304d\",\"\\u3076\\u308a\\u30ec\\u30e2\\u30f3\\u30da\\u30c3\\u30d1\\u30fc\\u713c\\u304d\",\"\\u30c1\\u30fc\\u30ba\\u30e1\\u30f3\\u30c1\\u30ab\\u30c4\",\"\\u30c1\\u30ad\\u30f3\\u30d5\\u30ea\\u30ab\\u30c3\\u30bb\",\"\\u30ab\\u30ec\\u30a4\\u5510\\u63da\\u3052 \\u7518\\u9162\\u3042\\u3093\",\"\\u539a\\u5207\\u30a4\\u30ab\\u30d5\\u30e9\\u30a4\",\"\\u7b51\\u524d\\u716e\",\"\\u767d\\u8eab\\u9b5a\\u306e\\u30de\\u30b9\\u30bf\\u30fc\\u30c9\\u713c\\u304d\",\"\\u725b\\u30ab\\u30eb\\u30d3\\u713c\\u304d\\u8089\",\"\\u30e9\\u30f3\\u30c1\\u30d3\\u30e5\\u30c3\\u30d5\\u30a7\",\"\\u8c5a\\u8089\\u3068\\u7389\\u5b50\\u306e\\u7092\\u3081\",\"\\u30c1\\u30ad\\u30f3\\u306e\\u8f9b\\u5473\\u564c\\u713c\\u304d\",\"\\u30ab\\u30ec\\u30a4\\u306e\\u5510\\u63da\\u3052\",\"\\u3072\\u3084\\u3057\\u305f\\u306c\\u304d\\u3046\\u3069\\u3093\\u30fb\\u708a\\u304d\\u8fbc\\u307f\\u3054\\u98ef\",\"\\u767d\\u8eab\\u9b5a\\u306e\\u5357\\u90e8\\u713c\\u304d\",\"\\u8c5a\\u8089\\u306e\\u30de\\u30b9\\u30bf\\u30fc\\u30c9\\u713c\\u304d\",\"\\u30d0\\u30fc\\u30d9\\u30ad\\u30e5\\u30fc\\u30c1\\u30ad\\u30f3\",\"\\u9d8f\\u306e\\u304b\\u3089\\u63da\\u3052\\u30b9\\u30a4\\u30fc\\u30c8\\u30c1\\u30ea\\u30bd\\u30fc\\u30b9\",\"\\u30cf\\u30f3\\u30d0\\u30fc\\u30b0\\u30b1\\u30c3\\u30c1\\u30e3\\u30c3\\u30d7\\u30bd\\u30fc\\u30b9\",\"\\u30cf\\u30f3\\u30d0\\u30fc\\u30b0\\uff08\\u30c7\\u30df\\u304d\\u306e\\u3053\\u30d0\\u30bf\\u30fc\\uff09\",\"\\u9d8f\\u8089\\u306e\\u30ab\\u30ec\\u30fc\\u5510\\u63da\",\"\\u8c5a\\u30ad\\u30e0\\u30c1\\u7092\\u3081\",\"\\u30c1\\u30ad\\u30f3\\u9999\\u8349\\u713c\\u304d\\u30de\\u30b9\\u30bf\\u30fc\\u30c9\\u30bd\\u30fc\\u30b9\",\"\\u30b5\\u30fc\\u30e2\\u30f3\\u30d5\\u30e9\\u30a4\\u30fb\\u30bf\\u30eb\\u30bf\\u30eb\",\"\\u539a\\u5207\\u30cf\\u30e0\\u30ab\\u30c4\",\"\\u6d0b\\u98df\\u5c4b\\u3055\\u3093\\u306e\\u30e1\\u30f3\\u30c1\\u30ab\\u30c4\",\"\\u725b\\u30b9\\u30ad\\u30e4\\u30ad\",\"\\u8c5a\\u30ed\\u30fc\\u30b9\\u306e\\u30d4\\u30b6\\u98a8\\u30c1\\u30fc\\u30ba\\u713c\\u304d\",\"\\u30c1\\u30ad\\u30f3\\u5357\\u86ee\",\"\\u30ed\\u30b3\\u30e2\\u30b3\\u4e3c\",\"\\u30b4\\u30fc\\u30e4\\u30c1\\u30e3\\u30f3\\u30d7\\u30eb\\u30fc\",\"\\u539a\\u5207\\u308a\\u30a4\\u30ab\\u30d5\\u30e9\\u30a4\",\"\\u3044\\u304b\\u5929\\u3077\\u3089\",\"\\u30db\\u30bf\\u30c6\\u30af\\u30ea\\u2015\\u30e0\\u30b7\\u30c1\\u30e5\\u30fc\",\"\\u3055\\u308f\\u3089\\u713c\\u5473\\u564c\\u639b\\u3051\",\"\\u30e1\\u30c0\\u30a4\\u7167\\u308a\\u713c\",\"\\u9d8f\\u306e\\u5510\\u63da\\u3052\",\"\\u30c1\\u30fc\\u30ba\\u5165\\u308a\\u30e1\\u30f3\\u30c1\\u30ab\\u30c4\",\"\\u6d77\\u8001\\u30d5\\u30e9\\u30a4\\u30bf\\u30eb\\u30bf\\u30eb\",\"\\u9d8f\\u306e\\u30ec\\u30e2\\u30f3\\u30da\\u30c3\\u30d1\\u30fc\\u713cor\\u30ab\\u30ec\\u30fc\",\"\\u624b\\u4f5c\\u308a\\u3072\\u308c\\u304b\\u3064\\u3068\\u30ab\\u30ec\\u30fc\",\"\\u30b5\\u30d0\\u713c\\u5473\\u564c\\u639b\\u3051\",\"\\u30b8\\u30e5\\u30fc\\u30b7\\u30fc\\u30e1\\u30f3\\u30c1\\u30ab\\u30c4\",\"\\u3055\\u3093\\u307e\\u8f9b\\u5473\\u713c\",\"\\u9d8f\\u306e\\u7167\\u308a\\u713c\\u304d\\u30de\\u30b9\\u30bf\\u30fc\\u30c9\",\"\\u8c5a\\u8089\\u306e\\u751f\\u59dc\\u713c\",\"\\u30ab\\u30ec\\u30fc\\u5165\\u308a\\u30bd\\u30fc\\u30bb\\u30fc\\u30b8\\u30ab\\u30c4\",\"\\u624b\\u3054\\u306d\\u98a8\\u30cf\\u30f3\\u30d0\\u30fc\\u30b0\",\"\\u3055\\u3063\\u304f\\u308a\\u30e1\\u30f3\\u30c1\\u30ab\\u30c4\",\"\\u9d8f\\u306e\\u5510\\u63da\\u3052\\u7518\\u9162\\u3042\\u3093\",\"\\u30dd\\u30fc\\u30af\\u5473\\u564c\\u713c\\u304d\",\"\\u30ab\\u30ad\\u30d5\\u30e9\\u30a4\\u30bf\\u30eb\\u30bf\\u30eb\",\"\\u4e94\\u76ee\\u5fa1\\u98ef\",\"\\u3084\\u308f\\u3089\\u304b\\u30ed\\u30fc\\u30b9\\u306e\\u30b5\\u30e0\\u30b8\\u30e7\\u30f3\",\"\\u30af\\u30ea\\u30fc\\u30e0\\u30c1\\u30fc\\u30ba\\u5165\\u308a\\u30e1\\u30f3\\u30c1\",\"\\u539a\\u63da\\u3052\\u8c5a\\u751f\\u59dc\\u7092\\u3081\",\"\\u30bf\\u30eb\\u30bf\\u30ebin\\u30bd\\u30fc\\u30bb\\u30fc\\u30b8\\u30ab\\u30c4\",\"\\u30cf\\u30f3\\u30d0\\u30fc\\u30b0\",\"\\u8c5a\\u306e\\u30b9\\u30bf\\u30df\\u30ca\\u7092\\u3081\",\"\\u9d8f\\u306e\\u5510\\u63da\",\"\\u30d3\\u30c3\\u30b0\\u30e1\\u30f3\\u30c1\\u30ab\\u30c4\",\"\\u82e5\\u9d8f\\u30d4\\u30ea\\u8f9b\\u713c\",\"\\u767d\\u8eab\\u9b5a\\u5510\\u63da\\u3052\\u91ce\\u83dc\\u3042\\u3093\",\"\\u9d8f\\u306e\\u30d4\\u30ea\\u8f9b\\u713c\\u304d\",\"\\u307e\\u3059\\u306e\\u30de\\u30b9\\u30bf\\u30fc\\u30c9\\u30bd\\u30fc\\u30b9\",\"\\u725b\\u8089\\u3059\\u304d\\u713c\\u304d\\u98a8\",\"\\u6d77\\u8001\\u30d5\\u30e9\\u30a4\\u3068\\u30db\\u30bf\\u30c6\\u4e32\\u30ab\\u30c4\",\"\\u725b\\u8089\\u30b3\\u30ed\\u30c3\\u30b1\",\"\\u30b5\\u30fc\\u30e2\\u30f3\\u306e\\u30e0\\u30cb\\u30a8\\u30eb2\\u8272\\u30bd\\u30fc\\u30b9\",\"\\u30c1\\u30fc\\u30ba\\u30cf\\u30f3\\u30d0\\u30fc\\u30b0\",\"\\u8c5a\\u8089\\u3068\\u8304\\u5b50\\u306e\\u30d4\\u30ea\\u8f9b\\u7092\\u3081\",\"\\u767d\\u8eab\\u9b5a\\u5510\\u63da\\u3052\\u91ce\\u83dc\\u9921\\u304b\\u3051\",\"\\u304d\\u306e\\u3053\\u30bd\\u30fc\\u30b9\\u30cf\\u30f3\\u30d0\\u30fc\\u30b0\",\"\\u9d8f\\u306e\\u5929\\u3077\\u3089\",\"\\u8c5a\\u5473\\u564c\\u30e1\\u30f3\\u30c1\\u30ab\\u30c4\",\"\\u4e2d\\u83ef\\u4e3c\",\"\\u9d8f\\u306e\\u7167\\u308a\\u713c\\u304d\\u30de\\u30e8\",\"\\u725b\\u8089\\u7b4d\\u716e\",\"\\u725b\\u4e3c\\u98a8\\u716e\",\"\\u30dd\\u30fc\\u30af\\u751f\\u59dc\\u713c\\u304d\",\"\\u30d3\\u30fc\\u30d5\\u30c8\\u30de\\u30c8\\u716e\",\"\\u8089\\u56e3\\u5b50\\u306e\\u30b7\\u30c1\\u30e5\\u30fc\",\"\\u9752\\u6897\\u83dc\\u725b\\u8089\\u7092\\u3081\",\"\\u548c\\u98a8\\u30bd\\u30fc\\u30b9\\u30cf\\u30f3\\u30d0\\u30fc\\u30b0\",\"\\u8089\\u56e3\\u5b50\\u30af\\u30ea\\u30fc\\u30e0\\u30b7\\u30c1\\u30e5\\u30fc\",\"\\u9d8f\\u306e\\u89aa\\u5b50\\u716e\",\"\\u8d8a\\u51ac\\u30ad\\u30e3\\u30d9\\u30c4\\u306e\\u30e1\\u30f3\\u30c1\\u30ab\\u30c4\",\"\\u30c1\\u30fc\\u30ba\\u5165\\u308a\\u30cf\\u30f3\\u30d0\\u30fc\\u30b0\",\"\\u30ab\\u30ec\\u30a4\\u91ce\\u83dc\\u3042\\u3093\\u304b\\u3051\",\"\\u30d3\\u30fc\\u30d5\\u30ab\\u30ec\\u30fc\",\"\\u6d77\\u8001\\u30af\\u30ea\\u30fc\\u30df\\u2015\\u30af\\u30ce\\u30fc\\u30c7\\u30eb\",\"\\u30c1\\u30ad\\u30f3\\u30af\\u30ea\\u30fc\\u30e0\\u30b7\\u30c1\\u30e5\\u30fc\",\"\\u767d\\u8eab\\u9b5a\\u5510\\u63da\\u3052\\u91ce\\u83dc\\u3042\\u3093\\u304b\\u3051\",\"\\u30dd\\u30fc\\u30af\\u30cf\\u30e4\\u30b7\",\"\\u9162\\u8c5aor\\u30ab\\u30ec\\u30fc\",\"\\u30cf\\u30f3\\u30d0\\u30fc\\u30b0\\u548c\\u98a8\\u304d\\u306e\\u3053\\u30bd\\u30fc\\u30b9\",\"\\u9d8f\\u8089\\u3068\\u30ab\\u30b7\\u30e5\\u30fc\\u30ca\\u30c3\\u30c4\\u7092\\u3081\"],\"legendgroup\":\"\",\"name\":\"\",\"showlegend\":true,\"type\":\"pie\",\"values\":[6,6,5,4,4,4,4,3,3,3,3,3,3,3,2,2,2,2,2,2,2,2,2,2,2,1,1,1,1,1,1,1,1,1,1,1,1,1,1,1,1,1,1,1,1,1,1,1,1,1,1,1,1,1,1,1,1,1,1,1,1,1,1,1,1,1,1,1,1,1,1,1,1,1,1,1,1,1,1,1,1,1,1,1,1,1,1,1,1,1,1,1,1,1,1,1,1,1,1,1,1,1,1,1,1,1,1,1,1,1,1,1,1,1,1,1,1,1,1,1,1,1,1,1,1,1,1,1,1,1,1,1,1,1,1,1,1,1,1,1,1,1,1,1,1,1,1,1,1,1,1,1,1,1,1,1]}],                        {\"legend\":{\"tracegroupgap\":0},\"template\":{\"data\":{\"bar\":[{\"error_x\":{\"color\":\"#2a3f5f\"},\"error_y\":{\"color\":\"#2a3f5f\"},\"marker\":{\"line\":{\"color\":\"#E5ECF6\",\"width\":0.5},\"pattern\":{\"fillmode\":\"overlay\",\"size\":10,\"solidity\":0.2}},\"type\":\"bar\"}],\"barpolar\":[{\"marker\":{\"line\":{\"color\":\"#E5ECF6\",\"width\":0.5},\"pattern\":{\"fillmode\":\"overlay\",\"size\":10,\"solidity\":0.2}},\"type\":\"barpolar\"}],\"carpet\":[{\"aaxis\":{\"endlinecolor\":\"#2a3f5f\",\"gridcolor\":\"white\",\"linecolor\":\"white\",\"minorgridcolor\":\"white\",\"startlinecolor\":\"#2a3f5f\"},\"baxis\":{\"endlinecolor\":\"#2a3f5f\",\"gridcolor\":\"white\",\"linecolor\":\"white\",\"minorgridcolor\":\"white\",\"startlinecolor\":\"#2a3f5f\"},\"type\":\"carpet\"}],\"choropleth\":[{\"colorbar\":{\"outlinewidth\":0,\"ticks\":\"\"},\"type\":\"choropleth\"}],\"contour\":[{\"colorbar\":{\"outlinewidth\":0,\"ticks\":\"\"},\"colorscale\":[[0.0,\"#0d0887\"],[0.1111111111111111,\"#46039f\"],[0.2222222222222222,\"#7201a8\"],[0.3333333333333333,\"#9c179e\"],[0.4444444444444444,\"#bd3786\"],[0.5555555555555556,\"#d8576b\"],[0.6666666666666666,\"#ed7953\"],[0.7777777777777778,\"#fb9f3a\"],[0.8888888888888888,\"#fdca26\"],[1.0,\"#f0f921\"]],\"type\":\"contour\"}],\"contourcarpet\":[{\"colorbar\":{\"outlinewidth\":0,\"ticks\":\"\"},\"type\":\"contourcarpet\"}],\"heatmap\":[{\"colorbar\":{\"outlinewidth\":0,\"ticks\":\"\"},\"colorscale\":[[0.0,\"#0d0887\"],[0.1111111111111111,\"#46039f\"],[0.2222222222222222,\"#7201a8\"],[0.3333333333333333,\"#9c179e\"],[0.4444444444444444,\"#bd3786\"],[0.5555555555555556,\"#d8576b\"],[0.6666666666666666,\"#ed7953\"],[0.7777777777777778,\"#fb9f3a\"],[0.8888888888888888,\"#fdca26\"],[1.0,\"#f0f921\"]],\"type\":\"heatmap\"}],\"heatmapgl\":[{\"colorbar\":{\"outlinewidth\":0,\"ticks\":\"\"},\"colorscale\":[[0.0,\"#0d0887\"],[0.1111111111111111,\"#46039f\"],[0.2222222222222222,\"#7201a8\"],[0.3333333333333333,\"#9c179e\"],[0.4444444444444444,\"#bd3786\"],[0.5555555555555556,\"#d8576b\"],[0.6666666666666666,\"#ed7953\"],[0.7777777777777778,\"#fb9f3a\"],[0.8888888888888888,\"#fdca26\"],[1.0,\"#f0f921\"]],\"type\":\"heatmapgl\"}],\"histogram\":[{\"marker\":{\"pattern\":{\"fillmode\":\"overlay\",\"size\":10,\"solidity\":0.2}},\"type\":\"histogram\"}],\"histogram2d\":[{\"colorbar\":{\"outlinewidth\":0,\"ticks\":\"\"},\"colorscale\":[[0.0,\"#0d0887\"],[0.1111111111111111,\"#46039f\"],[0.2222222222222222,\"#7201a8\"],[0.3333333333333333,\"#9c179e\"],[0.4444444444444444,\"#bd3786\"],[0.5555555555555556,\"#d8576b\"],[0.6666666666666666,\"#ed7953\"],[0.7777777777777778,\"#fb9f3a\"],[0.8888888888888888,\"#fdca26\"],[1.0,\"#f0f921\"]],\"type\":\"histogram2d\"}],\"histogram2dcontour\":[{\"colorbar\":{\"outlinewidth\":0,\"ticks\":\"\"},\"colorscale\":[[0.0,\"#0d0887\"],[0.1111111111111111,\"#46039f\"],[0.2222222222222222,\"#7201a8\"],[0.3333333333333333,\"#9c179e\"],[0.4444444444444444,\"#bd3786\"],[0.5555555555555556,\"#d8576b\"],[0.6666666666666666,\"#ed7953\"],[0.7777777777777778,\"#fb9f3a\"],[0.8888888888888888,\"#fdca26\"],[1.0,\"#f0f921\"]],\"type\":\"histogram2dcontour\"}],\"mesh3d\":[{\"colorbar\":{\"outlinewidth\":0,\"ticks\":\"\"},\"type\":\"mesh3d\"}],\"parcoords\":[{\"line\":{\"colorbar\":{\"outlinewidth\":0,\"ticks\":\"\"}},\"type\":\"parcoords\"}],\"pie\":[{\"automargin\":true,\"type\":\"pie\"}],\"scatter\":[{\"marker\":{\"colorbar\":{\"outlinewidth\":0,\"ticks\":\"\"}},\"type\":\"scatter\"}],\"scatter3d\":[{\"line\":{\"colorbar\":{\"outlinewidth\":0,\"ticks\":\"\"}},\"marker\":{\"colorbar\":{\"outlinewidth\":0,\"ticks\":\"\"}},\"type\":\"scatter3d\"}],\"scattercarpet\":[{\"marker\":{\"colorbar\":{\"outlinewidth\":0,\"ticks\":\"\"}},\"type\":\"scattercarpet\"}],\"scattergeo\":[{\"marker\":{\"colorbar\":{\"outlinewidth\":0,\"ticks\":\"\"}},\"type\":\"scattergeo\"}],\"scattergl\":[{\"marker\":{\"colorbar\":{\"outlinewidth\":0,\"ticks\":\"\"}},\"type\":\"scattergl\"}],\"scattermapbox\":[{\"marker\":{\"colorbar\":{\"outlinewidth\":0,\"ticks\":\"\"}},\"type\":\"scattermapbox\"}],\"scatterpolar\":[{\"marker\":{\"colorbar\":{\"outlinewidth\":0,\"ticks\":\"\"}},\"type\":\"scatterpolar\"}],\"scatterpolargl\":[{\"marker\":{\"colorbar\":{\"outlinewidth\":0,\"ticks\":\"\"}},\"type\":\"scatterpolargl\"}],\"scatterternary\":[{\"marker\":{\"colorbar\":{\"outlinewidth\":0,\"ticks\":\"\"}},\"type\":\"scatterternary\"}],\"surface\":[{\"colorbar\":{\"outlinewidth\":0,\"ticks\":\"\"},\"colorscale\":[[0.0,\"#0d0887\"],[0.1111111111111111,\"#46039f\"],[0.2222222222222222,\"#7201a8\"],[0.3333333333333333,\"#9c179e\"],[0.4444444444444444,\"#bd3786\"],[0.5555555555555556,\"#d8576b\"],[0.6666666666666666,\"#ed7953\"],[0.7777777777777778,\"#fb9f3a\"],[0.8888888888888888,\"#fdca26\"],[1.0,\"#f0f921\"]],\"type\":\"surface\"}],\"table\":[{\"cells\":{\"fill\":{\"color\":\"#EBF0F8\"},\"line\":{\"color\":\"white\"}},\"header\":{\"fill\":{\"color\":\"#C8D4E3\"},\"line\":{\"color\":\"white\"}},\"type\":\"table\"}]},\"layout\":{\"annotationdefaults\":{\"arrowcolor\":\"#2a3f5f\",\"arrowhead\":0,\"arrowwidth\":1},\"autotypenumbers\":\"strict\",\"coloraxis\":{\"colorbar\":{\"outlinewidth\":0,\"ticks\":\"\"}},\"colorscale\":{\"diverging\":[[0,\"#8e0152\"],[0.1,\"#c51b7d\"],[0.2,\"#de77ae\"],[0.3,\"#f1b6da\"],[0.4,\"#fde0ef\"],[0.5,\"#f7f7f7\"],[0.6,\"#e6f5d0\"],[0.7,\"#b8e186\"],[0.8,\"#7fbc41\"],[0.9,\"#4d9221\"],[1,\"#276419\"]],\"sequential\":[[0.0,\"#0d0887\"],[0.1111111111111111,\"#46039f\"],[0.2222222222222222,\"#7201a8\"],[0.3333333333333333,\"#9c179e\"],[0.4444444444444444,\"#bd3786\"],[0.5555555555555556,\"#d8576b\"],[0.6666666666666666,\"#ed7953\"],[0.7777777777777778,\"#fb9f3a\"],[0.8888888888888888,\"#fdca26\"],[1.0,\"#f0f921\"]],\"sequentialminus\":[[0.0,\"#0d0887\"],[0.1111111111111111,\"#46039f\"],[0.2222222222222222,\"#7201a8\"],[0.3333333333333333,\"#9c179e\"],[0.4444444444444444,\"#bd3786\"],[0.5555555555555556,\"#d8576b\"],[0.6666666666666666,\"#ed7953\"],[0.7777777777777778,\"#fb9f3a\"],[0.8888888888888888,\"#fdca26\"],[1.0,\"#f0f921\"]]},\"colorway\":[\"#636efa\",\"#EF553B\",\"#00cc96\",\"#ab63fa\",\"#FFA15A\",\"#19d3f3\",\"#FF6692\",\"#B6E880\",\"#FF97FF\",\"#FECB52\"],\"font\":{\"color\":\"#2a3f5f\"},\"geo\":{\"bgcolor\":\"white\",\"lakecolor\":\"white\",\"landcolor\":\"#E5ECF6\",\"showlakes\":true,\"showland\":true,\"subunitcolor\":\"white\"},\"hoverlabel\":{\"align\":\"left\"},\"hovermode\":\"closest\",\"mapbox\":{\"style\":\"light\"},\"paper_bgcolor\":\"white\",\"plot_bgcolor\":\"#E5ECF6\",\"polar\":{\"angularaxis\":{\"gridcolor\":\"white\",\"linecolor\":\"white\",\"ticks\":\"\"},\"bgcolor\":\"#E5ECF6\",\"radialaxis\":{\"gridcolor\":\"white\",\"linecolor\":\"white\",\"ticks\":\"\"}},\"scene\":{\"xaxis\":{\"backgroundcolor\":\"#E5ECF6\",\"gridcolor\":\"white\",\"gridwidth\":2,\"linecolor\":\"white\",\"showbackground\":true,\"ticks\":\"\",\"zerolinecolor\":\"white\"},\"yaxis\":{\"backgroundcolor\":\"#E5ECF6\",\"gridcolor\":\"white\",\"gridwidth\":2,\"linecolor\":\"white\",\"showbackground\":true,\"ticks\":\"\",\"zerolinecolor\":\"white\"},\"zaxis\":{\"backgroundcolor\":\"#E5ECF6\",\"gridcolor\":\"white\",\"gridwidth\":2,\"linecolor\":\"white\",\"showbackground\":true,\"ticks\":\"\",\"zerolinecolor\":\"white\"}},\"shapedefaults\":{\"line\":{\"color\":\"#2a3f5f\"}},\"ternary\":{\"aaxis\":{\"gridcolor\":\"white\",\"linecolor\":\"white\",\"ticks\":\"\"},\"baxis\":{\"gridcolor\":\"white\",\"linecolor\":\"white\",\"ticks\":\"\"},\"bgcolor\":\"#E5ECF6\",\"caxis\":{\"gridcolor\":\"white\",\"linecolor\":\"white\",\"ticks\":\"\"}},\"title\":{\"x\":0.05},\"xaxis\":{\"automargin\":true,\"gridcolor\":\"white\",\"linecolor\":\"white\",\"ticks\":\"\",\"title\":{\"standoff\":15},\"zerolinecolor\":\"white\",\"zerolinewidth\":2},\"yaxis\":{\"automargin\":true,\"gridcolor\":\"white\",\"linecolor\":\"white\",\"ticks\":\"\",\"title\":{\"standoff\":15},\"zerolinecolor\":\"white\",\"zerolinewidth\":2}}},\"title\":{\"text\":\"main menu rate\"}},                        {\"responsive\": true}                    ).then(function(){\n",
       "                            \n",
       "var gd = document.getElementById('a0b8dfbc-9111-4ac6-b0dd-49fcd8d4ff63');\n",
       "var x = new MutationObserver(function (mutations, observer) {{\n",
       "        var display = window.getComputedStyle(gd).display;\n",
       "        if (!display || display === 'none') {{\n",
       "            console.log([gd, 'removed!']);\n",
       "            Plotly.purge(gd);\n",
       "            observer.disconnect();\n",
       "        }}\n",
       "}});\n",
       "\n",
       "// Listen for the removal of the full notebook cells\n",
       "var notebookContainer = gd.closest('#notebook-container');\n",
       "if (notebookContainer) {{\n",
       "    x.observe(notebookContainer, {childList: true});\n",
       "}}\n",
       "\n",
       "// Listen for the clearing of the current output cell\n",
       "var outputEl = gd.closest('.output');\n",
       "if (outputEl) {{\n",
       "    x.observe(outputEl, {childList: true});\n",
       "}}\n",
       "\n",
       "                        })                };                });            </script>        </div>"
      ]
     },
     "metadata": {},
     "output_type": "display_data"
    }
   ],
   "source": [
    "fig = px.pie(values=df.name.value_counts().values, labels=df.name.value_counts().index, \n",
    "             names=df.name.value_counts().index, title=\"main menu rate\")\n",
    "fig.show()"
   ]
  },
  {
   "cell_type": "code",
   "execution_count": 66,
   "id": "fcf58f66-f74b-4d40-b7b8-2b3b2c0749c2",
   "metadata": {},
   "outputs": [
    {
     "data": {
      "text/html": [
       "<div>\n",
       "<style scoped>\n",
       "    .dataframe tbody tr th:only-of-type {\n",
       "        vertical-align: middle;\n",
       "    }\n",
       "\n",
       "    .dataframe tbody tr th {\n",
       "        vertical-align: top;\n",
       "    }\n",
       "\n",
       "    .dataframe thead th {\n",
       "        text-align: right;\n",
       "    }\n",
       "</style>\n",
       "<table border=\"1\" class=\"dataframe\">\n",
       "  <thead>\n",
       "    <tr style=\"text-align: right;\">\n",
       "      <th></th>\n",
       "      <th>y</th>\n",
       "      <th>soldout</th>\n",
       "      <th>kcal</th>\n",
       "    </tr>\n",
       "    <tr>\n",
       "      <th>name</th>\n",
       "      <th></th>\n",
       "      <th></th>\n",
       "      <th></th>\n",
       "    </tr>\n",
       "  </thead>\n",
       "  <tbody>\n",
       "    <tr>\n",
       "      <th>カキフライタルタル</th>\n",
       "      <td>160.0</td>\n",
       "      <td>0.0</td>\n",
       "      <td>NaN</td>\n",
       "    </tr>\n",
       "    <tr>\n",
       "      <th>五目御飯</th>\n",
       "      <td>157.0</td>\n",
       "      <td>0.0</td>\n",
       "      <td>NaN</td>\n",
       "    </tr>\n",
       "    <tr>\n",
       "      <th>やわらかロースのサムジョン</th>\n",
       "      <td>155.0</td>\n",
       "      <td>0.0</td>\n",
       "      <td>NaN</td>\n",
       "    </tr>\n",
       "    <tr>\n",
       "      <th>厚揚げ豚生姜炒め</th>\n",
       "      <td>153.0</td>\n",
       "      <td>1.0</td>\n",
       "      <td>NaN</td>\n",
       "    </tr>\n",
       "    <tr>\n",
       "      <th>クリームチーズ入りメンチ</th>\n",
       "      <td>151.0</td>\n",
       "      <td>1.0</td>\n",
       "      <td>NaN</td>\n",
       "    </tr>\n",
       "    <tr>\n",
       "      <th>ハンバーグ</th>\n",
       "      <td>151.0</td>\n",
       "      <td>0.0</td>\n",
       "      <td>NaN</td>\n",
       "    </tr>\n",
       "    <tr>\n",
       "      <th>ポーク味噌焼き</th>\n",
       "      <td>151.0</td>\n",
       "      <td>0.0</td>\n",
       "      <td>NaN</td>\n",
       "    </tr>\n",
       "    <tr>\n",
       "      <th>豚のスタミナ炒め</th>\n",
       "      <td>145.0</td>\n",
       "      <td>0.0</td>\n",
       "      <td>NaN</td>\n",
       "    </tr>\n",
       "    <tr>\n",
       "      <th>ハンバーグカレーソース</th>\n",
       "      <td>135.0</td>\n",
       "      <td>0.5</td>\n",
       "      <td>426.0</td>\n",
       "    </tr>\n",
       "    <tr>\n",
       "      <th>鶏の唐揚</th>\n",
       "      <td>135.0</td>\n",
       "      <td>1.0</td>\n",
       "      <td>NaN</td>\n",
       "    </tr>\n",
       "  </tbody>\n",
       "</table>\n",
       "</div>"
      ],
      "text/plain": [
       "                   y  soldout   kcal\n",
       "name                                \n",
       "カキフライタルタル      160.0      0.0    NaN\n",
       "五目御飯           157.0      0.0    NaN\n",
       "やわらかロースのサムジョン  155.0      0.0    NaN\n",
       "厚揚げ豚生姜炒め       153.0      1.0    NaN\n",
       "クリームチーズ入りメンチ   151.0      1.0    NaN\n",
       "ハンバーグ          151.0      0.0    NaN\n",
       "ポーク味噌焼き        151.0      0.0    NaN\n",
       "豚のスタミナ炒め       145.0      0.0    NaN\n",
       "ハンバーグカレーソース    135.0      0.5  426.0\n",
       "鶏の唐揚           135.0      1.0    NaN"
      ]
     },
     "execution_count": 66,
     "metadata": {},
     "output_type": "execute_result"
    }
   ],
   "source": [
    "name = df.groupby(\"name\").mean().sort_values(by=\"y\", ascending=False).loc[:, [\"y\", \"soldout\", \"kcal\"]]\n",
    "name[:10]"
   ]
  },
  {
   "cell_type": "code",
   "execution_count": 67,
   "id": "25d72410-984a-4f25-b278-4431662c2e77",
   "metadata": {},
   "outputs": [
    {
     "data": {
      "text/html": [
       "<div>\n",
       "<style scoped>\n",
       "    .dataframe tbody tr th:only-of-type {\n",
       "        vertical-align: middle;\n",
       "    }\n",
       "\n",
       "    .dataframe tbody tr th {\n",
       "        vertical-align: top;\n",
       "    }\n",
       "\n",
       "    .dataframe thead th {\n",
       "        text-align: right;\n",
       "    }\n",
       "</style>\n",
       "<table border=\"1\" class=\"dataframe\">\n",
       "  <thead>\n",
       "    <tr style=\"text-align: right;\">\n",
       "      <th></th>\n",
       "      <th>y</th>\n",
       "      <th>soldout</th>\n",
       "      <th>kcal</th>\n",
       "    </tr>\n",
       "    <tr>\n",
       "      <th>name</th>\n",
       "      <th></th>\n",
       "      <th></th>\n",
       "      <th></th>\n",
       "    </tr>\n",
       "  </thead>\n",
       "  <tbody>\n",
       "    <tr>\n",
       "      <th>鶏の天ぷら</th>\n",
       "      <td>47.0</td>\n",
       "      <td>0.0</td>\n",
       "      <td>420.0</td>\n",
       "    </tr>\n",
       "    <tr>\n",
       "      <th>カレイ唐揚げ 甘酢あん</th>\n",
       "      <td>46.0</td>\n",
       "      <td>0.0</td>\n",
       "      <td>395.0</td>\n",
       "    </tr>\n",
       "    <tr>\n",
       "      <th>サーモンフライ・タルタル</th>\n",
       "      <td>45.0</td>\n",
       "      <td>0.0</td>\n",
       "      <td>411.0</td>\n",
       "    </tr>\n",
       "    <tr>\n",
       "      <th>ランチビュッフェ</th>\n",
       "      <td>45.0</td>\n",
       "      <td>0.0</td>\n",
       "      <td>NaN</td>\n",
       "    </tr>\n",
       "    <tr>\n",
       "      <th>厚切イカフライ</th>\n",
       "      <td>45.0</td>\n",
       "      <td>0.0</td>\n",
       "      <td>400.0</td>\n",
       "    </tr>\n",
       "    <tr>\n",
       "      <th>鶏肉とカシューナッツ炒め</th>\n",
       "      <td>40.0</td>\n",
       "      <td>0.0</td>\n",
       "      <td>398.0</td>\n",
       "    </tr>\n",
       "    <tr>\n",
       "      <th>厚切ハムカツ</th>\n",
       "      <td>40.0</td>\n",
       "      <td>1.0</td>\n",
       "      <td>400.0</td>\n",
       "    </tr>\n",
       "    <tr>\n",
       "      <th>チキンの辛味噌焼き</th>\n",
       "      <td>39.0</td>\n",
       "      <td>0.0</td>\n",
       "      <td>398.0</td>\n",
       "    </tr>\n",
       "    <tr>\n",
       "      <th>豚肉の生姜焼き</th>\n",
       "      <td>38.0</td>\n",
       "      <td>0.0</td>\n",
       "      <td>380.0</td>\n",
       "    </tr>\n",
       "    <tr>\n",
       "      <th>筑前煮</th>\n",
       "      <td>29.0</td>\n",
       "      <td>0.0</td>\n",
       "      <td>395.0</td>\n",
       "    </tr>\n",
       "  </tbody>\n",
       "</table>\n",
       "</div>"
      ],
      "text/plain": [
       "                 y  soldout   kcal\n",
       "name                              \n",
       "鶏の天ぷら         47.0      0.0  420.0\n",
       "カレイ唐揚げ 甘酢あん   46.0      0.0  395.0\n",
       "サーモンフライ・タルタル  45.0      0.0  411.0\n",
       "ランチビュッフェ      45.0      0.0    NaN\n",
       "厚切イカフライ       45.0      0.0  400.0\n",
       "鶏肉とカシューナッツ炒め  40.0      0.0  398.0\n",
       "厚切ハムカツ        40.0      1.0  400.0\n",
       "チキンの辛味噌焼き     39.0      0.0  398.0\n",
       "豚肉の生姜焼き       38.0      0.0  380.0\n",
       "筑前煮           29.0      0.0  395.0"
      ]
     },
     "execution_count": 67,
     "metadata": {},
     "output_type": "execute_result"
    }
   ],
   "source": [
    "name[-10:]"
   ]
  },
  {
   "cell_type": "code",
   "execution_count": 75,
   "id": "d7bc1255-6986-4d0b-b115-9de4bb1b187b",
   "metadata": {},
   "outputs": [
    {
     "data": {
      "text/html": [
       "<style type=\"text/css\">\n",
       "#T_20c7e_row0_col0 {\n",
       "  background-color: #6384eb;\n",
       "  color: #f1f1f1;\n",
       "}\n",
       "#T_20c7e_row0_col1, #T_20c7e_row5_col1 {\n",
       "  background-color: #f2cbb7;\n",
       "  color: #000000;\n",
       "}\n",
       "#T_20c7e_row0_col2 {\n",
       "  background-color: #ead4c8;\n",
       "  color: #000000;\n",
       "}\n",
       "#T_20c7e_row0_col3, #T_20c7e_row1_col1, #T_20c7e_row1_col3, #T_20c7e_row4_col2, #T_20c7e_row5_col0 {\n",
       "  background-color: #b40426;\n",
       "  color: #f1f1f1;\n",
       "}\n",
       "#T_20c7e_row1_col0, #T_20c7e_row5_col2, #T_20c7e_row7_col3, #T_20c7e_row8_col1, #T_20c7e_row8_col3, #T_20c7e_row9_col3 {\n",
       "  background-color: #3b4cc0;\n",
       "  color: #f1f1f1;\n",
       "}\n",
       "#T_20c7e_row1_col2 {\n",
       "  background-color: #b6cefa;\n",
       "  color: #000000;\n",
       "}\n",
       "#T_20c7e_row2_col0 {\n",
       "  background-color: #ef886b;\n",
       "  color: #f1f1f1;\n",
       "}\n",
       "#T_20c7e_row2_col1 {\n",
       "  background-color: #d7dce3;\n",
       "  color: #000000;\n",
       "}\n",
       "#T_20c7e_row2_col2 {\n",
       "  background-color: #e36c55;\n",
       "  color: #f1f1f1;\n",
       "}\n",
       "#T_20c7e_row2_col3 {\n",
       "  background-color: #f7b89c;\n",
       "  color: #000000;\n",
       "}\n",
       "#T_20c7e_row3_col0 {\n",
       "  background-color: #c73635;\n",
       "  color: #f1f1f1;\n",
       "}\n",
       "#T_20c7e_row3_col1, #T_20c7e_row6_col1 {\n",
       "  background-color: #9ebeff;\n",
       "  color: #000000;\n",
       "}\n",
       "#T_20c7e_row3_col2 {\n",
       "  background-color: #b9d0f9;\n",
       "  color: #000000;\n",
       "}\n",
       "#T_20c7e_row3_col3, #T_20c7e_row4_col3, #T_20c7e_row5_col3, #T_20c7e_row6_col3 {\n",
       "  background-color: #aac7fd;\n",
       "  color: #000000;\n",
       "}\n",
       "#T_20c7e_row4_col0 {\n",
       "  background-color: #e26952;\n",
       "  color: #f1f1f1;\n",
       "}\n",
       "#T_20c7e_row4_col1 {\n",
       "  background-color: #d65244;\n",
       "  color: #f1f1f1;\n",
       "}\n",
       "#T_20c7e_row6_col0 {\n",
       "  background-color: #f7b99e;\n",
       "  color: #000000;\n",
       "}\n",
       "#T_20c7e_row6_col2 {\n",
       "  background-color: #c6d6f1;\n",
       "  color: #000000;\n",
       "}\n",
       "#T_20c7e_row7_col0 {\n",
       "  background-color: #f6bea4;\n",
       "  color: #000000;\n",
       "}\n",
       "#T_20c7e_row7_col1 {\n",
       "  background-color: #c0d4f5;\n",
       "  color: #000000;\n",
       "}\n",
       "#T_20c7e_row7_col2 {\n",
       "  background-color: #b7cff9;\n",
       "  color: #000000;\n",
       "}\n",
       "#T_20c7e_row8_col0 {\n",
       "  background-color: #f6a586;\n",
       "  color: #000000;\n",
       "}\n",
       "#T_20c7e_row8_col2 {\n",
       "  background-color: #d5dbe5;\n",
       "  color: #000000;\n",
       "}\n",
       "#T_20c7e_row9_col0 {\n",
       "  background-color: #d44e41;\n",
       "  color: #f1f1f1;\n",
       "}\n",
       "#T_20c7e_row9_col1 {\n",
       "  background-color: #ee8468;\n",
       "  color: #f1f1f1;\n",
       "}\n",
       "#T_20c7e_row9_col2 {\n",
       "  background-color: #f5a081;\n",
       "  color: #000000;\n",
       "}\n",
       "</style>\n",
       "<table id=\"T_20c7e_\">\n",
       "  <thead>\n",
       "    <tr>\n",
       "      <th class=\"blank level0\" >&nbsp;</th>\n",
       "      <th class=\"col_heading level0 col0\" >y</th>\n",
       "      <th class=\"col_heading level0 col1\" >soldout</th>\n",
       "      <th class=\"col_heading level0 col2\" >kcal</th>\n",
       "      <th class=\"col_heading level0 col3\" >counts</th>\n",
       "    </tr>\n",
       "  </thead>\n",
       "  <tbody>\n",
       "    <tr>\n",
       "      <th id=\"T_20c7e_level0_row0\" class=\"row_heading level0 row0\" >メンチカツ</th>\n",
       "      <td id=\"T_20c7e_row0_col0\" class=\"data row0 col0\" >76.500000</td>\n",
       "      <td id=\"T_20c7e_row0_col1\" class=\"data row0 col1\" >0.500000</td>\n",
       "      <td id=\"T_20c7e_row0_col2\" class=\"data row0 col2\" >404.333333</td>\n",
       "      <td id=\"T_20c7e_row0_col3\" class=\"data row0 col3\" >6</td>\n",
       "    </tr>\n",
       "    <tr>\n",
       "      <th id=\"T_20c7e_level0_row1\" class=\"row_heading level0 row1\" >タンドリーチキン</th>\n",
       "      <td id=\"T_20c7e_row1_col0\" class=\"data row1 col0\" >71.666667</td>\n",
       "      <td id=\"T_20c7e_row1_col1\" class=\"data row1 col1\" >0.833333</td>\n",
       "      <td id=\"T_20c7e_row1_col2\" class=\"data row1 col2\" >394.800000</td>\n",
       "      <td id=\"T_20c7e_row1_col3\" class=\"data row1 col3\" >6</td>\n",
       "    </tr>\n",
       "    <tr>\n",
       "      <th id=\"T_20c7e_level0_row2\" class=\"row_heading level0 row2\" >手作りロースカツ</th>\n",
       "      <td id=\"T_20c7e_row2_col0\" class=\"data row2 col0\" >101.000000</td>\n",
       "      <td id=\"T_20c7e_row2_col1\" class=\"data row2 col1\" >0.400000</td>\n",
       "      <td id=\"T_20c7e_row2_col2\" class=\"data row2 col2\" >419.250000</td>\n",
       "      <td id=\"T_20c7e_row2_col3\" class=\"data row2 col3\" >5</td>\n",
       "    </tr>\n",
       "    <tr>\n",
       "      <th id=\"T_20c7e_level0_row3\" class=\"row_heading level0 row3\" >鶏の唐揚げおろしソース</th>\n",
       "      <td id=\"T_20c7e_row3_col0\" class=\"data row3 col0\" >106.750000</td>\n",
       "      <td id=\"T_20c7e_row3_col1\" class=\"data row3 col1\" >0.250000</td>\n",
       "      <td id=\"T_20c7e_row3_col2\" class=\"data row3 col2\" >395.250000</td>\n",
       "      <td id=\"T_20c7e_row3_col3\" class=\"data row3 col3\" >4</td>\n",
       "    </tr>\n",
       "    <tr>\n",
       "      <th id=\"T_20c7e_level0_row4\" class=\"row_heading level0 row4\" >回鍋肉</th>\n",
       "      <td id=\"T_20c7e_row4_col0\" class=\"data row4 col0\" >103.500000</td>\n",
       "      <td id=\"T_20c7e_row4_col1\" class=\"data row4 col1\" >0.750000</td>\n",
       "      <td id=\"T_20c7e_row4_col2\" class=\"data row4 col2\" >427.000000</td>\n",
       "      <td id=\"T_20c7e_row4_col3\" class=\"data row4 col3\" >4</td>\n",
       "    </tr>\n",
       "    <tr>\n",
       "      <th id=\"T_20c7e_level0_row5\" class=\"row_heading level0 row5\" >マーボ豆腐</th>\n",
       "      <td id=\"T_20c7e_row5_col0\" class=\"data row5 col0\" >108.750000</td>\n",
       "      <td id=\"T_20c7e_row5_col1\" class=\"data row5 col1\" >0.500000</td>\n",
       "      <td id=\"T_20c7e_row5_col2\" class=\"data row5 col2\" >376.000000</td>\n",
       "      <td id=\"T_20c7e_row5_col3\" class=\"data row5 col3\" >4</td>\n",
       "    </tr>\n",
       "    <tr>\n",
       "      <th id=\"T_20c7e_level0_row6\" class=\"row_heading level0 row6\" >肉じゃが</th>\n",
       "      <td id=\"T_20c7e_row6_col0\" class=\"data row6 col0\" >96.250000</td>\n",
       "      <td id=\"T_20c7e_row6_col1\" class=\"data row6 col1\" >0.250000</td>\n",
       "      <td id=\"T_20c7e_row6_col2\" class=\"data row6 col2\" >397.333333</td>\n",
       "      <td id=\"T_20c7e_row6_col3\" class=\"data row6 col3\" >4</td>\n",
       "    </tr>\n",
       "    <tr>\n",
       "      <th id=\"T_20c7e_level0_row7\" class=\"row_heading level0 row7\" >酢豚</th>\n",
       "      <td id=\"T_20c7e_row7_col0\" class=\"data row7 col0\" >95.666667</td>\n",
       "      <td id=\"T_20c7e_row7_col1\" class=\"data row7 col1\" >0.333333</td>\n",
       "      <td id=\"T_20c7e_row7_col2\" class=\"data row7 col2\" >395.000000</td>\n",
       "      <td id=\"T_20c7e_row7_col3\" class=\"data row7 col3\" >3</td>\n",
       "    </tr>\n",
       "    <tr>\n",
       "      <th id=\"T_20c7e_level0_row8\" class=\"row_heading level0 row8\" >キーマカレー</th>\n",
       "      <td id=\"T_20c7e_row8_col0\" class=\"data row8 col0\" >98.333333</td>\n",
       "      <td id=\"T_20c7e_row8_col1\" class=\"data row8 col1\" >0.000000</td>\n",
       "      <td id=\"T_20c7e_row8_col2\" class=\"data row8 col2\" >400.000000</td>\n",
       "      <td id=\"T_20c7e_row8_col3\" class=\"data row8 col3\" >3</td>\n",
       "    </tr>\n",
       "    <tr>\n",
       "      <th id=\"T_20c7e_level0_row9\" class=\"row_heading level0 row9\" >チンジャオロース</th>\n",
       "      <td id=\"T_20c7e_row9_col0\" class=\"data row9 col0\" >105.333333</td>\n",
       "      <td id=\"T_20c7e_row9_col1\" class=\"data row9 col1\" >0.666667</td>\n",
       "      <td id=\"T_20c7e_row9_col2\" class=\"data row9 col2\" >413.333333</td>\n",
       "      <td id=\"T_20c7e_row9_col3\" class=\"data row9 col3\" >3</td>\n",
       "    </tr>\n",
       "  </tbody>\n",
       "</table>\n"
      ],
      "text/plain": [
       "<pandas.io.formats.style.Styler at 0x7f4b123d5820>"
      ]
     },
     "execution_count": 75,
     "metadata": {},
     "output_type": "execute_result"
    }
   ],
   "source": [
    "popular_name = df.name.value_counts().index[:10]\n",
    "\n",
    "pop_name_df = name.loc[popular_name, :]\n",
    "pop_name_df[\"counts\"] = df.name.value_counts().values[:10]\n",
    "pop_name_df.style.background_gradient(cmap=\"coolwarm\")"
   ]
  },
  {
   "cell_type": "markdown",
   "id": "98434a83-cbe0-4be0-9b91-38c2c2469051",
   "metadata": {},
   "source": [
    "### kcal\n",
    "---"
   ]
  },
  {
   "cell_type": "code",
   "execution_count": 81,
   "id": "db4dac46-0918-4559-991b-daf807d68698",
   "metadata": {},
   "outputs": [
    {
     "name": "stderr",
     "output_type": "stream",
     "text": [
      "/home/kooose/.local/lib/python3.8/site-packages/matplotlib/backends/backend_agg.py:240: RuntimeWarning:\n",
      "\n",
      "Glyph 26376 missing from current font.\n",
      "\n",
      "/home/kooose/.local/lib/python3.8/site-packages/matplotlib/backends/backend_agg.py:240: RuntimeWarning:\n",
      "\n",
      "Glyph 28779 missing from current font.\n",
      "\n",
      "/home/kooose/.local/lib/python3.8/site-packages/matplotlib/backends/backend_agg.py:240: RuntimeWarning:\n",
      "\n",
      "Glyph 27700 missing from current font.\n",
      "\n",
      "/home/kooose/.local/lib/python3.8/site-packages/matplotlib/backends/backend_agg.py:240: RuntimeWarning:\n",
      "\n",
      "Glyph 26408 missing from current font.\n",
      "\n",
      "/home/kooose/.local/lib/python3.8/site-packages/matplotlib/backends/backend_agg.py:240: RuntimeWarning:\n",
      "\n",
      "Glyph 37329 missing from current font.\n",
      "\n"
     ]
    },
    {
     "data": {
      "text/plain": [
       "<seaborn.axisgrid.FacetGrid at 0x7f4b107d20a0>"
      ]
     },
     "execution_count": 81,
     "metadata": {},
     "output_type": "execute_result"
    },
    {
     "name": "stderr",
     "output_type": "stream",
     "text": [
      "/home/kooose/.local/lib/python3.8/site-packages/matplotlib/backends/backend_agg.py:203: RuntimeWarning:\n",
      "\n",
      "Glyph 26376 missing from current font.\n",
      "\n",
      "/home/kooose/.local/lib/python3.8/site-packages/matplotlib/backends/backend_agg.py:203: RuntimeWarning:\n",
      "\n",
      "Glyph 28779 missing from current font.\n",
      "\n",
      "/home/kooose/.local/lib/python3.8/site-packages/matplotlib/backends/backend_agg.py:203: RuntimeWarning:\n",
      "\n",
      "Glyph 27700 missing from current font.\n",
      "\n",
      "/home/kooose/.local/lib/python3.8/site-packages/matplotlib/backends/backend_agg.py:203: RuntimeWarning:\n",
      "\n",
      "Glyph 26408 missing from current font.\n",
      "\n",
      "/home/kooose/.local/lib/python3.8/site-packages/matplotlib/backends/backend_agg.py:203: RuntimeWarning:\n",
      "\n",
      "Glyph 37329 missing from current font.\n",
      "\n"
     ]
    },
    {
     "data": {
      "image/png": "[encoded data removed]",
      "text/plain": [
       "<Figure size 1080x432 with 10 Axes>"
      ]
     },
     "metadata": {
      "needs_background": "light"
     },
     "output_type": "display_data"
    }
   ],
   "source": [
    "g = sns.FacetGrid(data=df, row=\"soldout\", col=\"week\")\n",
    "g.map(sns.regplot, \"kcal\", \"y\")"
   ]
  },
  {
   "cell_type": "code",
   "execution_count": 88,
   "id": "01cfffb4-3f20-431e-b2db-6ea4ac71cc3c",
   "metadata": {},
   "outputs": [
    {
     "name": "stdout",
     "output_type": "stream",
     "text": [
      "low sale kcal mean: kcal    408.0\n",
      "dtype: float64\n",
      "high sale kcal mean: kcal    411.5\n",
      "dtype: float64\n"
     ]
    },
    {
     "data": {
      "image/png": "[encoded data removed]",
      "text/plain": [
       "<Figure size 432x288 with 2 Axes>"
      ]
     },
     "metadata": {
      "needs_background": "light"
     },
     "output_type": "display_data"
    }
   ],
   "source": [
    "low_sale_kcal = df[df.y <= 78.0].loc[:, [\"kcal\"]]\n",
    "high_sale_kcal = df[df.y > 78.0].loc[:, [\"kcal\"]]\n",
    "\n",
    "plt.subplot(1, 2, 1)\n",
    "plt.hist(low_sale_kcal)\n",
    "plt.title(\"sale <= 78.0 on kcal hist\")\n",
    "plt.subplot(1, 2, 2)\n",
    "plt.hist(high_sale_kcal)\n",
    "plt.title(\"sale > 78.0 on kcal hist\")\n",
    "\n",
    "print(f\"low sale kcal mean: {low_sale_kcal.median()}\")\n",
    "print(f\"high sale kcal mean: {high_sale_kcal.median()}\")"
   ]
  },
  {
   "cell_type": "code",
   "execution_count": 111,
   "id": "9bf151cf-2df2-45f2-8f4f-09a1b17e7a11",
   "metadata": {},
   "outputs": [
    {
     "data": {
      "text/plain": [
       "<AxesSubplot:xlabel='kcal_isna'>"
      ]
     },
     "execution_count": 111,
     "metadata": {},
     "output_type": "execute_result"
    },
    {
     "data": {
      "image/png": "[encoded data removed]",
      "text/plain": [
       "<Figure size 432x288 with 1 Axes>"
      ]
     },
     "metadata": {
      "needs_background": "light"
     },
     "output_type": "display_data"
    }
   ],
   "source": [
    "df[\"kcal_isna\"] = df.kcal.isnull().astype(int)\n",
    "kcal_isna = df.groupby(\"kcal_isna\").mean().loc[:, [\"y\"]]\n",
    "kcal_isna.plot.bar()"
   ]
  },
  {
   "cell_type": "code",
   "execution_count": 112,
   "id": "c96d0c23-6735-4f72-8043-4c6efc1dc942",
   "metadata": {
    "collapsed": true,
    "jupyter": {
     "outputs_hidden": true
    },
    "tags": []
   },
   "outputs": [
    {
     "data": {
      "text/html": [
       "<div>\n",
       "<style scoped>\n",
       "    .dataframe tbody tr th:only-of-type {\n",
       "        vertical-align: middle;\n",
       "    }\n",
       "\n",
       "    .dataframe tbody tr th {\n",
       "        vertical-align: top;\n",
       "    }\n",
       "\n",
       "    .dataframe thead th {\n",
       "        text-align: right;\n",
       "    }\n",
       "</style>\n",
       "<table border=\"1\" class=\"dataframe\">\n",
       "  <thead>\n",
       "    <tr style=\"text-align: right;\">\n",
       "      <th></th>\n",
       "      <th>kcal</th>\n",
       "    </tr>\n",
       "  </thead>\n",
       "  <tbody>\n",
       "    <tr>\n",
       "      <th>4</th>\n",
       "      <td>406.782609</td>\n",
       "    </tr>\n",
       "    <tr>\n",
       "      <th>9</th>\n",
       "      <td>406.782609</td>\n",
       "    </tr>\n",
       "    <tr>\n",
       "      <th>14</th>\n",
       "      <td>406.782609</td>\n",
       "    </tr>\n",
       "    <tr>\n",
       "      <th>19</th>\n",
       "      <td>406.782609</td>\n",
       "    </tr>\n",
       "    <tr>\n",
       "      <th>24</th>\n",
       "      <td>406.782609</td>\n",
       "    </tr>\n",
       "    <tr>\n",
       "      <th>31</th>\n",
       "      <td>440.000000</td>\n",
       "    </tr>\n",
       "    <tr>\n",
       "      <th>35</th>\n",
       "      <td>430.000000</td>\n",
       "    </tr>\n",
       "    <tr>\n",
       "      <th>40</th>\n",
       "      <td>418.000000</td>\n",
       "    </tr>\n",
       "    <tr>\n",
       "      <th>45</th>\n",
       "      <td>460.000000</td>\n",
       "    </tr>\n",
       "    <tr>\n",
       "      <th>50</th>\n",
       "      <td>425.000000</td>\n",
       "    </tr>\n",
       "    <tr>\n",
       "      <th>54</th>\n",
       "      <td>432.000000</td>\n",
       "    </tr>\n",
       "    <tr>\n",
       "      <th>59</th>\n",
       "      <td>410.000000</td>\n",
       "    </tr>\n",
       "    <tr>\n",
       "      <th>64</th>\n",
       "      <td>428.000000</td>\n",
       "    </tr>\n",
       "    <tr>\n",
       "      <th>69</th>\n",
       "      <td>396.000000</td>\n",
       "    </tr>\n",
       "    <tr>\n",
       "      <th>74</th>\n",
       "      <td>360.000000</td>\n",
       "    </tr>\n",
       "    <tr>\n",
       "      <th>83</th>\n",
       "      <td>406.782609</td>\n",
       "    </tr>\n",
       "    <tr>\n",
       "      <th>88</th>\n",
       "      <td>350.000000</td>\n",
       "    </tr>\n",
       "    <tr>\n",
       "      <th>93</th>\n",
       "      <td>406.782609</td>\n",
       "    </tr>\n",
       "    <tr>\n",
       "      <th>98</th>\n",
       "      <td>325.000000</td>\n",
       "    </tr>\n",
       "    <tr>\n",
       "      <th>103</th>\n",
       "      <td>406.782609</td>\n",
       "    </tr>\n",
       "    <tr>\n",
       "      <th>107</th>\n",
       "      <td>420.000000</td>\n",
       "    </tr>\n",
       "    <tr>\n",
       "      <th>110</th>\n",
       "      <td>434.000000</td>\n",
       "    </tr>\n",
       "    <tr>\n",
       "      <th>115</th>\n",
       "      <td>406.782609</td>\n",
       "    </tr>\n",
       "    <tr>\n",
       "      <th>120</th>\n",
       "      <td>400.000000</td>\n",
       "    </tr>\n",
       "    <tr>\n",
       "      <th>125</th>\n",
       "      <td>406.782609</td>\n",
       "    </tr>\n",
       "    <tr>\n",
       "      <th>130</th>\n",
       "      <td>430.000000</td>\n",
       "    </tr>\n",
       "    <tr>\n",
       "      <th>135</th>\n",
       "      <td>406.782609</td>\n",
       "    </tr>\n",
       "    <tr>\n",
       "      <th>140</th>\n",
       "      <td>407.000000</td>\n",
       "    </tr>\n",
       "    <tr>\n",
       "      <th>145</th>\n",
       "      <td>406.782609</td>\n",
       "    </tr>\n",
       "    <tr>\n",
       "      <th>150</th>\n",
       "      <td>432.000000</td>\n",
       "    </tr>\n",
       "    <tr>\n",
       "      <th>155</th>\n",
       "      <td>406.782609</td>\n",
       "    </tr>\n",
       "    <tr>\n",
       "      <th>160</th>\n",
       "      <td>401.000000</td>\n",
       "    </tr>\n",
       "    <tr>\n",
       "      <th>164</th>\n",
       "      <td>406.782609</td>\n",
       "    </tr>\n",
       "    <tr>\n",
       "      <th>169</th>\n",
       "      <td>380.000000</td>\n",
       "    </tr>\n",
       "    <tr>\n",
       "      <th>174</th>\n",
       "      <td>406.782609</td>\n",
       "    </tr>\n",
       "    <tr>\n",
       "      <th>181</th>\n",
       "      <td>406.782609</td>\n",
       "    </tr>\n",
       "    <tr>\n",
       "      <th>186</th>\n",
       "      <td>398.000000</td>\n",
       "    </tr>\n",
       "    <tr>\n",
       "      <th>191</th>\n",
       "      <td>380.000000</td>\n",
       "    </tr>\n",
       "    <tr>\n",
       "      <th>196</th>\n",
       "      <td>406.782609</td>\n",
       "    </tr>\n",
       "    <tr>\n",
       "      <th>200</th>\n",
       "      <td>400.000000</td>\n",
       "    </tr>\n",
       "    <tr>\n",
       "      <th>204</th>\n",
       "      <td>406.782609</td>\n",
       "    </tr>\n",
       "  </tbody>\n",
       "</table>\n",
       "</div>"
      ],
      "text/plain": [
       "           kcal\n",
       "4    406.782609\n",
       "9    406.782609\n",
       "14   406.782609\n",
       "19   406.782609\n",
       "24   406.782609\n",
       "31   440.000000\n",
       "35   430.000000\n",
       "40   418.000000\n",
       "45   460.000000\n",
       "50   425.000000\n",
       "54   432.000000\n",
       "59   410.000000\n",
       "64   428.000000\n",
       "69   396.000000\n",
       "74   360.000000\n",
       "83   406.782609\n",
       "88   350.000000\n",
       "93   406.782609\n",
       "98   325.000000\n",
       "103  406.782609\n",
       "107  420.000000\n",
       "110  434.000000\n",
       "115  406.782609\n",
       "120  400.000000\n",
       "125  406.782609\n",
       "130  430.000000\n",
       "135  406.782609\n",
       "140  407.000000\n",
       "145  406.782609\n",
       "150  432.000000\n",
       "155  406.782609\n",
       "160  401.000000\n",
       "164  406.782609\n",
       "169  380.000000\n",
       "174  406.782609\n",
       "181  406.782609\n",
       "186  398.000000\n",
       "191  380.000000\n",
       "196  406.782609\n",
       "200  400.000000\n",
       "204  406.782609"
      ]
     },
     "execution_count": 112,
     "metadata": {},
     "output_type": "execute_result"
    }
   ],
   "source": [
    "kcal_mean_mon = df[df.week == \"月\"].loc[:, [\"kcal\"]].mean()\n",
    "kcal_mean_thes = df[df.week == \"火\"].loc[:, [\"kcal\"]].mean()\n",
    "kcal_mean_wed = df[df.week == \"水\"].loc[:, [\"kcal\"]].mean()\n",
    "kcal_mean_thr = df[df.week == \"木\"].loc[:, [\"kcal\"]].mean()\n",
    "kcal_mean_fri = df[df.week == \"金\"].loc[:, [\"kcal\"]].mean()\n",
    "\n",
    "mon = df[df.week == \"月\"].loc[:, [\"kcal\"]].fillna(kcal_mean_mon)\n",
    "thes = df[df.week == \"火\"].loc[:, [\"kcal\"]].fillna(kcal_mean_thes)\n",
    "wed = df[df.week == \"水\"].loc[:, [\"kcal\"]].fillna(kcal_mean_wed)\n",
    "thr = df[df.week == \"木\"].loc[:, [\"kcal\"]].fillna(kcal_mean_thr)\n",
    "fri = df[df.week == \"金\"].loc[:, [\"kcal\"]].fillna(kcal_mean_fri)\n",
    "df[\"kcal\"] = pd.concat([mon, thes, wed, thr, fri])\n"
   ]
  },
  {
   "cell_type": "markdown",
   "id": "7959b1fa-ba0e-4363-acd8-587c31374e08",
   "metadata": {},
   "source": [
    "### remarks\n",
    "---"
   ]
  },
  {
   "cell_type": "code",
   "execution_count": 130,
   "id": "4c6f3028-5386-44cc-a537-51bbb279055d",
   "metadata": {},
   "outputs": [
    {
     "data": {
      "text/html": [
       "<style type=\"text/css\">\n",
       "#T_eac34_row0_col1, #T_eac34_row3_col2 {\n",
       "  background-color: #b40426;\n",
       "  color: #f1f1f1;\n",
       "}\n",
       "#T_eac34_row0_col2 {\n",
       "  background-color: #ca3b37;\n",
       "  color: #f1f1f1;\n",
       "}\n",
       "#T_eac34_row1_col1 {\n",
       "  background-color: #b5cdfa;\n",
       "  color: #000000;\n",
       "}\n",
       "#T_eac34_row1_col2 {\n",
       "  background-color: #6c8ff1;\n",
       "  color: #f1f1f1;\n",
       "}\n",
       "#T_eac34_row2_col1, #T_eac34_row3_col1, #T_eac34_row4_col1, #T_eac34_row5_col1, #T_eac34_row5_col2 {\n",
       "  background-color: #3b4cc0;\n",
       "  color: #f1f1f1;\n",
       "}\n",
       "#T_eac34_row2_col2 {\n",
       "  background-color: #f7b093;\n",
       "  color: #000000;\n",
       "}\n",
       "#T_eac34_row4_col2 {\n",
       "  background-color: #abc8fd;\n",
       "  color: #000000;\n",
       "}\n",
       "</style>\n",
       "<table id=\"T_eac34_\">\n",
       "  <thead>\n",
       "    <tr>\n",
       "      <th class=\"blank level0\" >&nbsp;</th>\n",
       "      <th class=\"col_heading level0 col0\" >remarks</th>\n",
       "      <th class=\"col_heading level0 col1\" >remarks_counts</th>\n",
       "      <th class=\"col_heading level0 col2\" >y</th>\n",
       "    </tr>\n",
       "  </thead>\n",
       "  <tbody>\n",
       "    <tr>\n",
       "      <th id=\"T_eac34_level0_row0\" class=\"row_heading level0 row0\" >0</th>\n",
       "      <td id=\"T_eac34_row0_col0\" class=\"data row0 col0\" >お楽しみメニュー</td>\n",
       "      <td id=\"T_eac34_row0_col1\" class=\"data row0 col1\" >12</td>\n",
       "      <td id=\"T_eac34_row0_col2\" class=\"data row0 col2\" >108.750000</td>\n",
       "    </tr>\n",
       "    <tr>\n",
       "      <th id=\"T_eac34_level0_row1\" class=\"row_heading level0 row1\" >1</th>\n",
       "      <td id=\"T_eac34_row1_col0\" class=\"data row1 col0\" >料理長のこだわりメニュー</td>\n",
       "      <td id=\"T_eac34_row1_col1\" class=\"data row1 col1\" >5</td>\n",
       "      <td id=\"T_eac34_row1_col2\" class=\"data row1 col2\" >55.800000</td>\n",
       "    </tr>\n",
       "    <tr>\n",
       "      <th id=\"T_eac34_level0_row2\" class=\"row_heading level0 row2\" >2</th>\n",
       "      <td id=\"T_eac34_row2_col0\" class=\"data row2 col0\" >鶏のレモンペッパー焼（50食）、カレー（42食）</td>\n",
       "      <td id=\"T_eac34_row2_col1\" class=\"data row2 col1\" >1</td>\n",
       "      <td id=\"T_eac34_row2_col2\" class=\"data row2 col2\" >92.000000</td>\n",
       "    </tr>\n",
       "    <tr>\n",
       "      <th id=\"T_eac34_level0_row3\" class=\"row_heading level0 row3\" >3</th>\n",
       "      <td id=\"T_eac34_row3_col0\" class=\"data row3 col0\" >酢豚（28食）、カレー（85食）</td>\n",
       "      <td id=\"T_eac34_row3_col1\" class=\"data row3 col1\" >1</td>\n",
       "      <td id=\"T_eac34_row3_col2\" class=\"data row3 col2\" >113.000000</td>\n",
       "    </tr>\n",
       "    <tr>\n",
       "      <th id=\"T_eac34_level0_row4\" class=\"row_heading level0 row4\" >4</th>\n",
       "      <td id=\"T_eac34_row4_col0\" class=\"data row4 col0\" >手作りの味</td>\n",
       "      <td id=\"T_eac34_row4_col1\" class=\"data row4 col1\" >1</td>\n",
       "      <td id=\"T_eac34_row4_col2\" class=\"data row4 col2\" >68.000000</td>\n",
       "    </tr>\n",
       "    <tr>\n",
       "      <th id=\"T_eac34_level0_row5\" class=\"row_heading level0 row5\" >5</th>\n",
       "      <td id=\"T_eac34_row5_col0\" class=\"data row5 col0\" >スペシャルメニュー（800円）</td>\n",
       "      <td id=\"T_eac34_row5_col1\" class=\"data row5 col1\" >1</td>\n",
       "      <td id=\"T_eac34_row5_col2\" class=\"data row5 col2\" >45.000000</td>\n",
       "    </tr>\n",
       "  </tbody>\n",
       "</table>\n"
      ],
      "text/plain": [
       "<pandas.io.formats.style.Styler at 0x7f4b0f45e820>"
      ]
     },
     "execution_count": 130,
     "metadata": {},
     "output_type": "execute_result"
    }
   ],
   "source": [
    "remarks = df.remarks.value_counts()\n",
    "remarks_ = df.groupby(\"remarks\").mean().loc[:, [\"y\"]]\n",
    "re = pd.DataFrame({\"remarks\": remarks.index, \"remarks_counts\": remarks.values})\n",
    "pd.merge(re, remarks_, how=\"outer\", left_on=\"remarks\", right_on=\"remarks\").style.background_gradient(cmap=\"coolwarm\")"
   ]
  },
  {
   "cell_type": "code",
   "execution_count": 134,
   "id": "862bcca1-ec77-49e6-913d-476855f73a12",
   "metadata": {},
   "outputs": [
    {
     "data": {
      "text/plain": [
       "<AxesSubplot:xlabel='remarks_isna'>"
      ]
     },
     "execution_count": 134,
     "metadata": {},
     "output_type": "execute_result"
    },
    {
     "data": {
      "image/png": "[encoded data removed]",
      "text/plain": [
       "<Figure size 432x288 with 1 Axes>"
      ]
     },
     "metadata": {
      "needs_background": "light"
     },
     "output_type": "display_data"
    }
   ],
   "source": [
    "df[\"remarks_isna\"] = df.remarks.isnull().astype(int)\n",
    "df.groupby(\"remarks_isna\").mean().loc[:, [\"y\"]].plot.bar()"
   ]
  },
  {
   "cell_type": "code",
   "execution_count": 138,
   "id": "7049455b-686d-4471-b22e-89f43e24bd32",
   "metadata": {},
   "outputs": [],
   "source": [
    "from sklearn.preprocessing import LabelEncoder\n",
    "\n",
    "la = LabelEncoder()\n",
    "df[\"remarks\"] = la.fit_transform(df.remarks.fillna(\"none\"))"
   ]
  },
  {
   "cell_type": "code",
   "execution_count": 139,
   "id": "6c8c5740-bc79-4f0f-8317-9e6bb9498eaa",
   "metadata": {},
   "outputs": [
    {
     "data": {
      "text/plain": [
       "array(['none', 'お楽しみメニュー', 'スペシャルメニュー（800円）', '手作りの味', '料理長のこだわりメニュー',\n",
       "       '酢豚（28食）、カレー（85食）', '鶏のレモンペッパー焼（50食）、カレー（42食）'], dtype=object)"
      ]
     },
     "execution_count": 139,
     "metadata": {},
     "output_type": "execute_result"
    }
   ],
   "source": [
    "la.classes_"
   ]
  },
  {
   "cell_type": "markdown",
   "id": "e8008f91-1abe-4f64-9e2e-494cff53714c",
   "metadata": {},
   "source": [
    "### event\n",
    "---"
   ]
  },
  {
   "cell_type": "code",
   "execution_count": 148,
   "id": "391a48dc-a10b-4866-b1d9-8fcbbf1457ff",
   "metadata": {},
   "outputs": [
    {
     "data": {
      "text/plain": [
       "<AxesSubplot:xlabel='event_'>"
      ]
     },
     "execution_count": 148,
     "metadata": {},
     "output_type": "execute_result"
    },
    {
     "data": {
      "image/png": "[encoded data removed]",
      "text/plain": [
       "<Figure size 432x288 with 1 Axes>"
      ]
     },
     "metadata": {
      "needs_background": "light"
     },
     "output_type": "display_data"
    }
   ],
   "source": [
    "la = LabelEncoder()\n",
    "df[\"event_\"] = la.fit_transform(df.event.fillna(\"none\"))\n",
    "df.groupby(\"event_\").mean().loc[:, [\"y\"]].plot.bar()"
   ]
  },
  {
   "cell_type": "code",
   "execution_count": 149,
   "id": "413ef456-dd9e-4853-b709-3cf6bb3f5a5e",
   "metadata": {},
   "outputs": [
    {
     "data": {
      "text/plain": [
       "array(['none', 'キャリアアップ支援セミナー', 'ママの会'], dtype=object)"
      ]
     },
     "execution_count": 149,
     "metadata": {},
     "output_type": "execute_result"
    }
   ],
   "source": [
    "la.classes_"
   ]
  },
  {
   "cell_type": "code",
   "execution_count": 151,
   "id": "82c8af57-74c0-48c4-b657-7999b0695411",
   "metadata": {},
   "outputs": [
    {
     "data": {
      "text/plain": [
       "<AxesSubplot:xlabel='event_isna'>"
      ]
     },
     "execution_count": 151,
     "metadata": {},
     "output_type": "execute_result"
    },
    {
     "data": {
      "image/png": "[encoded data removed]",
      "text/plain": [
       "<Figure size 432x288 with 1 Axes>"
      ]
     },
     "metadata": {
      "needs_background": "light"
     },
     "output_type": "display_data"
    }
   ],
   "source": [
    "df[\"event_isna\"] = df.event.isnull().astype(int)\n",
    "df.groupby(\"event_isna\").mean().loc[:, [\"y\"]].plot.bar()"
   ]
  },
  {
   "cell_type": "code",
   "execution_count": 153,
   "id": "b49043f8-ae8e-451b-ae1a-2ce17bf37e21",
   "metadata": {},
   "outputs": [],
   "source": [
    "df[\"event\"] = df[\"event_\"]\n",
    "df.drop([\"event_\"], axis=1, inplace=True)"
   ]
  },
  {
   "cell_type": "code",
   "execution_count": 162,
   "id": "1dc9dd1d-fcd0-42bf-aec7-3c9b9e5ccaec",
   "metadata": {},
   "outputs": [
    {
     "data": {
      "text/html": [
       "<div>\n",
       "<style scoped>\n",
       "    .dataframe tbody tr th:only-of-type {\n",
       "        vertical-align: middle;\n",
       "    }\n",
       "\n",
       "    .dataframe tbody tr th {\n",
       "        vertical-align: top;\n",
       "    }\n",
       "\n",
       "    .dataframe thead th {\n",
       "        text-align: right;\n",
       "    }\n",
       "</style>\n",
       "<table border=\"1\" class=\"dataframe\">\n",
       "  <thead>\n",
       "    <tr style=\"text-align: right;\">\n",
       "      <th></th>\n",
       "      <th>datetime</th>\n",
       "      <th>y</th>\n",
       "      <th>week</th>\n",
       "      <th>soldout</th>\n",
       "      <th>name</th>\n",
       "      <th>kcal</th>\n",
       "      <th>remarks</th>\n",
       "      <th>event</th>\n",
       "      <th>payday</th>\n",
       "      <th>weather</th>\n",
       "      <th>precipitation</th>\n",
       "      <th>temperature</th>\n",
       "      <th>kcal_isna</th>\n",
       "      <th>remarks_isna</th>\n",
       "      <th>event_isna</th>\n",
       "      <th>holiday</th>\n",
       "    </tr>\n",
       "  </thead>\n",
       "  <tbody>\n",
       "    <tr>\n",
       "      <th>0</th>\n",
       "      <td>2013-11-18</td>\n",
       "      <td>90</td>\n",
       "      <td>0</td>\n",
       "      <td>0</td>\n",
       "      <td>厚切りイカフライ</td>\n",
       "      <td>398.970588</td>\n",
       "      <td>0</td>\n",
       "      <td>0</td>\n",
       "      <td>NaN</td>\n",
       "      <td>快晴</td>\n",
       "      <td>--</td>\n",
       "      <td>19.8</td>\n",
       "      <td>1</td>\n",
       "      <td>1</td>\n",
       "      <td>1</td>\n",
       "      <td>2</td>\n",
       "    </tr>\n",
       "    <tr>\n",
       "      <th>1</th>\n",
       "      <td>2013-11-19</td>\n",
       "      <td>101</td>\n",
       "      <td>3</td>\n",
       "      <td>1</td>\n",
       "      <td>手作りヒレカツ</td>\n",
       "      <td>406.714286</td>\n",
       "      <td>0</td>\n",
       "      <td>0</td>\n",
       "      <td>NaN</td>\n",
       "      <td>快晴</td>\n",
       "      <td>--</td>\n",
       "      <td>17.0</td>\n",
       "      <td>1</td>\n",
       "      <td>1</td>\n",
       "      <td>1</td>\n",
       "      <td>0</td>\n",
       "    </tr>\n",
       "    <tr>\n",
       "      <th>2</th>\n",
       "      <td>2013-11-20</td>\n",
       "      <td>118</td>\n",
       "      <td>2</td>\n",
       "      <td>0</td>\n",
       "      <td>白身魚唐揚げ野菜あん</td>\n",
       "      <td>406.621622</td>\n",
       "      <td>0</td>\n",
       "      <td>0</td>\n",
       "      <td>NaN</td>\n",
       "      <td>快晴</td>\n",
       "      <td>--</td>\n",
       "      <td>15.5</td>\n",
       "      <td>1</td>\n",
       "      <td>1</td>\n",
       "      <td>1</td>\n",
       "      <td>0</td>\n",
       "    </tr>\n",
       "    <tr>\n",
       "      <th>3</th>\n",
       "      <td>2013-11-21</td>\n",
       "      <td>120</td>\n",
       "      <td>1</td>\n",
       "      <td>1</td>\n",
       "      <td>若鶏ピリ辛焼</td>\n",
       "      <td>403.540541</td>\n",
       "      <td>0</td>\n",
       "      <td>0</td>\n",
       "      <td>NaN</td>\n",
       "      <td>快晴</td>\n",
       "      <td>--</td>\n",
       "      <td>15.2</td>\n",
       "      <td>1</td>\n",
       "      <td>1</td>\n",
       "      <td>1</td>\n",
       "      <td>0</td>\n",
       "    </tr>\n",
       "    <tr>\n",
       "      <th>4</th>\n",
       "      <td>2013-11-22</td>\n",
       "      <td>130</td>\n",
       "      <td>4</td>\n",
       "      <td>1</td>\n",
       "      <td>ビッグメンチカツ</td>\n",
       "      <td>406.782609</td>\n",
       "      <td>0</td>\n",
       "      <td>0</td>\n",
       "      <td>NaN</td>\n",
       "      <td>快晴</td>\n",
       "      <td>--</td>\n",
       "      <td>16.1</td>\n",
       "      <td>1</td>\n",
       "      <td>1</td>\n",
       "      <td>1</td>\n",
       "      <td>1</td>\n",
       "    </tr>\n",
       "    <tr>\n",
       "      <th>...</th>\n",
       "      <td>...</td>\n",
       "      <td>...</td>\n",
       "      <td>...</td>\n",
       "      <td>...</td>\n",
       "      <td>...</td>\n",
       "      <td>...</td>\n",
       "      <td>...</td>\n",
       "      <td>...</td>\n",
       "      <td>...</td>\n",
       "      <td>...</td>\n",
       "      <td>...</td>\n",
       "      <td>...</td>\n",
       "      <td>...</td>\n",
       "      <td>...</td>\n",
       "      <td>...</td>\n",
       "      <td>...</td>\n",
       "    </tr>\n",
       "    <tr>\n",
       "      <th>202</th>\n",
       "      <td>2014-09-24</td>\n",
       "      <td>59</td>\n",
       "      <td>2</td>\n",
       "      <td>1</td>\n",
       "      <td>白身魚のマスタード焼き</td>\n",
       "      <td>408.000000</td>\n",
       "      <td>0</td>\n",
       "      <td>0</td>\n",
       "      <td>NaN</td>\n",
       "      <td>曇</td>\n",
       "      <td>0</td>\n",
       "      <td>24.8</td>\n",
       "      <td>0</td>\n",
       "      <td>1</td>\n",
       "      <td>1</td>\n",
       "      <td>0</td>\n",
       "    </tr>\n",
       "    <tr>\n",
       "      <th>203</th>\n",
       "      <td>2014-09-25</td>\n",
       "      <td>50</td>\n",
       "      <td>1</td>\n",
       "      <td>0</td>\n",
       "      <td>牛カルビ焼き肉</td>\n",
       "      <td>394.000000</td>\n",
       "      <td>0</td>\n",
       "      <td>0</td>\n",
       "      <td>NaN</td>\n",
       "      <td>曇</td>\n",
       "      <td>0</td>\n",
       "      <td>25.4</td>\n",
       "      <td>0</td>\n",
       "      <td>1</td>\n",
       "      <td>1</td>\n",
       "      <td>0</td>\n",
       "    </tr>\n",
       "    <tr>\n",
       "      <th>204</th>\n",
       "      <td>2014-09-26</td>\n",
       "      <td>45</td>\n",
       "      <td>4</td>\n",
       "      <td>0</td>\n",
       "      <td>ランチビュッフェ</td>\n",
       "      <td>406.782609</td>\n",
       "      <td>2</td>\n",
       "      <td>1</td>\n",
       "      <td>NaN</td>\n",
       "      <td>晴れ</td>\n",
       "      <td>--</td>\n",
       "      <td>27.1</td>\n",
       "      <td>1</td>\n",
       "      <td>0</td>\n",
       "      <td>0</td>\n",
       "      <td>1</td>\n",
       "    </tr>\n",
       "    <tr>\n",
       "      <th>205</th>\n",
       "      <td>2014-09-29</td>\n",
       "      <td>56</td>\n",
       "      <td>0</td>\n",
       "      <td>1</td>\n",
       "      <td>豚肉と玉子の炒め</td>\n",
       "      <td>404.000000</td>\n",
       "      <td>0</td>\n",
       "      <td>0</td>\n",
       "      <td>NaN</td>\n",
       "      <td>快晴</td>\n",
       "      <td>--</td>\n",
       "      <td>26.6</td>\n",
       "      <td>0</td>\n",
       "      <td>1</td>\n",
       "      <td>1</td>\n",
       "      <td>2</td>\n",
       "    </tr>\n",
       "    <tr>\n",
       "      <th>206</th>\n",
       "      <td>2014-09-30</td>\n",
       "      <td>40</td>\n",
       "      <td>3</td>\n",
       "      <td>0</td>\n",
       "      <td>鶏肉とカシューナッツ炒め</td>\n",
       "      <td>398.000000</td>\n",
       "      <td>0</td>\n",
       "      <td>0</td>\n",
       "      <td>NaN</td>\n",
       "      <td>快晴</td>\n",
       "      <td>--</td>\n",
       "      <td>28.1</td>\n",
       "      <td>0</td>\n",
       "      <td>1</td>\n",
       "      <td>1</td>\n",
       "      <td>0</td>\n",
       "    </tr>\n",
       "  </tbody>\n",
       "</table>\n",
       "<p>207 rows × 16 columns</p>\n",
       "</div>"
      ],
      "text/plain": [
       "      datetime    y  week  soldout          name        kcal  remarks  event  \\\n",
       "0   2013-11-18   90     0        0      厚切りイカフライ  398.970588        0      0   \n",
       "1   2013-11-19  101     3        1       手作りヒレカツ  406.714286        0      0   \n",
       "2   2013-11-20  118     2        0    白身魚唐揚げ野菜あん  406.621622        0      0   \n",
       "3   2013-11-21  120     1        1        若鶏ピリ辛焼  403.540541        0      0   \n",
       "4   2013-11-22  130     4        1      ビッグメンチカツ  406.782609        0      0   \n",
       "..         ...  ...   ...      ...           ...         ...      ...    ...   \n",
       "202 2014-09-24   59     2        1   白身魚のマスタード焼き  408.000000        0      0   \n",
       "203 2014-09-25   50     1        0       牛カルビ焼き肉  394.000000        0      0   \n",
       "204 2014-09-26   45     4        0      ランチビュッフェ  406.782609        2      1   \n",
       "205 2014-09-29   56     0        1      豚肉と玉子の炒め  404.000000        0      0   \n",
       "206 2014-09-30   40     3        0  鶏肉とカシューナッツ炒め  398.000000        0      0   \n",
       "\n",
       "     payday weather precipitation  temperature  kcal_isna  remarks_isna  \\\n",
       "0       NaN      快晴            --         19.8          1             1   \n",
       "1       NaN      快晴            --         17.0          1             1   \n",
       "2       NaN      快晴            --         15.5          1             1   \n",
       "3       NaN      快晴            --         15.2          1             1   \n",
       "4       NaN      快晴            --         16.1          1             1   \n",
       "..      ...     ...           ...          ...        ...           ...   \n",
       "202     NaN       曇             0         24.8          0             1   \n",
       "203     NaN       曇             0         25.4          0             1   \n",
       "204     NaN      晴れ            --         27.1          1             0   \n",
       "205     NaN      快晴            --         26.6          0             1   \n",
       "206     NaN      快晴            --         28.1          0             1   \n",
       "\n",
       "     event_isna  holiday  \n",
       "0             1        2  \n",
       "1             1        0  \n",
       "2             1        0  \n",
       "3             1        0  \n",
       "4             1        1  \n",
       "..          ...      ...  \n",
       "202           1        0  \n",
       "203           1        0  \n",
       "204           0        1  \n",
       "205           1        2  \n",
       "206           1        0  \n",
       "\n",
       "[207 rows x 16 columns]"
      ]
     },
     "execution_count": 162,
     "metadata": {},
     "output_type": "execute_result"
    }
   ],
   "source": [
    "df"
   ]
  },
  {
   "cell_type": "markdown",
   "id": "12ddb500-fc49-4f7f-a8eb-b7796ab31f8b",
   "metadata": {},
   "source": [
    "### weather\n",
    "---"
   ]
  },
  {
   "cell_type": "code",
   "execution_count": 188,
   "id": "513e4064-cac0-4b41-8338-d90eec67accd",
   "metadata": {},
   "outputs": [
    {
     "data": {
      "text/plain": [
       "快晴    53\n",
       "曇     53\n",
       "晴れ    50\n",
       "薄曇    25\n",
       "雨     24\n",
       "雪      1\n",
       "雷電     1\n",
       "Name: weather, dtype: int64"
      ]
     },
     "execution_count": 188,
     "metadata": {},
     "output_type": "execute_result"
    }
   ],
   "source": [
    "df.weather.value_counts()"
   ]
  },
  {
   "cell_type": "code",
   "execution_count": 189,
   "id": "d31c0465-d046-41b8-915e-76d759d61063",
   "metadata": {},
   "outputs": [
    {
     "data": {
      "text/html": [
       "<div>\n",
       "<style scoped>\n",
       "    .dataframe tbody tr th:only-of-type {\n",
       "        vertical-align: middle;\n",
       "    }\n",
       "\n",
       "    .dataframe tbody tr th {\n",
       "        vertical-align: top;\n",
       "    }\n",
       "\n",
       "    .dataframe thead th {\n",
       "        text-align: right;\n",
       "    }\n",
       "</style>\n",
       "<table border=\"1\" class=\"dataframe\">\n",
       "  <thead>\n",
       "    <tr style=\"text-align: right;\">\n",
       "      <th></th>\n",
       "      <th>y</th>\n",
       "      <th>kcal</th>\n",
       "      <th>soldout</th>\n",
       "      <th>temperature</th>\n",
       "    </tr>\n",
       "    <tr>\n",
       "      <th>weather</th>\n",
       "      <th></th>\n",
       "      <th></th>\n",
       "      <th></th>\n",
       "      <th></th>\n",
       "    </tr>\n",
       "  </thead>\n",
       "  <tbody>\n",
       "    <tr>\n",
       "      <th>快晴</th>\n",
       "      <td>103.320755</td>\n",
       "      <td>403.794567</td>\n",
       "      <td>0.433962</td>\n",
       "      <td>15.203774</td>\n",
       "    </tr>\n",
       "    <tr>\n",
       "      <th>晴れ</th>\n",
       "      <td>78.980000</td>\n",
       "      <td>403.334430</td>\n",
       "      <td>0.420000</td>\n",
       "      <td>23.168000</td>\n",
       "    </tr>\n",
       "    <tr>\n",
       "      <th>曇</th>\n",
       "      <td>86.037736</td>\n",
       "      <td>404.466391</td>\n",
       "      <td>0.415094</td>\n",
       "      <td>18.109434</td>\n",
       "    </tr>\n",
       "    <tr>\n",
       "      <th>薄曇</th>\n",
       "      <td>74.520000</td>\n",
       "      <td>405.412926</td>\n",
       "      <td>0.280000</td>\n",
       "      <td>23.796000</td>\n",
       "    </tr>\n",
       "    <tr>\n",
       "      <th>雨</th>\n",
       "      <td>80.958333</td>\n",
       "      <td>406.263465</td>\n",
       "      <td>0.750000</td>\n",
       "      <td>18.587500</td>\n",
       "    </tr>\n",
       "    <tr>\n",
       "      <th>雪</th>\n",
       "      <td>86.000000</td>\n",
       "      <td>432.000000</td>\n",
       "      <td>1.000000</td>\n",
       "      <td>1.200000</td>\n",
       "    </tr>\n",
       "    <tr>\n",
       "      <th>雷電</th>\n",
       "      <td>54.000000</td>\n",
       "      <td>428.000000</td>\n",
       "      <td>1.000000</td>\n",
       "      <td>19.000000</td>\n",
       "    </tr>\n",
       "  </tbody>\n",
       "</table>\n",
       "</div>"
      ],
      "text/plain": [
       "                  y        kcal   soldout  temperature\n",
       "weather                                               \n",
       "快晴       103.320755  403.794567  0.433962    15.203774\n",
       "晴れ        78.980000  403.334430  0.420000    23.168000\n",
       "曇         86.037736  404.466391  0.415094    18.109434\n",
       "薄曇        74.520000  405.412926  0.280000    23.796000\n",
       "雨         80.958333  406.263465  0.750000    18.587500\n",
       "雪         86.000000  432.000000  1.000000     1.200000\n",
       "雷電        54.000000  428.000000  1.000000    19.000000"
      ]
     },
     "execution_count": 189,
     "metadata": {},
     "output_type": "execute_result"
    }
   ],
   "source": [
    "df.groupby(\"weather\").mean().loc[:, [\"y\", \"kcal\", \"soldout\", \"temperature\"]]"
   ]
  },
  {
   "cell_type": "code",
   "execution_count": 190,
   "id": "62b4011e-c4a6-436b-b3ba-bc5727713ba6",
   "metadata": {},
   "outputs": [
    {
     "data": {
      "text/plain": [
       "0      0\n",
       "1      0\n",
       "2      0\n",
       "3      0\n",
       "4      0\n",
       "      ..\n",
       "202    1\n",
       "203    1\n",
       "204    0\n",
       "205    0\n",
       "206    0\n",
       "Name: weather, Length: 207, dtype: int64"
      ]
     },
     "execution_count": 190,
     "metadata": {},
     "output_type": "execute_result"
    }
   ],
   "source": [
    "weather_type = df.weather.value_counts().index\n",
    "\n",
    "df[\"weather\"] = df.weather.map({weather_type[0]: 0, weather_type[2]: 0, weather_type[1]: 1, weather_type[3]: 1, \n",
    "               weather_type[4]: 2, weather_type[5]: 2, weather_type[6]: 2})\n",
    "\n",
    "df.weather"
   ]
  },
  {
   "cell_type": "code",
   "execution_count": 231,
   "id": "02a49b64-b7a0-4ac2-a6a9-b8e5ed901d54",
   "metadata": {},
   "outputs": [],
   "source": [
    "df[\"weather_before1\"] = df.weather.shift(-1).fillna(0)"
   ]
  },
  {
   "cell_type": "markdown",
   "id": "ec874198-6efa-4337-917b-02da53575972",
   "metadata": {},
   "source": [
    "### precipitaion\n",
    "---"
   ]
  },
  {
   "cell_type": "code",
   "execution_count": 193,
   "id": "de5910a3-14c2-4916-a971-876033805831",
   "metadata": {},
   "outputs": [],
   "source": [
    "def replace_prec(x):\n",
    "    if x == \"--\":\n",
    "        return 0\n",
    "    else: \n",
    "        return x \n",
    "    \n",
    "df[\"precipitation\"] =df.precipitation.apply(replace_prec)"
   ]
  },
  {
   "cell_type": "code",
   "execution_count": 194,
   "id": "1d2cb55a-6b2a-4e41-be86-ab6898df0253",
   "metadata": {},
   "outputs": [
    {
     "data": {
      "application/vnd.plotly.v1+json": {
       "config": {
        "plotlyServerURL": "https://plot.ly"
       },
       "data": [
        {
         "hovertemplate": "x=%{x}<br>y=%{y}<br>color=%{marker.color}<extra></extra>",
         "legendgroup": "",
         "marker": {
          "color": [
           0,
           0,
           0,
           0,
           0,
           1,
           0,
           0,
           1,
           0,
           0,
           0,
           0,
           0,
           0,
           1,
           1,
           1,
           0,
           0,
           0,
           1,
           1,
           2,
           1,
           0,
           0,
           1,
           0,
           1,
           1,
           0,
           0,
           1,
           0,
           0,
           0,
           0,
           0,
           0,
           0,
           0,
           0,
           0,
           1,
           0,
           0,
           2,
           0,
           1,
           0,
           1,
           1,
           1,
           2,
           0,
           0,
           1,
           1,
           0,
           1,
           0,
           0,
           2,
           0,
           1,
           0,
           2,
           0,
           0,
           1,
           0,
           0,
           2,
           1,
           0,
           0,
           1,
           2,
           0,
           0,
           1,
           1,
           0,
           0,
           1,
           1,
           2,
           0,
           0,
           0,
           0,
           0,
           0,
           0,
           0,
           1,
           0,
           1,
           1,
           1,
           0,
           0,
           0,
           0,
           2,
           0,
           0,
           0,
           1,
           0,
           1,
           2,
           1,
           1,
           0,
           1,
           1,
           2,
           2,
           1,
           1,
           1,
           0,
           0,
           1,
           1,
           1,
           0,
           2,
           2,
           2,
           1,
           2,
           2,
           0,
           1,
           1,
           2,
           0,
           1,
           1,
           1,
           2,
           1,
           2,
           1,
           1,
           0,
           1,
           2,
           2,
           0,
           2,
           1,
           0,
           1,
           0,
           0,
           0,
           1,
           0,
           1,
           1,
           0,
           0,
           0,
           0,
           0,
           1,
           1,
           0,
           0,
           0,
           1,
           0,
           2,
           1,
           0,
           0,
           1,
           0,
           1,
           2,
           1,
           2,
           1,
           1,
           0,
           1,
           1,
           0,
           1,
           0,
           1,
           1,
           0,
           0,
           1,
           1,
           1,
           0,
           1,
           1,
           0,
           0,
           0
          ],
          "coloraxis": "coloraxis",
          "symbol": "circle"
         },
         "mode": "markers",
         "name": "",
         "orientation": "v",
         "showlegend": false,
         "type": "scatter",
         "x": [
          0,
          0,
          0,
          0,
          0,
          0,
          0,
          0,
          0,
          0,
          0,
          0,
          0,
          0,
          0,
          0,
          "0.5",
          0,
          0,
          0,
          0,
          0,
          0,
          "0.5",
          0,
          0,
          0,
          0,
          0,
          0,
          0,
          0,
          0,
          0,
          0,
          0,
          0,
          0,
          0,
          0,
          0,
          0,
          0,
          0,
          0,
          0,
          0,
          "0",
          0,
          0,
          0,
          0,
          0,
          0,
          "0.5",
          0,
          0,
          0,
          0,
          0,
          0,
          0,
          0,
          "0",
          0,
          0,
          0,
          "1.5",
          0,
          0,
          0,
          0,
          0,
          "0.5",
          0,
          0,
          0,
          0,
          "0.5",
          0,
          0,
          0,
          "1.5",
          0,
          0,
          0,
          0,
          "1",
          0,
          0,
          0,
          0,
          0,
          0,
          0,
          0,
          0,
          0,
          "0",
          0,
          0,
          0,
          0,
          0,
          0,
          "0.5",
          0,
          0,
          0,
          0,
          0,
          0,
          "0",
          0,
          0,
          0,
          0,
          0,
          "6",
          "0",
          0,
          0,
          0,
          0,
          0,
          0,
          0,
          0,
          0,
          "0",
          "6.5",
          "0",
          0,
          "2.5",
          "0.5",
          0,
          0,
          0,
          "0",
          0,
          0,
          0,
          "0",
          "0",
          0,
          "0",
          0,
          0,
          0,
          0,
          "0.5",
          "0.5",
          0,
          "0",
          0,
          0,
          "0",
          0,
          0,
          0,
          0,
          0,
          0,
          0,
          0,
          0,
          0,
          0,
          0,
          0,
          0,
          0,
          0,
          0,
          0,
          0,
          "0",
          0,
          0,
          0,
          0,
          0,
          "0",
          "0",
          "0",
          "0",
          "0",
          0,
          0,
          0,
          "0",
          0,
          0,
          0,
          "0",
          0,
          0,
          0,
          0,
          0,
          0,
          0,
          "0",
          "0",
          0,
          0,
          0
         ],
         "xaxis": "x",
         "y": [
          90,
          101,
          118,
          120,
          130,
          135,
          145,
          140,
          151,
          116,
          151,
          153,
          151,
          171,
          134,
          165,
          155,
          157,
          109,
          111,
          160,
          145,
          145,
          151,
          134,
          122,
          121,
          80,
          131,
          128,
          129,
          87,
          129,
          134,
          107,
          85,
          126,
          129,
          126,
          107,
          92,
          126,
          120,
          121,
          105,
          92,
          139,
          121,
          126,
          111,
          91,
          137,
          111,
          84,
          86,
          137,
          99,
          113,
          85,
          113,
          129,
          104,
          104,
          90,
          69,
          131,
          100,
          110,
          77,
          73,
          123,
          89,
          68,
          80,
          70,
          129,
          90,
          72,
          100,
          102,
          77,
          51,
          55,
          106,
          84,
          125,
          99,
          100,
          90,
          107,
          96,
          88,
          87,
          128,
          92,
          82,
          57,
          57,
          56,
          109,
          78,
          63,
          56,
          80,
          54,
          97,
          64,
          47,
          88,
          59,
          58,
          73,
          70,
          64,
          58,
          126,
          70,
          71,
          104,
          54,
          65,
          77,
          79,
          74,
          64,
          119,
          74,
          59,
          47,
          64,
          93,
          74,
          56,
          50,
          72,
          121,
          76,
          63,
          66,
          56,
          57,
          72,
          61,
          64,
          49,
          74,
          65,
          54,
          50,
          53,
          63,
          82,
          56,
          54,
          48,
          124,
          65,
          51,
          53,
          53,
          55,
          53,
          56,
          62,
          83,
          65,
          52,
          58,
          60,
          38,
          75,
          54,
          58,
          63,
          129,
          45,
          40,
          56,
          53,
          56,
          54,
          100,
          55,
          68,
          62,
          56,
          39,
          65,
          68,
          53,
          54,
          43,
          68,
          63,
          54,
          53,
          115,
          56,
          49,
          46,
          45,
          29,
          59,
          50,
          45,
          56,
          40
         ],
         "yaxis": "y"
        }
       ],
       "layout": {
        "autosize": true,
        "coloraxis": {
         "colorbar": {
          "title": {
           "text": "color"
          }
         },
         "colorscale": [
          [
           0,
           "#0d0887"
          ],
          [
           0.1111111111111111,
           "#46039f"
          ],
          [
           0.2222222222222222,
           "#7201a8"
          ],
          [
           0.3333333333333333,
           "#9c179e"
          ],
          [
           0.4444444444444444,
           "#bd3786"
          ],
          [
           0.5555555555555556,
           "#d8576b"
          ],
          [
           0.6666666666666666,
           "#ed7953"
          ],
          [
           0.7777777777777778,
           "#fb9f3a"
          ],
          [
           0.8888888888888888,
           "#fdca26"
          ],
          [
           1,
           "#f0f921"
          ]
         ]
        },
        "legend": {
         "tracegroupgap": 0
        },
        "margin": {
         "t": 60
        },
        "template": {
         "data": {
          "bar": [
           {
            "error_x": {
             "color": "#2a3f5f"
            },
            "error_y": {
             "color": "#2a3f5f"
            },
            "marker": {
             "line": {
              "color": "#E5ECF6",
              "width": 0.5
             },
             "pattern": {
              "fillmode": "overlay",
              "size": 10,
              "solidity": 0.2
             }
            },
            "type": "bar"
           }
          ],
          "barpolar": [
           {
            "marker": {
             "line": {
              "color": "#E5ECF6",
              "width": 0.5
             },
             "pattern": {
              "fillmode": "overlay",
              "size": 10,
              "solidity": 0.2
             }
            },
            "type": "barpolar"
           }
          ],
          "carpet": [
           {
            "aaxis": {
             "endlinecolor": "#2a3f5f",
             "gridcolor": "white",
             "linecolor": "white",
             "minorgridcolor": "white",
             "startlinecolor": "#2a3f5f"
            },
            "baxis": {
             "endlinecolor": "#2a3f5f",
             "gridcolor": "white",
             "linecolor": "white",
             "minorgridcolor": "white",
             "startlinecolor": "#2a3f5f"
            },
            "type": "carpet"
           }
          ],
          "choropleth": [
           {
            "colorbar": {
             "outlinewidth": 0,
             "ticks": ""
            },
            "type": "choropleth"
           }
          ],
          "contour": [
           {
            "colorbar": {
             "outlinewidth": 0,
             "ticks": ""
            },
            "colorscale": [
             [
              0,
              "#0d0887"
             ],
             [
              0.1111111111111111,
              "#46039f"
             ],
             [
              0.2222222222222222,
              "#7201a8"
             ],
             [
              0.3333333333333333,
              "#9c179e"
             ],
             [
              0.4444444444444444,
              "#bd3786"
             ],
             [
              0.5555555555555556,
              "#d8576b"
             ],
             [
              0.6666666666666666,
              "#ed7953"
             ],
             [
              0.7777777777777778,
              "#fb9f3a"
             ],
             [
              0.8888888888888888,
              "#fdca26"
             ],
             [
              1,
              "#f0f921"
             ]
            ],
            "type": "contour"
           }
          ],
          "contourcarpet": [
           {
            "colorbar": {
             "outlinewidth": 0,
             "ticks": ""
            },
            "type": "contourcarpet"
           }
          ],
          "heatmap": [
           {
            "colorbar": {
             "outlinewidth": 0,
             "ticks": ""
            },
            "colorscale": [
             [
              0,
              "#0d0887"
             ],
             [
              0.1111111111111111,
              "#46039f"
             ],
             [
              0.2222222222222222,
              "#7201a8"
             ],
             [
              0.3333333333333333,
              "#9c179e"
             ],
             [
              0.4444444444444444,
              "#bd3786"
             ],
             [
              0.5555555555555556,
              "#d8576b"
             ],
             [
              0.6666666666666666,
              "#ed7953"
             ],
             [
              0.7777777777777778,
              "#fb9f3a"
             ],
             [
              0.8888888888888888,
              "#fdca26"
             ],
             [
              1,
              "#f0f921"
             ]
            ],
            "type": "heatmap"
           }
          ],
          "heatmapgl": [
           {
            "colorbar": {
             "outlinewidth": 0,
             "ticks": ""
            },
            "colorscale": [
             [
              0,
              "#0d0887"
             ],
             [
              0.1111111111111111,
              "#46039f"
             ],
             [
              0.2222222222222222,
              "#7201a8"
             ],
             [
              0.3333333333333333,
              "#9c179e"
             ],
             [
              0.4444444444444444,
              "#bd3786"
             ],
             [
              0.5555555555555556,
              "#d8576b"
             ],
             [
              0.6666666666666666,
              "#ed7953"
             ],
             [
              0.7777777777777778,
              "#fb9f3a"
             ],
             [
              0.8888888888888888,
              "#fdca26"
             ],
             [
              1,
              "#f0f921"
             ]
            ],
            "type": "heatmapgl"
           }
          ],
          "histogram": [
           {
            "marker": {
             "pattern": {
              "fillmode": "overlay",
              "size": 10,
              "solidity": 0.2
             }
            },
            "type": "histogram"
           }
          ],
          "histogram2d": [
           {
            "colorbar": {
             "outlinewidth": 0,
             "ticks": ""
            },
            "colorscale": [
             [
              0,
              "#0d0887"
             ],
             [
              0.1111111111111111,
              "#46039f"
             ],
             [
              0.2222222222222222,
              "#7201a8"
             ],
             [
              0.3333333333333333,
              "#9c179e"
             ],
             [
              0.4444444444444444,
              "#bd3786"
             ],
             [
              0.5555555555555556,
              "#d8576b"
             ],
             [
              0.6666666666666666,
              "#ed7953"
             ],
             [
              0.7777777777777778,
              "#fb9f3a"
             ],
             [
              0.8888888888888888,
              "#fdca26"
             ],
             [
              1,
              "#f0f921"
             ]
            ],
            "type": "histogram2d"
           }
          ],
          "histogram2dcontour": [
           {
            "colorbar": {
             "outlinewidth": 0,
             "ticks": ""
            },
            "colorscale": [
             [
              0,
              "#0d0887"
             ],
             [
              0.1111111111111111,
              "#46039f"
             ],
             [
              0.2222222222222222,
              "#7201a8"
             ],
             [
              0.3333333333333333,
              "#9c179e"
             ],
             [
              0.4444444444444444,
              "#bd3786"
             ],
             [
              0.5555555555555556,
              "#d8576b"
             ],
             [
              0.6666666666666666,
              "#ed7953"
             ],
             [
              0.7777777777777778,
              "#fb9f3a"
             ],
             [
              0.8888888888888888,
              "#fdca26"
             ],
             [
              1,
              "#f0f921"
             ]
            ],
            "type": "histogram2dcontour"
           }
          ],
          "mesh3d": [
           {
            "colorbar": {
             "outlinewidth": 0,
             "ticks": ""
            },
            "type": "mesh3d"
           }
          ],
          "parcoords": [
           {
            "line": {
             "colorbar": {
              "outlinewidth": 0,
              "ticks": ""
             }
            },
            "type": "parcoords"
           }
          ],
          "pie": [
           {
            "automargin": true,
            "type": "pie"
           }
          ],
          "scatter": [
           {
            "marker": {
             "colorbar": {
              "outlinewidth": 0,
              "ticks": ""
             }
            },
            "type": "scatter"
           }
          ],
          "scatter3d": [
           {
            "line": {
             "colorbar": {
              "outlinewidth": 0,
              "ticks": ""
             }
            },
            "marker": {
             "colorbar": {
              "outlinewidth": 0,
              "ticks": ""
             }
            },
            "type": "scatter3d"
           }
          ],
          "scattercarpet": [
           {
            "marker": {
             "colorbar": {
              "outlinewidth": 0,
              "ticks": ""
             }
            },
            "type": "scattercarpet"
           }
          ],
          "scattergeo": [
           {
            "marker": {
             "colorbar": {
              "outlinewidth": 0,
              "ticks": ""
             }
            },
            "type": "scattergeo"
           }
          ],
          "scattergl": [
           {
            "marker": {
             "colorbar": {
              "outlinewidth": 0,
              "ticks": ""
             }
            },
            "type": "scattergl"
           }
          ],
          "scattermapbox": [
           {
            "marker": {
             "colorbar": {
              "outlinewidth": 0,
              "ticks": ""
             }
            },
            "type": "scattermapbox"
           }
          ],
          "scatterpolar": [
           {
            "marker": {
             "colorbar": {
              "outlinewidth": 0,
              "ticks": ""
             }
            },
            "type": "scatterpolar"
           }
          ],
          "scatterpolargl": [
           {
            "marker": {
             "colorbar": {
              "outlinewidth": 0,
              "ticks": ""
             }
            },
            "type": "scatterpolargl"
           }
          ],
          "scatterternary": [
           {
            "marker": {
             "colorbar": {
              "outlinewidth": 0,
              "ticks": ""
             }
            },
            "type": "scatterternary"
           }
          ],
          "surface": [
           {
            "colorbar": {
             "outlinewidth": 0,
             "ticks": ""
            },
            "colorscale": [
             [
              0,
              "#0d0887"
             ],
             [
              0.1111111111111111,
              "#46039f"
             ],
             [
              0.2222222222222222,
              "#7201a8"
             ],
             [
              0.3333333333333333,
              "#9c179e"
             ],
             [
              0.4444444444444444,
              "#bd3786"
             ],
             [
              0.5555555555555556,
              "#d8576b"
             ],
             [
              0.6666666666666666,
              "#ed7953"
             ],
             [
              0.7777777777777778,
              "#fb9f3a"
             ],
             [
              0.8888888888888888,
              "#fdca26"
             ],
             [
              1,
              "#f0f921"
             ]
            ],
            "type": "surface"
           }
          ],
          "table": [
           {
            "cells": {
             "fill": {
              "color": "#EBF0F8"
             },
             "line": {
              "color": "white"
             }
            },
            "header": {
             "fill": {
              "color": "#C8D4E3"
             },
             "line": {
              "color": "white"
             }
            },
            "type": "table"
           }
          ]
         },
         "layout": {
          "annotationdefaults": {
           "arrowcolor": "#2a3f5f",
           "arrowhead": 0,
           "arrowwidth": 1
          },
          "autotypenumbers": "strict",
          "coloraxis": {
           "colorbar": {
            "outlinewidth": 0,
            "ticks": ""
           }
          },
          "colorscale": {
           "diverging": [
            [
             0,
             "#8e0152"
            ],
            [
             0.1,
             "#c51b7d"
            ],
            [
             0.2,
             "#de77ae"
            ],
            [
             0.3,
             "#f1b6da"
            ],
            [
             0.4,
             "#fde0ef"
            ],
            [
             0.5,
             "#f7f7f7"
            ],
            [
             0.6,
             "#e6f5d0"
            ],
            [
             0.7,
             "#b8e186"
            ],
            [
             0.8,
             "#7fbc41"
            ],
            [
             0.9,
             "#4d9221"
            ],
            [
             1,
             "#276419"
            ]
           ],
           "sequential": [
            [
             0,
             "#0d0887"
            ],
            [
             0.1111111111111111,
             "#46039f"
            ],
            [
             0.2222222222222222,
             "#7201a8"
            ],
            [
             0.3333333333333333,
             "#9c179e"
            ],
            [
             0.4444444444444444,
             "#bd3786"
            ],
            [
             0.5555555555555556,
             "#d8576b"
            ],
            [
             0.6666666666666666,
             "#ed7953"
            ],
            [
             0.7777777777777778,
             "#fb9f3a"
            ],
            [
             0.8888888888888888,
             "#fdca26"
            ],
            [
             1,
             "#f0f921"
            ]
           ],
           "sequentialminus": [
            [
             0,
             "#0d0887"
            ],
            [
             0.1111111111111111,
             "#46039f"
            ],
            [
             0.2222222222222222,
             "#7201a8"
            ],
            [
             0.3333333333333333,
             "#9c179e"
            ],
            [
             0.4444444444444444,
             "#bd3786"
            ],
            [
             0.5555555555555556,
             "#d8576b"
            ],
            [
             0.6666666666666666,
             "#ed7953"
            ],
            [
             0.7777777777777778,
             "#fb9f3a"
            ],
            [
             0.8888888888888888,
             "#fdca26"
            ],
            [
             1,
             "#f0f921"
            ]
           ]
          },
          "colorway": [
           "#636efa",
           "#EF553B",
           "#00cc96",
           "#ab63fa",
           "#FFA15A",
           "#19d3f3",
           "#FF6692",
           "#B6E880",
           "#FF97FF",
           "#FECB52"
          ],
          "font": {
           "color": "#2a3f5f"
          },
          "geo": {
           "bgcolor": "white",
           "lakecolor": "white",
           "landcolor": "#E5ECF6",
           "showlakes": true,
           "showland": true,
           "subunitcolor": "white"
          },
          "hoverlabel": {
           "align": "left"
          },
          "hovermode": "closest",
          "mapbox": {
           "style": "light"
          },
          "paper_bgcolor": "white",
          "plot_bgcolor": "#E5ECF6",
          "polar": {
           "angularaxis": {
            "gridcolor": "white",
            "linecolor": "white",
            "ticks": ""
           },
           "bgcolor": "#E5ECF6",
           "radialaxis": {
            "gridcolor": "white",
            "linecolor": "white",
            "ticks": ""
           }
          },
          "scene": {
           "xaxis": {
            "backgroundcolor": "#E5ECF6",
            "gridcolor": "white",
            "gridwidth": 2,
            "linecolor": "white",
            "showbackground": true,
            "ticks": "",
            "zerolinecolor": "white"
           },
           "yaxis": {
            "backgroundcolor": "#E5ECF6",
            "gridcolor": "white",
            "gridwidth": 2,
            "linecolor": "white",
            "showbackground": true,
            "ticks": "",
            "zerolinecolor": "white"
           },
           "zaxis": {
            "backgroundcolor": "#E5ECF6",
            "gridcolor": "white",
            "gridwidth": 2,
            "linecolor": "white",
            "showbackground": true,
            "ticks": "",
            "zerolinecolor": "white"
           }
          },
          "shapedefaults": {
           "line": {
            "color": "#2a3f5f"
           }
          },
          "ternary": {
           "aaxis": {
            "gridcolor": "white",
            "linecolor": "white",
            "ticks": ""
           },
           "baxis": {
            "gridcolor": "white",
            "linecolor": "white",
            "ticks": ""
           },
           "bgcolor": "#E5ECF6",
           "caxis": {
            "gridcolor": "white",
            "linecolor": "white",
            "ticks": ""
           }
          },
          "title": {
           "x": 0.05
          },
          "xaxis": {
           "automargin": true,
           "gridcolor": "white",
           "linecolor": "white",
           "ticks": "",
           "title": {
            "standoff": 15
           },
           "zerolinecolor": "white",
           "zerolinewidth": 2
          },
          "yaxis": {
           "automargin": true,
           "gridcolor": "white",
           "linecolor": "white",
           "ticks": "",
           "title": {
            "standoff": 15
           },
           "zerolinecolor": "white",
           "zerolinewidth": 2
          }
         }
        },
        "xaxis": {
         "anchor": "y",
         "autorange": true,
         "domain": [
          0,
          1
         ],
         "range": [
          -0.3768949294302143,
          6.376894929430215
         ],
         "title": {
          "text": "x"
         },
         "type": "category"
        },
        "yaxis": {
         "anchor": "x",
         "autorange": true,
         "domain": [
          0,
          1
         ],
         "range": [
          18.00524934383202,
          181.99475065616798
         ],
         "title": {
          "text": "y"
         },
         "type": "linear"
        }
       }
      },
      "image/png": "[encoded data removed]",
      "text/html": [
       "<div>                            <div id=\"c2279afe-916b-4e5b-a1ee-b93e6c8bdbb5\" class=\"plotly-graph-div\" style=\"height:525px; width:100%;\"></div>            <script type=\"text/javascript\">                require([\"plotly\"], function(Plotly) {                    window.PLOTLYENV=window.PLOTLYENV || {};                                    if (document.getElementById(\"c2279afe-916b-4e5b-a1ee-b93e6c8bdbb5\")) {                    Plotly.newPlot(                        \"c2279afe-916b-4e5b-a1ee-b93e6c8bdbb5\",                        [{\"hovertemplate\":\"x=%{x}<br>y=%{y}<br>color=%{marker.color}<extra></extra>\",\"legendgroup\":\"\",\"marker\":{\"color\":[0,0,0,0,0,1,0,0,1,0,0,0,0,0,0,1,1,1,0,0,0,1,1,2,1,0,0,1,0,1,1,0,0,1,0,0,0,0,0,0,0,0,0,0,1,0,0,2,0,1,0,1,1,1,2,0,0,1,1,0,1,0,0,2,0,1,0,2,0,0,1,0,0,2,1,0,0,1,2,0,0,1,1,0,0,1,1,2,0,0,0,0,0,0,0,0,1,0,1,1,1,0,0,0,0,2,0,0,0,1,0,1,2,1,1,0,1,1,2,2,1,1,1,0,0,1,1,1,0,2,2,2,1,2,2,0,1,1,2,0,1,1,1,2,1,2,1,1,0,1,2,2,0,2,1,0,1,0,0,0,1,0,1,1,0,0,0,0,0,1,1,0,0,0,1,0,2,1,0,0,1,0,1,2,1,2,1,1,0,1,1,0,1,0,1,1,0,0,1,1,1,0,1,1,0,0,0],\"coloraxis\":\"coloraxis\",\"symbol\":\"circle\"},\"mode\":\"markers\",\"name\":\"\",\"orientation\":\"v\",\"showlegend\":false,\"type\":\"scatter\",\"x\":[0,0,0,0,0,0,0,0,0,0,0,0,0,0,0,0,\"0.5\",0,0,0,0,0,0,\"0.5\",0,0,0,0,0,0,0,0,0,0,0,0,0,0,0,0,0,0,0,0,0,0,0,\"0\",0,0,0,0,0,0,\"0.5\",0,0,0,0,0,0,0,0,\"0\",0,0,0,\"1.5\",0,0,0,0,0,\"0.5\",0,0,0,0,\"0.5\",0,0,0,\"1.5\",0,0,0,0,\"1\",0,0,0,0,0,0,0,0,0,0,\"0\",0,0,0,0,0,0,\"0.5\",0,0,0,0,0,0,\"0\",0,0,0,0,0,\"6\",\"0\",0,0,0,0,0,0,0,0,0,\"0\",\"6.5\",\"0\",0,\"2.5\",\"0.5\",0,0,0,\"0\",0,0,0,\"0\",\"0\",0,\"0\",0,0,0,0,\"0.5\",\"0.5\",0,\"0\",0,0,\"0\",0,0,0,0,0,0,0,0,0,0,0,0,0,0,0,0,0,0,0,\"0\",0,0,0,0,0,\"0\",\"0\",\"0\",\"0\",\"0\",0,0,0,\"0\",0,0,0,\"0\",0,0,0,0,0,0,0,\"0\",\"0\",0,0,0],\"xaxis\":\"x\",\"y\":[90,101,118,120,130,135,145,140,151,116,151,153,151,171,134,165,155,157,109,111,160,145,145,151,134,122,121,80,131,128,129,87,129,134,107,85,126,129,126,107,92,126,120,121,105,92,139,121,126,111,91,137,111,84,86,137,99,113,85,113,129,104,104,90,69,131,100,110,77,73,123,89,68,80,70,129,90,72,100,102,77,51,55,106,84,125,99,100,90,107,96,88,87,128,92,82,57,57,56,109,78,63,56,80,54,97,64,47,88,59,58,73,70,64,58,126,70,71,104,54,65,77,79,74,64,119,74,59,47,64,93,74,56,50,72,121,76,63,66,56,57,72,61,64,49,74,65,54,50,53,63,82,56,54,48,124,65,51,53,53,55,53,56,62,83,65,52,58,60,38,75,54,58,63,129,45,40,56,53,56,54,100,55,68,62,56,39,65,68,53,54,43,68,63,54,53,115,56,49,46,45,29,59,50,45,56,40],\"yaxis\":\"y\"}],                        {\"coloraxis\":{\"colorbar\":{\"title\":{\"text\":\"color\"}},\"colorscale\":[[0.0,\"#0d0887\"],[0.1111111111111111,\"#46039f\"],[0.2222222222222222,\"#7201a8\"],[0.3333333333333333,\"#9c179e\"],[0.4444444444444444,\"#bd3786\"],[0.5555555555555556,\"#d8576b\"],[0.6666666666666666,\"#ed7953\"],[0.7777777777777778,\"#fb9f3a\"],[0.8888888888888888,\"#fdca26\"],[1.0,\"#f0f921\"]]},\"legend\":{\"tracegroupgap\":0},\"margin\":{\"t\":60},\"template\":{\"data\":{\"bar\":[{\"error_x\":{\"color\":\"#2a3f5f\"},\"error_y\":{\"color\":\"#2a3f5f\"},\"marker\":{\"line\":{\"color\":\"#E5ECF6\",\"width\":0.5},\"pattern\":{\"fillmode\":\"overlay\",\"size\":10,\"solidity\":0.2}},\"type\":\"bar\"}],\"barpolar\":[{\"marker\":{\"line\":{\"color\":\"#E5ECF6\",\"width\":0.5},\"pattern\":{\"fillmode\":\"overlay\",\"size\":10,\"solidity\":0.2}},\"type\":\"barpolar\"}],\"carpet\":[{\"aaxis\":{\"endlinecolor\":\"#2a3f5f\",\"gridcolor\":\"white\",\"linecolor\":\"white\",\"minorgridcolor\":\"white\",\"startlinecolor\":\"#2a3f5f\"},\"baxis\":{\"endlinecolor\":\"#2a3f5f\",\"gridcolor\":\"white\",\"linecolor\":\"white\",\"minorgridcolor\":\"white\",\"startlinecolor\":\"#2a3f5f\"},\"type\":\"carpet\"}],\"choropleth\":[{\"colorbar\":{\"outlinewidth\":0,\"ticks\":\"\"},\"type\":\"choropleth\"}],\"contour\":[{\"colorbar\":{\"outlinewidth\":0,\"ticks\":\"\"},\"colorscale\":[[0.0,\"#0d0887\"],[0.1111111111111111,\"#46039f\"],[0.2222222222222222,\"#7201a8\"],[0.3333333333333333,\"#9c179e\"],[0.4444444444444444,\"#bd3786\"],[0.5555555555555556,\"#d8576b\"],[0.6666666666666666,\"#ed7953\"],[0.7777777777777778,\"#fb9f3a\"],[0.8888888888888888,\"#fdca26\"],[1.0,\"#f0f921\"]],\"type\":\"contour\"}],\"contourcarpet\":[{\"colorbar\":{\"outlinewidth\":0,\"ticks\":\"\"},\"type\":\"contourcarpet\"}],\"heatmap\":[{\"colorbar\":{\"outlinewidth\":0,\"ticks\":\"\"},\"colorscale\":[[0.0,\"#0d0887\"],[0.1111111111111111,\"#46039f\"],[0.2222222222222222,\"#7201a8\"],[0.3333333333333333,\"#9c179e\"],[0.4444444444444444,\"#bd3786\"],[0.5555555555555556,\"#d8576b\"],[0.6666666666666666,\"#ed7953\"],[0.7777777777777778,\"#fb9f3a\"],[0.8888888888888888,\"#fdca26\"],[1.0,\"#f0f921\"]],\"type\":\"heatmap\"}],\"heatmapgl\":[{\"colorbar\":{\"outlinewidth\":0,\"ticks\":\"\"},\"colorscale\":[[0.0,\"#0d0887\"],[0.1111111111111111,\"#46039f\"],[0.2222222222222222,\"#7201a8\"],[0.3333333333333333,\"#9c179e\"],[0.4444444444444444,\"#bd3786\"],[0.5555555555555556,\"#d8576b\"],[0.6666666666666666,\"#ed7953\"],[0.7777777777777778,\"#fb9f3a\"],[0.8888888888888888,\"#fdca26\"],[1.0,\"#f0f921\"]],\"type\":\"heatmapgl\"}],\"histogram\":[{\"marker\":{\"pattern\":{\"fillmode\":\"overlay\",\"size\":10,\"solidity\":0.2}},\"type\":\"histogram\"}],\"histogram2d\":[{\"colorbar\":{\"outlinewidth\":0,\"ticks\":\"\"},\"colorscale\":[[0.0,\"#0d0887\"],[0.1111111111111111,\"#46039f\"],[0.2222222222222222,\"#7201a8\"],[0.3333333333333333,\"#9c179e\"],[0.4444444444444444,\"#bd3786\"],[0.5555555555555556,\"#d8576b\"],[0.6666666666666666,\"#ed7953\"],[0.7777777777777778,\"#fb9f3a\"],[0.8888888888888888,\"#fdca26\"],[1.0,\"#f0f921\"]],\"type\":\"histogram2d\"}],\"histogram2dcontour\":[{\"colorbar\":{\"outlinewidth\":0,\"ticks\":\"\"},\"colorscale\":[[0.0,\"#0d0887\"],[0.1111111111111111,\"#46039f\"],[0.2222222222222222,\"#7201a8\"],[0.3333333333333333,\"#9c179e\"],[0.4444444444444444,\"#bd3786\"],[0.5555555555555556,\"#d8576b\"],[0.6666666666666666,\"#ed7953\"],[0.7777777777777778,\"#fb9f3a\"],[0.8888888888888888,\"#fdca26\"],[1.0,\"#f0f921\"]],\"type\":\"histogram2dcontour\"}],\"mesh3d\":[{\"colorbar\":{\"outlinewidth\":0,\"ticks\":\"\"},\"type\":\"mesh3d\"}],\"parcoords\":[{\"line\":{\"colorbar\":{\"outlinewidth\":0,\"ticks\":\"\"}},\"type\":\"parcoords\"}],\"pie\":[{\"automargin\":true,\"type\":\"pie\"}],\"scatter\":[{\"marker\":{\"colorbar\":{\"outlinewidth\":0,\"ticks\":\"\"}},\"type\":\"scatter\"}],\"scatter3d\":[{\"line\":{\"colorbar\":{\"outlinewidth\":0,\"ticks\":\"\"}},\"marker\":{\"colorbar\":{\"outlinewidth\":0,\"ticks\":\"\"}},\"type\":\"scatter3d\"}],\"scattercarpet\":[{\"marker\":{\"colorbar\":{\"outlinewidth\":0,\"ticks\":\"\"}},\"type\":\"scattercarpet\"}],\"scattergeo\":[{\"marker\":{\"colorbar\":{\"outlinewidth\":0,\"ticks\":\"\"}},\"type\":\"scattergeo\"}],\"scattergl\":[{\"marker\":{\"colorbar\":{\"outlinewidth\":0,\"ticks\":\"\"}},\"type\":\"scattergl\"}],\"scattermapbox\":[{\"marker\":{\"colorbar\":{\"outlinewidth\":0,\"ticks\":\"\"}},\"type\":\"scattermapbox\"}],\"scatterpolar\":[{\"marker\":{\"colorbar\":{\"outlinewidth\":0,\"ticks\":\"\"}},\"type\":\"scatterpolar\"}],\"scatterpolargl\":[{\"marker\":{\"colorbar\":{\"outlinewidth\":0,\"ticks\":\"\"}},\"type\":\"scatterpolargl\"}],\"scatterternary\":[{\"marker\":{\"colorbar\":{\"outlinewidth\":0,\"ticks\":\"\"}},\"type\":\"scatterternary\"}],\"surface\":[{\"colorbar\":{\"outlinewidth\":0,\"ticks\":\"\"},\"colorscale\":[[0.0,\"#0d0887\"],[0.1111111111111111,\"#46039f\"],[0.2222222222222222,\"#7201a8\"],[0.3333333333333333,\"#9c179e\"],[0.4444444444444444,\"#bd3786\"],[0.5555555555555556,\"#d8576b\"],[0.6666666666666666,\"#ed7953\"],[0.7777777777777778,\"#fb9f3a\"],[0.8888888888888888,\"#fdca26\"],[1.0,\"#f0f921\"]],\"type\":\"surface\"}],\"table\":[{\"cells\":{\"fill\":{\"color\":\"#EBF0F8\"},\"line\":{\"color\":\"white\"}},\"header\":{\"fill\":{\"color\":\"#C8D4E3\"},\"line\":{\"color\":\"white\"}},\"type\":\"table\"}]},\"layout\":{\"annotationdefaults\":{\"arrowcolor\":\"#2a3f5f\",\"arrowhead\":0,\"arrowwidth\":1},\"autotypenumbers\":\"strict\",\"coloraxis\":{\"colorbar\":{\"outlinewidth\":0,\"ticks\":\"\"}},\"colorscale\":{\"diverging\":[[0,\"#8e0152\"],[0.1,\"#c51b7d\"],[0.2,\"#de77ae\"],[0.3,\"#f1b6da\"],[0.4,\"#fde0ef\"],[0.5,\"#f7f7f7\"],[0.6,\"#e6f5d0\"],[0.7,\"#b8e186\"],[0.8,\"#7fbc41\"],[0.9,\"#4d9221\"],[1,\"#276419\"]],\"sequential\":[[0.0,\"#0d0887\"],[0.1111111111111111,\"#46039f\"],[0.2222222222222222,\"#7201a8\"],[0.3333333333333333,\"#9c179e\"],[0.4444444444444444,\"#bd3786\"],[0.5555555555555556,\"#d8576b\"],[0.6666666666666666,\"#ed7953\"],[0.7777777777777778,\"#fb9f3a\"],[0.8888888888888888,\"#fdca26\"],[1.0,\"#f0f921\"]],\"sequentialminus\":[[0.0,\"#0d0887\"],[0.1111111111111111,\"#46039f\"],[0.2222222222222222,\"#7201a8\"],[0.3333333333333333,\"#9c179e\"],[0.4444444444444444,\"#bd3786\"],[0.5555555555555556,\"#d8576b\"],[0.6666666666666666,\"#ed7953\"],[0.7777777777777778,\"#fb9f3a\"],[0.8888888888888888,\"#fdca26\"],[1.0,\"#f0f921\"]]},\"colorway\":[\"#636efa\",\"#EF553B\",\"#00cc96\",\"#ab63fa\",\"#FFA15A\",\"#19d3f3\",\"#FF6692\",\"#B6E880\",\"#FF97FF\",\"#FECB52\"],\"font\":{\"color\":\"#2a3f5f\"},\"geo\":{\"bgcolor\":\"white\",\"lakecolor\":\"white\",\"landcolor\":\"#E5ECF6\",\"showlakes\":true,\"showland\":true,\"subunitcolor\":\"white\"},\"hoverlabel\":{\"align\":\"left\"},\"hovermode\":\"closest\",\"mapbox\":{\"style\":\"light\"},\"paper_bgcolor\":\"white\",\"plot_bgcolor\":\"#E5ECF6\",\"polar\":{\"angularaxis\":{\"gridcolor\":\"white\",\"linecolor\":\"white\",\"ticks\":\"\"},\"bgcolor\":\"#E5ECF6\",\"radialaxis\":{\"gridcolor\":\"white\",\"linecolor\":\"white\",\"ticks\":\"\"}},\"scene\":{\"xaxis\":{\"backgroundcolor\":\"#E5ECF6\",\"gridcolor\":\"white\",\"gridwidth\":2,\"linecolor\":\"white\",\"showbackground\":true,\"ticks\":\"\",\"zerolinecolor\":\"white\"},\"yaxis\":{\"backgroundcolor\":\"#E5ECF6\",\"gridcolor\":\"white\",\"gridwidth\":2,\"linecolor\":\"white\",\"showbackground\":true,\"ticks\":\"\",\"zerolinecolor\":\"white\"},\"zaxis\":{\"backgroundcolor\":\"#E5ECF6\",\"gridcolor\":\"white\",\"gridwidth\":2,\"linecolor\":\"white\",\"showbackground\":true,\"ticks\":\"\",\"zerolinecolor\":\"white\"}},\"shapedefaults\":{\"line\":{\"color\":\"#2a3f5f\"}},\"ternary\":{\"aaxis\":{\"gridcolor\":\"white\",\"linecolor\":\"white\",\"ticks\":\"\"},\"baxis\":{\"gridcolor\":\"white\",\"linecolor\":\"white\",\"ticks\":\"\"},\"bgcolor\":\"#E5ECF6\",\"caxis\":{\"gridcolor\":\"white\",\"linecolor\":\"white\",\"ticks\":\"\"}},\"title\":{\"x\":0.05},\"xaxis\":{\"automargin\":true,\"gridcolor\":\"white\",\"linecolor\":\"white\",\"ticks\":\"\",\"title\":{\"standoff\":15},\"zerolinecolor\":\"white\",\"zerolinewidth\":2},\"yaxis\":{\"automargin\":true,\"gridcolor\":\"white\",\"linecolor\":\"white\",\"ticks\":\"\",\"title\":{\"standoff\":15},\"zerolinecolor\":\"white\",\"zerolinewidth\":2}}},\"xaxis\":{\"anchor\":\"y\",\"domain\":[0.0,1.0],\"title\":{\"text\":\"x\"}},\"yaxis\":{\"anchor\":\"x\",\"domain\":[0.0,1.0],\"title\":{\"text\":\"y\"}}},                        {\"responsive\": true}                    ).then(function(){\n",
       "                            \n",
       "var gd = document.getElementById('c2279afe-916b-4e5b-a1ee-b93e6c8bdbb5');\n",
       "var x = new MutationObserver(function (mutations, observer) {{\n",
       "        var display = window.getComputedStyle(gd).display;\n",
       "        if (!display || display === 'none') {{\n",
       "            console.log([gd, 'removed!']);\n",
       "            Plotly.purge(gd);\n",
       "            observer.disconnect();\n",
       "        }}\n",
       "}});\n",
       "\n",
       "// Listen for the removal of the full notebook cells\n",
       "var notebookContainer = gd.closest('#notebook-container');\n",
       "if (notebookContainer) {{\n",
       "    x.observe(notebookContainer, {childList: true});\n",
       "}}\n",
       "\n",
       "// Listen for the clearing of the current output cell\n",
       "var outputEl = gd.closest('.output');\n",
       "if (outputEl) {{\n",
       "    x.observe(outputEl, {childList: true});\n",
       "}}\n",
       "\n",
       "                        })                };                });            </script>        </div>"
      ]
     },
     "metadata": {},
     "output_type": "display_data"
    }
   ],
   "source": [
    "px.scatter(x=df.precipitation, y=df.y, color=df.weather)"
   ]
  },
  {
   "cell_type": "markdown",
   "id": "4b55f74f-0291-49e9-a995-dd60f4aa2443",
   "metadata": {},
   "source": [
    "### payday \n",
    "---"
   ]
  },
  {
   "cell_type": "code",
   "execution_count": 213,
   "id": "e7347ad4-3864-4b7f-8977-004d0d141b91",
   "metadata": {},
   "outputs": [
    {
     "data": {
      "text/plain": [
       "Text(0.5, 1.0, 'is after 1 day payday vs sales')"
      ]
     },
     "execution_count": 213,
     "metadata": {},
     "output_type": "execute_result"
    },
    {
     "data": {
      "image/png": "[encoded data removed]",
      "text/plain": [
       "<Figure size 864x288 with 3 Axes>"
      ]
     },
     "metadata": {
      "needs_background": "light"
     },
     "output_type": "display_data"
    }
   ],
   "source": [
    "df[\"payday\"] = df.payday.fillna(0)\n",
    "df[\"payday\"] = df.payday.astype(int)\n",
    "df[\"payday_before1\"] = df.payday.shift(-1).fillna(0).astype(int)\n",
    "df[\"payday_after1\"] = df.payday.shift(1).fillna(0).astype(int)\n",
    "\n",
    "plt.figure(figsize=(12, 4))\n",
    "plt.subplot(1, 3, 1)\n",
    "plt.bar(df.payday_, df.y)\n",
    "plt.title(\"is payday vs sales\")\n",
    "plt.subplot(1, 3, 2)\n",
    "plt.bar(df.payday_before1, df.y)\n",
    "plt.title(\"is before 1 day payday vs sales\")\n",
    "plt.subplot(1, 3, 3)\n",
    "plt.bar(df.payday_after1.fillna(0), df.y)\n",
    "plt.title(\"is after 1 day payday vs sales\")"
   ]
  },
  {
   "cell_type": "markdown",
   "id": "b5638fb5-2355-4e81-9779-c220a040777b",
   "metadata": {},
   "source": [
    "### datetime \n",
    "---"
   ]
  },
  {
   "cell_type": "code",
   "execution_count": 232,
   "id": "bbd0494d-e90d-4d96-8e0c-455e3cb498c7",
   "metadata": {},
   "outputs": [],
   "source": [
    "df[\"sale_before1\"] = df.y.shift(-1).fillna(df.y.mean())\n",
    "df[\"moving_avg\"] = df.y.rolling(window=5).mean().fillna(df.y.mean())"
   ]
  },
  {
   "cell_type": "code",
   "execution_count": 246,
   "id": "04c1de7c-ffb1-47e6-a086-da5d6d69de05",
   "metadata": {},
   "outputs": [],
   "source": [
    "df[\"datetime\"] = pd.to_datetime(df.datetime)\n",
    "df[\"quarter\"] = df[\"datetime\"].dt.quarter\n",
    "df[\"month\"] = df[\"datetime\"].dt.month\n",
    "df[\"day\"] = df[\"datetime\"].dt.day\n",
    "df[\"day\"] = (df[\"day\"]-1)/(31-1)"
   ]
  },
  {
   "cell_type": "code",
   "execution_count": 254,
   "id": "23b91429-7794-4568-9cdc-303ab68b2e54",
   "metadata": {},
   "outputs": [
    {
     "data": {
      "text/plain": [
       "<AxesSubplot:xlabel='quarter'>"
      ]
     },
     "execution_count": 254,
     "metadata": {},
     "output_type": "execute_result"
    },
    {
     "data": {
      "image/png": "[encoded data removed]",
      "text/plain": [
       "<Figure size 432x288 with 1 Axes>"
      ]
     },
     "metadata": {
      "needs_background": "light"
     },
     "output_type": "display_data"
    }
   ],
   "source": [
    "q_y_mean = df.groupby(\"quarter\")[\"y\"].mean()\n",
    "df[\"quarter_y_maen\"] = df.quarter.map(q_y_mean)\n",
    "q_y_mean.plot.bar()"
   ]
  },
  {
   "cell_type": "code",
   "execution_count": 258,
   "id": "6df50b38-6dc3-4861-adb3-b0c0553158b3",
   "metadata": {},
   "outputs": [
    {
     "data": {
      "image/png": "[encoded data removed]",
      "text/plain": [
       "<Figure size 1440x504 with 1 Axes>"
      ]
     },
     "metadata": {
      "needs_background": "light"
     },
     "output_type": "display_data"
    }
   ],
   "source": [
    "plt.figure(figsize=(20, 7))\n",
    "plt.plot(df.datetime, df.y)\n",
    "plt.plot(df.datetime, df.quarter_y_maen)\n",
    "plt.plot(df.datetime, df.moving_avg)\n",
    "plt.legend([\"sales\", \"quarter mean\", \"moving average\"])\n",
    "plt.xticks([])\n",
    "plt.xlabel(\"datetime\")\n",
    "plt.ylabel(\"sales\")\n",
    "plt.grid()\n",
    "plt.show()"
   ]
  },
  {
   "cell_type": "markdown",
   "id": "293d80d5-14e8-4578-a252-f0a927e0a326",
   "metadata": {},
   "source": [
    "### preprocess\n",
    "---\n"
   ]
  },
  {
   "cell_type": "code",
   "execution_count": 271,
   "id": "21423ade-edc1-4780-a6a6-867b0c98566e",
   "metadata": {},
   "outputs": [],
   "source": [
    "df = df.sort_index(ascending=True)\n",
    "df.drop([\"datetime\", \"name\"], axis=1, inplace=True)"
   ]
  },
  {
   "cell_type": "code",
   "execution_count": 277,
   "id": "e61f811f-e3bb-48c0-b1c8-5e5d5db92f45",
   "metadata": {},
   "outputs": [],
   "source": [
    "from category_transform import TargetEncoder "
   ]
  },
  {
   "cell_type": "code",
   "execution_count": 302,
   "id": "5d47927d-39c0-4006-82f5-377eda010f0b",
   "metadata": {},
   "outputs": [
    {
     "data": {
      "text/plain": [
       "month\n",
       "1     115.222222\n",
       "2     107.842105\n",
       "3      89.350000\n",
       "4      85.761905\n",
       "5      74.200000\n",
       "6      67.285714\n",
       "7      61.363636\n",
       "8      61.166667\n",
       "9      55.550000\n",
       "11    124.600000\n",
       "12    139.722222\n",
       "Name: target, dtype: float64"
      ]
     },
     "execution_count": 302,
     "metadata": {},
     "output_type": "execute_result"
    }
   ],
   "source": [
    "tag = TargetEncoder()\n",
    "tag.fit(df.drop([\"y\"], axis=1), df[[\"y\"]], col=\"month\")\n",
    "df, _ = tag.transform(df.drop([\"y\"], axis=1))"
   ]
  },
  {
   "cell_type": "code",
   "execution_count": 312,
   "id": "d0e82fd6-f4eb-41d9-8996-d6c68b2586c9",
   "metadata": {},
   "outputs": [],
   "source": [
    "# train test val splits \n",
    "train = df.copy()\n",
    "n_ = train.shape[0]\n",
    "n_train = int(n_*.6)\n",
    "n_val = int(n_*.2)\n",
    "\n",
    "x_train, x_val, x_test, y_train, y_val, y_test = \\\n",
    "train.drop([\"y\"], axis=1).iloc[:n_train, :], train.drop([\"y\"], axis=1).iloc[n_train:n_val+n_train, :], train.drop([\"y\"], axis=1).iloc[n_val+n_train:, :], \\\n",
    "train[[\"y\"]].iloc[:n_train, :], train[[\"y\"]].iloc[n_train:n_val+n_train, :], train[[\"y\"]].iloc[n_val+n_train:, :]\n"
   ]
  },
  {
   "cell_type": "code",
   "execution_count": 318,
   "id": "6c4e3818-2130-4e0c-84eb-94df14d7ce62",
   "metadata": {},
   "outputs": [
    {
     "data": {
      "text/html": [
       "<div>\n",
       "<style scoped>\n",
       "    .dataframe tbody tr th:only-of-type {\n",
       "        vertical-align: middle;\n",
       "    }\n",
       "\n",
       "    .dataframe tbody tr th {\n",
       "        vertical-align: top;\n",
       "    }\n",
       "\n",
       "    .dataframe thead th {\n",
       "        text-align: right;\n",
       "    }\n",
       "</style>\n",
       "<table border=\"1\" class=\"dataframe\">\n",
       "  <thead>\n",
       "    <tr style=\"text-align: right;\">\n",
       "      <th></th>\n",
       "      <th>week</th>\n",
       "      <th>soldout</th>\n",
       "      <th>kcal</th>\n",
       "      <th>remarks</th>\n",
       "      <th>event</th>\n",
       "      <th>payday</th>\n",
       "      <th>weather</th>\n",
       "      <th>precipitation</th>\n",
       "      <th>temperature</th>\n",
       "      <th>kcal_isna</th>\n",
       "      <th>...</th>\n",
       "      <th>payday_before1</th>\n",
       "      <th>payday_after1</th>\n",
       "      <th>weather_before1</th>\n",
       "      <th>sale_before1</th>\n",
       "      <th>moving_avg</th>\n",
       "      <th>quarter</th>\n",
       "      <th>month</th>\n",
       "      <th>day</th>\n",
       "      <th>quarter_y_maen</th>\n",
       "      <th>name</th>\n",
       "    </tr>\n",
       "  </thead>\n",
       "  <tbody>\n",
       "    <tr>\n",
       "      <th>0</th>\n",
       "      <td>0</td>\n",
       "      <td>0</td>\n",
       "      <td>398.970588</td>\n",
       "      <td>0</td>\n",
       "      <td>0</td>\n",
       "      <td>0</td>\n",
       "      <td>0</td>\n",
       "      <td>0</td>\n",
       "      <td>19.8</td>\n",
       "      <td>1</td>\n",
       "      <td>...</td>\n",
       "      <td>0</td>\n",
       "      <td>0</td>\n",
       "      <td>0.0</td>\n",
       "      <td>101.0</td>\n",
       "      <td>86.623188</td>\n",
       "      <td>4</td>\n",
       "      <td>131.666667</td>\n",
       "      <td>0.566667</td>\n",
       "      <td>134.321429</td>\n",
       "      <td>76</td>\n",
       "    </tr>\n",
       "    <tr>\n",
       "      <th>1</th>\n",
       "      <td>3</td>\n",
       "      <td>1</td>\n",
       "      <td>406.714286</td>\n",
       "      <td>0</td>\n",
       "      <td>0</td>\n",
       "      <td>0</td>\n",
       "      <td>0</td>\n",
       "      <td>0</td>\n",
       "      <td>17.0</td>\n",
       "      <td>1</td>\n",
       "      <td>...</td>\n",
       "      <td>0</td>\n",
       "      <td>0</td>\n",
       "      <td>0.0</td>\n",
       "      <td>118.0</td>\n",
       "      <td>86.623188</td>\n",
       "      <td>4</td>\n",
       "      <td>131.666667</td>\n",
       "      <td>0.600000</td>\n",
       "      <td>134.321429</td>\n",
       "      <td>89</td>\n",
       "    </tr>\n",
       "    <tr>\n",
       "      <th>2</th>\n",
       "      <td>2</td>\n",
       "      <td>0</td>\n",
       "      <td>406.621622</td>\n",
       "      <td>0</td>\n",
       "      <td>0</td>\n",
       "      <td>0</td>\n",
       "      <td>0</td>\n",
       "      <td>0</td>\n",
       "      <td>15.5</td>\n",
       "      <td>1</td>\n",
       "      <td>...</td>\n",
       "      <td>0</td>\n",
       "      <td>0</td>\n",
       "      <td>0.0</td>\n",
       "      <td>120.0</td>\n",
       "      <td>86.623188</td>\n",
       "      <td>4</td>\n",
       "      <td>122.125000</td>\n",
       "      <td>0.633333</td>\n",
       "      <td>134.321429</td>\n",
       "      <td>109</td>\n",
       "    </tr>\n",
       "    <tr>\n",
       "      <th>3</th>\n",
       "      <td>1</td>\n",
       "      <td>1</td>\n",
       "      <td>403.540541</td>\n",
       "      <td>0</td>\n",
       "      <td>0</td>\n",
       "      <td>0</td>\n",
       "      <td>0</td>\n",
       "      <td>0</td>\n",
       "      <td>15.2</td>\n",
       "      <td>1</td>\n",
       "      <td>...</td>\n",
       "      <td>0</td>\n",
       "      <td>0</td>\n",
       "      <td>0.0</td>\n",
       "      <td>130.0</td>\n",
       "      <td>86.623188</td>\n",
       "      <td>4</td>\n",
       "      <td>131.666667</td>\n",
       "      <td>0.666667</td>\n",
       "      <td>134.321429</td>\n",
       "      <td>116</td>\n",
       "    </tr>\n",
       "    <tr>\n",
       "      <th>4</th>\n",
       "      <td>4</td>\n",
       "      <td>1</td>\n",
       "      <td>406.782609</td>\n",
       "      <td>0</td>\n",
       "      <td>0</td>\n",
       "      <td>0</td>\n",
       "      <td>0</td>\n",
       "      <td>0</td>\n",
       "      <td>16.1</td>\n",
       "      <td>1</td>\n",
       "      <td>...</td>\n",
       "      <td>0</td>\n",
       "      <td>0</td>\n",
       "      <td>1.0</td>\n",
       "      <td>135.0</td>\n",
       "      <td>111.800000</td>\n",
       "      <td>4</td>\n",
       "      <td>120.142857</td>\n",
       "      <td>0.700000</td>\n",
       "      <td>134.321429</td>\n",
       "      <td>53</td>\n",
       "    </tr>\n",
       "    <tr>\n",
       "      <th>...</th>\n",
       "      <td>...</td>\n",
       "      <td>...</td>\n",
       "      <td>...</td>\n",
       "      <td>...</td>\n",
       "      <td>...</td>\n",
       "      <td>...</td>\n",
       "      <td>...</td>\n",
       "      <td>...</td>\n",
       "      <td>...</td>\n",
       "      <td>...</td>\n",
       "      <td>...</td>\n",
       "      <td>...</td>\n",
       "      <td>...</td>\n",
       "      <td>...</td>\n",
       "      <td>...</td>\n",
       "      <td>...</td>\n",
       "      <td>...</td>\n",
       "      <td>...</td>\n",
       "      <td>...</td>\n",
       "      <td>...</td>\n",
       "      <td>...</td>\n",
       "    </tr>\n",
       "    <tr>\n",
       "      <th>119</th>\n",
       "      <td>1</td>\n",
       "      <td>1</td>\n",
       "      <td>428.000000</td>\n",
       "      <td>4</td>\n",
       "      <td>0</td>\n",
       "      <td>0</td>\n",
       "      <td>2</td>\n",
       "      <td>0</td>\n",
       "      <td>19.0</td>\n",
       "      <td>0</td>\n",
       "      <td>...</td>\n",
       "      <td>0</td>\n",
       "      <td>0</td>\n",
       "      <td>1.0</td>\n",
       "      <td>65.0</td>\n",
       "      <td>85.000000</td>\n",
       "      <td>2</td>\n",
       "      <td>76.666667</td>\n",
       "      <td>0.700000</td>\n",
       "      <td>75.774194</td>\n",
       "      <td>26</td>\n",
       "    </tr>\n",
       "    <tr>\n",
       "      <th>120</th>\n",
       "      <td>4</td>\n",
       "      <td>0</td>\n",
       "      <td>400.000000</td>\n",
       "      <td>0</td>\n",
       "      <td>0</td>\n",
       "      <td>0</td>\n",
       "      <td>1</td>\n",
       "      <td>0</td>\n",
       "      <td>19.8</td>\n",
       "      <td>0</td>\n",
       "      <td>...</td>\n",
       "      <td>0</td>\n",
       "      <td>0</td>\n",
       "      <td>1.0</td>\n",
       "      <td>77.0</td>\n",
       "      <td>72.800000</td>\n",
       "      <td>2</td>\n",
       "      <td>76.666667</td>\n",
       "      <td>0.733333</td>\n",
       "      <td>75.774194</td>\n",
       "      <td>102</td>\n",
       "    </tr>\n",
       "    <tr>\n",
       "      <th>121</th>\n",
       "      <td>0</td>\n",
       "      <td>1</td>\n",
       "      <td>430.000000</td>\n",
       "      <td>0</td>\n",
       "      <td>0</td>\n",
       "      <td>0</td>\n",
       "      <td>1</td>\n",
       "      <td>0</td>\n",
       "      <td>23.9</td>\n",
       "      <td>0</td>\n",
       "      <td>...</td>\n",
       "      <td>0</td>\n",
       "      <td>0</td>\n",
       "      <td>1.0</td>\n",
       "      <td>79.0</td>\n",
       "      <td>74.200000</td>\n",
       "      <td>2</td>\n",
       "      <td>76.666667</td>\n",
       "      <td>0.833333</td>\n",
       "      <td>75.774194</td>\n",
       "      <td>138</td>\n",
       "    </tr>\n",
       "    <tr>\n",
       "      <th>122</th>\n",
       "      <td>3</td>\n",
       "      <td>0</td>\n",
       "      <td>423.000000</td>\n",
       "      <td>0</td>\n",
       "      <td>0</td>\n",
       "      <td>0</td>\n",
       "      <td>1</td>\n",
       "      <td>0</td>\n",
       "      <td>23.7</td>\n",
       "      <td>0</td>\n",
       "      <td>...</td>\n",
       "      <td>0</td>\n",
       "      <td>0</td>\n",
       "      <td>0.0</td>\n",
       "      <td>74.0</td>\n",
       "      <td>75.800000</td>\n",
       "      <td>2</td>\n",
       "      <td>68.571429</td>\n",
       "      <td>0.866667</td>\n",
       "      <td>75.774194</td>\n",
       "      <td>101</td>\n",
       "    </tr>\n",
       "    <tr>\n",
       "      <th>123</th>\n",
       "      <td>2</td>\n",
       "      <td>1</td>\n",
       "      <td>414.000000</td>\n",
       "      <td>0</td>\n",
       "      <td>0</td>\n",
       "      <td>0</td>\n",
       "      <td>0</td>\n",
       "      <td>0</td>\n",
       "      <td>25.7</td>\n",
       "      <td>0</td>\n",
       "      <td>...</td>\n",
       "      <td>0</td>\n",
       "      <td>0</td>\n",
       "      <td>0.0</td>\n",
       "      <td>64.0</td>\n",
       "      <td>69.800000</td>\n",
       "      <td>2</td>\n",
       "      <td>76.666667</td>\n",
       "      <td>0.900000</td>\n",
       "      <td>75.774194</td>\n",
       "      <td>145</td>\n",
       "    </tr>\n",
       "  </tbody>\n",
       "</table>\n",
       "<p>124 rows × 23 columns</p>\n",
       "</div>"
      ],
      "text/plain": [
       "     week  soldout        kcal  remarks  event  payday  weather precipitation  \\\n",
       "0       0        0  398.970588        0      0       0        0             0   \n",
       "1       3        1  406.714286        0      0       0        0             0   \n",
       "2       2        0  406.621622        0      0       0        0             0   \n",
       "3       1        1  403.540541        0      0       0        0             0   \n",
       "4       4        1  406.782609        0      0       0        0             0   \n",
       "..    ...      ...         ...      ...    ...     ...      ...           ...   \n",
       "119     1        1  428.000000        4      0       0        2             0   \n",
       "120     4        0  400.000000        0      0       0        1             0   \n",
       "121     0        1  430.000000        0      0       0        1             0   \n",
       "122     3        0  423.000000        0      0       0        1             0   \n",
       "123     2        1  414.000000        0      0       0        0             0   \n",
       "\n",
       "     temperature  kcal_isna  ...  payday_before1  payday_after1  \\\n",
       "0           19.8          1  ...               0              0   \n",
       "1           17.0          1  ...               0              0   \n",
       "2           15.5          1  ...               0              0   \n",
       "3           15.2          1  ...               0              0   \n",
       "4           16.1          1  ...               0              0   \n",
       "..           ...        ...  ...             ...            ...   \n",
       "119         19.0          0  ...               0              0   \n",
       "120         19.8          0  ...               0              0   \n",
       "121         23.9          0  ...               0              0   \n",
       "122         23.7          0  ...               0              0   \n",
       "123         25.7          0  ...               0              0   \n",
       "\n",
       "     weather_before1  sale_before1  moving_avg  quarter       month       day  \\\n",
       "0                0.0         101.0   86.623188        4  131.666667  0.566667   \n",
       "1                0.0         118.0   86.623188        4  131.666667  0.600000   \n",
       "2                0.0         120.0   86.623188        4  122.125000  0.633333   \n",
       "3                0.0         130.0   86.623188        4  131.666667  0.666667   \n",
       "4                1.0         135.0  111.800000        4  120.142857  0.700000   \n",
       "..               ...           ...         ...      ...         ...       ...   \n",
       "119              1.0          65.0   85.000000        2   76.666667  0.700000   \n",
       "120              1.0          77.0   72.800000        2   76.666667  0.733333   \n",
       "121              1.0          79.0   74.200000        2   76.666667  0.833333   \n",
       "122              0.0          74.0   75.800000        2   68.571429  0.866667   \n",
       "123              0.0          64.0   69.800000        2   76.666667  0.900000   \n",
       "\n",
       "     quarter_y_maen  name  \n",
       "0        134.321429    76  \n",
       "1        134.321429    89  \n",
       "2        134.321429   109  \n",
       "3        134.321429   116  \n",
       "4        134.321429    53  \n",
       "..              ...   ...  \n",
       "119       75.774194    26  \n",
       "120       75.774194   102  \n",
       "121       75.774194   138  \n",
       "122       75.774194   101  \n",
       "123       75.774194   145  \n",
       "\n",
       "[124 rows x 23 columns]"
      ]
     },
     "execution_count": 318,
     "metadata": {},
     "output_type": "execute_result"
    }
   ],
   "source": [
    "x_train"
   ]
  },
  {
   "cell_type": "code",
   "execution_count": 323,
   "id": "685074be-76ce-48fa-af65-28fbeb5dfdcb",
   "metadata": {},
   "outputs": [],
   "source": [
    "x_train[\"y\"] = y_train \n",
    "x_val[\"y\"] = y_val \n",
    "x_test[\"y\"] = y_test\n",
    "\n",
    "x_train.to_csv(\"train.csv\", index=False)\n",
    "x_val.to_csv(\"val.csv\", index=False)\n",
    "x_test.to_csv(\"test.csv\", index=False)"
   ]
  }
 ],
 "metadata": {
  "kernelspec": {
   "display_name": "Python 3 (ipykernel)",
   "language": "python",
   "name": "python3"
  },
  "language_info": {
   "codemirror_mode": {
    "name": "ipython",
    "version": 3
   },
   "file_extension": ".py",
   "mimetype": "text/x-python",
   "name": "python",
   "nbconvert_exporter": "python",
   "pygments_lexer": "ipython3",
   "version": "3.8.10"
  }
 },
 "nbformat": 4,
 "nbformat_minor": 5
}
